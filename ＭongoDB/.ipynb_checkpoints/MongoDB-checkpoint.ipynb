{
 "cells": [
  {
   "cell_type": "markdown",
   "metadata": {},
   "source": [
    "## MongoDB\n",
    "MongoDB一種強大，靈活、且易於擴展的文件導向式(document-oriented)資料庫，與傳統的關聯式導向資料庫相比，它不再有row的概念，取而代之的是document的概念\n",
    "\n",
    "面向檔案的儲存:以JSON格式的檔案來保存數據"
   ]
  },
  {
   "cell_type": "markdown",
   "metadata": {},
   "source": [
    "## 載入MongoDB"
   ]
  },
  {
   "cell_type": "code",
   "execution_count": 1,
   "metadata": {
    "ExecuteTime": {
     "end_time": "2019-03-03T03:51:48.430485Z",
     "start_time": "2019-03-03T03:51:48.154578Z"
    }
   },
   "outputs": [],
   "source": [
    "import requests\n",
    "from pymongo import MongoClient"
   ]
  },
  {
   "cell_type": "markdown",
   "metadata": {},
   "source": [
    "##  建立連結\n",
    "命名其中一個database"
   ]
  },
  {
   "cell_type": "code",
   "execution_count": 2,
   "metadata": {
    "ExecuteTime": {
     "end_time": "2019-03-03T03:51:48.464326Z",
     "start_time": "2019-03-03T03:51:48.458123Z"
    }
   },
   "outputs": [],
   "source": [
    "client=MongoClient()\n",
    "db=client['nobel']"
   ]
  },
  {
   "cell_type": "markdown",
   "metadata": {},
   "source": [
    "## insert_many insert_one \n",
    "insert_many: 批量插入資料集\n",
    "\n",
    "insert_one: 插入一個row,包含column名稱"
   ]
  },
  {
   "cell_type": "code",
   "execution_count": 3,
   "metadata": {
    "ExecuteTime": {
     "end_time": "2019-03-03T03:51:56.603150Z",
     "start_time": "2019-03-03T03:51:48.482853Z"
    }
   },
   "outputs": [],
   "source": [
    "for collection_name in ['prizes', 'laureates']:\n",
    "    singular = collection_name[:-1]\n",
    "    response = requests.get(\"http://api.nobelprize.org/v1/{}.json\".format(singular))\n",
    "\n",
    "    # Returns the json-encoded content of a response\n",
    "\"\"\"\n",
    "加入document進入database裡\n",
    "\"\"\"\n",
    "    documents = response.json()[collection_name]\n",
    "    db[collection_name].insert_many(documents)"
   ]
  },
  {
   "cell_type": "markdown",
   "metadata": {},
   "source": [
    "## count_documents \n",
    "計算該欄位的資訊"
   ]
  },
  {
   "cell_type": "code",
   "execution_count": 143,
   "metadata": {
    "ExecuteTime": {
     "end_time": "2019-03-05T14:35:42.727239Z",
     "start_time": "2019-03-05T14:35:42.718480Z"
    }
   },
   "outputs": [
    {
     "name": "stdout",
     "output_type": "stream",
     "text": [
      "有 1180 個prizes資料\n",
      "有 1868 個laureates資料\n"
     ]
    }
   ],
   "source": [
    "assert client.nobel == db\n",
    "assert db.prizes == db['prizes']\n",
    "\n",
    "# Count documents\n",
    "n_prizes=db.prizes.count_documents({})\n",
    "n_laureates=db.laureates.count_documents({})\n",
    "\n",
    "print(f'有 {n_prizes} 個prizes資料')\n",
    "print(f'有 {n_laureates} 個laureates資料')"
   ]
  },
  {
   "cell_type": "code",
   "execution_count": 150,
   "metadata": {
    "ExecuteTime": {
     "end_time": "2019-03-05T15:07:08.868777Z",
     "start_time": "2019-03-05T15:07:08.861973Z"
    }
   },
   "outputs": [
    {
     "data": {
      "text/plain": [
       "76"
      ]
     },
     "execution_count": 150,
     "metadata": {},
     "output_type": "execute_result"
    }
   ],
   "source": [
    "# $出生在1700年之前\n",
    "db.laureates.count_documents({\"born\": {\"$lt\": \"1700\"}})"
   ]
  },
  {
   "cell_type": "code",
   "execution_count": 151,
   "metadata": {
    "ExecuteTime": {
     "end_time": "2019-03-05T15:07:38.356018Z",
     "start_time": "2019-03-05T15:07:38.336795Z"
    }
   },
   "outputs": [
    {
     "data": {
      "text/plain": [
       "10"
      ]
     },
     "execution_count": 151,
     "metadata": {},
     "output_type": "execute_result"
    }
   ],
   "source": [
    "# Composing filters 找到自己指定的內容\n",
    "# match的功能\n",
    "criteria = {'diedCountry': 'USA', 'bornCountry': 'Germany'}\n",
    "db.laureates.count_documents(criteria)"
   ]
  },
  {
   "cell_type": "code",
   "execution_count": 168,
   "metadata": {
    "ExecuteTime": {
     "end_time": "2019-03-05T16:21:58.212148Z",
     "start_time": "2019-03-05T16:21:58.202708Z"
    }
   },
   "outputs": [
    {
     "data": {
      "text/plain": [
       "414"
      ]
     },
     "execution_count": 168,
     "metadata": {},
     "output_type": "execute_result"
    }
   ],
   "source": [
    "db.laureates.count_documents({\"prizes.share\": \"1\",\"prizes.year\": {\"$gte\": \"1945\"}})"
   ]
  },
  {
   "cell_type": "markdown",
   "metadata": {},
   "source": [
    "## find_one\n",
    "找出其中一筆資料"
   ]
  },
  {
   "cell_type": "code",
   "execution_count": 144,
   "metadata": {
    "ExecuteTime": {
     "end_time": "2019-03-05T14:46:36.251584Z",
     "start_time": "2019-03-05T14:46:36.198394Z"
    }
   },
   "outputs": [
    {
     "data": {
      "text/plain": [
       "{'_id': ObjectId('5c7a5900db0b51193a88b28c'),\n",
       " 'year': '2018',\n",
       " 'category': 'physics',\n",
       " 'overallMotivation': '“for groundbreaking inventions in the field of laser physics”',\n",
       " 'laureates': [{'id': '960',\n",
       "   'firstname': 'Arthur',\n",
       "   'surname': 'Ashkin',\n",
       "   'motivation': '\"for the optical tweezers and their application to biological systems\"',\n",
       "   'share': '2'},\n",
       "  {'id': '961',\n",
       "   'firstname': 'Gérard',\n",
       "   'surname': 'Mourou',\n",
       "   'motivation': '\"for their method of generating high-intensity, ultra-short optical pulses\"',\n",
       "   'share': '4'},\n",
       "  {'id': '962',\n",
       "   'firstname': 'Donna',\n",
       "   'surname': 'Strickland',\n",
       "   'motivation': '\"for their method of generating high-intensity, ultra-short optical pulses\"',\n",
       "   'share': '4'}]}"
      ]
     },
     "execution_count": 144,
     "metadata": {},
     "output_type": "execute_result"
    }
   ],
   "source": [
    "# Find one document to inspect\n",
    "# 找出prizes裡面的其中一筆資料\n",
    "doc = db.prizes.find_one({})\n",
    "\n",
    "doc"
   ]
  },
  {
   "cell_type": "markdown",
   "metadata": {},
   "source": [
    "## list_database_names list_collection_names\n",
    "\n",
    "list_database_names : 列出database名稱\n",
    "\n",
    "list_collection_names : 列出database裡不同資料集的名稱"
   ]
  },
  {
   "cell_type": "code",
   "execution_count": 7,
   "metadata": {
    "ExecuteTime": {
     "end_time": "2019-03-03T03:51:56.820939Z",
     "start_time": "2019-03-03T03:51:56.806350Z"
    }
   },
   "outputs": [
    {
     "name": "stdout",
     "output_type": "stream",
     "text": [
      "['admin', 'config', 'local', 'nobel']\n",
      "['laureates', 'prizes']\n"
     ]
    }
   ],
   "source": [
    "# Save a list of names of the databases managed by client\n",
    "db_names=client.list_database_names()\n",
    "print(db_names)\n",
    "\n",
    "# Save a list of names of the collections managed by the \"nobel\" database\n",
    "nobel_coll_names=client.nobel.list_collection_names()\n",
    "print(nobel_coll_names)"
   ]
  },
  {
   "cell_type": "code",
   "execution_count": 152,
   "metadata": {
    "ExecuteTime": {
     "end_time": "2019-03-05T15:53:29.309019Z",
     "start_time": "2019-03-05T15:53:29.197373Z"
    }
   },
   "outputs": [
    {
     "name": "stdout",
     "output_type": "stream",
     "text": [
      "1882\n"
     ]
    }
   ],
   "source": [
    "## Compute the total number of laureate prizes\n",
    "print(sum(len(doc['prizes']) for doc in db.laureates.find()))"
   ]
  },
  {
   "cell_type": "markdown",
   "metadata": {},
   "source": [
    "## Operator "
   ]
  },
  {
   "cell_type": "markdown",
   "metadata": {},
   "source": [
    "### $in \n",
    "\n",
    "#$in : 可以指定不同類型的條件和值,如正在將使用者的ID號遷移成使用者名的過程中,要做到兩者兼顧的查詢"
   ]
  },
  {
   "cell_type": "code",
   "execution_count": 120,
   "metadata": {
    "ExecuteTime": {
     "end_time": "2019-03-03T08:07:26.939846Z",
     "start_time": "2019-03-03T08:07:26.870735Z"
    }
   },
   "outputs": [
    {
     "name": "stdout",
     "output_type": "stream",
     "text": [
      "582\n"
     ]
    }
   ],
   "source": [
    "count={'bornCountry':{'$in':['USA','Canada','Mexico']}}\n",
    "print(db.laureates.count_documents(count))"
   ]
  },
  {
   "cell_type": "markdown",
   "metadata": {},
   "source": [
    "### $ne\n",
    "\n",
    "$ne : not equal"
   ]
  },
  {
   "cell_type": "code",
   "execution_count": 12,
   "metadata": {
    "ExecuteTime": {
     "end_time": "2019-03-03T03:51:57.072397Z",
     "start_time": "2019-03-03T03:51:57.058303Z"
    }
   },
   "outputs": [
    {
     "name": "stdout",
     "output_type": "stream",
     "text": [
      "138\n"
     ]
    }
   ],
   "source": [
    "#$ne (not equal)\n",
    "count={'bornCountry':{'$ne':'USA'},'diedCountry':'USA'}\n",
    "print(db.laureates.count_documents(count))"
   ]
  },
  {
   "cell_type": "code",
   "execution_count": 13,
   "metadata": {
    "ExecuteTime": {
     "end_time": "2019-03-03T03:51:57.108062Z",
     "start_time": "2019-03-03T03:51:57.101675Z"
    }
   },
   "outputs": [
    {
     "data": {
      "text/plain": [
       "20"
      ]
     },
     "execution_count": 13,
     "metadata": {},
     "output_type": "execute_result"
    }
   ],
   "source": [
    "criteria = {'bornCountry': 'Austria',\n",
    "            'prizes.affiliations.country': {\"$ne\": 'Austria'}}\n",
    "db.laureates.count_documents(criteria)"
   ]
  },
  {
   "cell_type": "markdown",
   "metadata": {},
   "source": [
    "### $exist\n",
    "\n",
    "$exists用來判斷一個元素是否存在\n",
    "\n",
    "如果存在元素a,就返回  存在表示使用True\n",
    "\n",
    "如果不存在元素a，就返回 不存在表示False"
   ]
  },
  {
   "cell_type": "code",
   "execution_count": 167,
   "metadata": {
    "ExecuteTime": {
     "end_time": "2019-03-05T16:13:03.056173Z",
     "start_time": "2019-03-05T16:13:03.049552Z"
    }
   },
   "outputs": [
    {
     "data": {
      "text/plain": [
       "{'_id': ObjectId('5c7a5903db0b51193a88b6b5'),\n",
       " 'id': '482',\n",
       " 'firstname': 'Comité international de la Croix Rouge (International Committee of the Red Cross)',\n",
       " 'born': '0000-00-00',\n",
       " 'died': '0000-00-00',\n",
       " 'gender': 'org',\n",
       " 'prizes': [{'year': '1917',\n",
       "   'category': 'peace',\n",
       "   'share': '1',\n",
       "   'affiliations': [[]]},\n",
       "  {'year': '1944', 'category': 'peace', 'share': '1', 'affiliations': [[]]},\n",
       "  {'year': '1963', 'category': 'peace', 'share': '2', 'affiliations': [[]]}]}"
      ]
     },
     "execution_count": 167,
     "metadata": {},
     "output_type": "execute_result"
    }
   ],
   "source": [
    "db.laureates.find_one({'id':'482'})"
   ]
  },
  {
   "cell_type": "code",
   "execution_count": 154,
   "metadata": {
    "ExecuteTime": {
     "end_time": "2019-03-05T15:57:54.342117Z",
     "start_time": "2019-03-05T15:57:54.330636Z"
    }
   },
   "outputs": [],
   "source": [
    "criteria = {'born': {'$exists': False}}\n",
    "assert db.laureates.count_documents(criteria) == 0"
   ]
  },
  {
   "cell_type": "code",
   "execution_count": 15,
   "metadata": {
    "ExecuteTime": {
     "end_time": "2019-03-03T03:51:57.182852Z",
     "start_time": "2019-03-03T03:51:57.177553Z"
    }
   },
   "outputs": [
    {
     "name": "stdout",
     "output_type": "stream",
     "text": [
      "{'_id': ObjectId('5c7a5903db0b51193a88b6b5'), 'id': '482', 'firstname': 'Comité international de la Croix Rouge (International Committee of the Red Cross)', 'born': '0000-00-00', 'died': '0000-00-00', 'gender': 'org', 'prizes': [{'year': '1917', 'category': 'peace', 'share': '1', 'affiliations': [[]]}, {'year': '1944', 'category': 'peace', 'share': '1', 'affiliations': [[]]}, {'year': '1963', 'category': 'peace', 'share': '2', 'affiliations': [[]]}]}\n"
     ]
    }
   ],
   "source": [
    "criteria = {\"prizes.2\": {\"$exists\": True}}\n",
    "print(db.laureates.find_one(criteria))"
   ]
  },
  {
   "cell_type": "markdown",
   "metadata": {},
   "source": [
    "## .distinct\n",
    "返回unique的值"
   ]
  },
  {
   "cell_type": "code",
   "execution_count": 16,
   "metadata": {
    "ExecuteTime": {
     "end_time": "2019-03-03T03:51:57.237876Z",
     "start_time": "2019-03-03T03:51:57.215930Z"
    }
   },
   "outputs": [
    {
     "name": "stdout",
     "output_type": "stream",
     "text": [
      "{'USSR', 'Barbados', 'Northern Rhodesia (now Zambia)', 'Philippines', 'Jamaica', 'East Germany', 'Czechoslovakia', 'Yugoslavia (now Serbia)', 'Israel', 'Tunisia', 'Greece', 'Gabon', 'Puerto Rico'}\n"
     ]
    }
   ],
   "source": [
    "countries = set(db.laureates.distinct('diedCountry')) - set(db.laureates.distinct('bornCountry'))\n",
    "print(countries)"
   ]
  },
  {
   "cell_type": "markdown",
   "metadata": {},
   "source": [
    "### 有條件下的distinct "
   ]
  },
  {
   "cell_type": "code",
   "execution_count": 17,
   "metadata": {
    "ExecuteTime": {
     "end_time": "2019-03-03T03:51:57.280713Z",
     "start_time": "2019-03-03T03:51:57.271526Z"
    }
   },
   "outputs": [
    {
     "data": {
      "text/plain": [
       "['USA', 'Denmark', 'Australia', 'United Kingdom']"
      ]
     },
     "execution_count": 17,
     "metadata": {},
     "output_type": "execute_result"
    }
   ],
   "source": [
    "db.laureates.distinct('prizes.affiliations.country',{'bornCountry':'USA'})"
   ]
  },
  {
   "cell_type": "markdown",
   "metadata": {},
   "source": [
    "##  $elemMatch\n",
    "查询Array Field中的元素是否满足一系列的查詢條件。"
   ]
  },
  {
   "cell_type": "code",
   "execution_count": 169,
   "metadata": {
    "ExecuteTime": {
     "end_time": "2019-03-05T16:22:21.856931Z",
     "start_time": "2019-03-05T16:22:21.839533Z"
    }
   },
   "outputs": [
    {
     "data": {
      "text/plain": [
       "412"
      ]
     },
     "execution_count": 169,
     "metadata": {},
     "output_type": "execute_result"
    }
   ],
   "source": [
    "db.laureates.count_documents({\"prizes\": {\"$elemMatch\": {\"share\": \"1\", \"year\":  {\"$gte\": \"1945\"}}}})"
   ]
  },
  {
   "cell_type": "code",
   "execution_count": 20,
   "metadata": {
    "ExecuteTime": {
     "end_time": "2019-03-03T03:51:57.403825Z",
     "start_time": "2019-03-03T03:51:57.396546Z"
    }
   },
   "outputs": [
    {
     "data": {
      "text/plain": [
       "36"
      ]
     },
     "execution_count": 20,
     "metadata": {},
     "output_type": "execute_result"
    }
   ],
   "source": [
    "db.laureates.count_documents({\"prizes\": {\"$elemMatch\": {'share':'1',\"category\": \"physics\", \"year\":  {\"$gte\": \"1945\"}}}})"
   ]
  },
  {
   "cell_type": "markdown",
   "metadata": {},
   "source": [
    "## ＄lt $gte \n",
    "\n",
    "$$$lt專指在某年之前$$\n",
    "\n",
    "$$$gte指在某年之後(包括該年)$$"
   ]
  },
  {
   "cell_type": "code",
   "execution_count": 21,
   "metadata": {
    "ExecuteTime": {
     "end_time": "2019-03-03T03:51:57.446395Z",
     "start_time": "2019-03-03T03:51:57.435464Z"
    },
    "scrolled": true
   },
   "outputs": [
    {
     "name": "stdout",
     "output_type": "stream",
     "text": [
      "0.84\n"
     ]
    }
   ],
   "source": [
    "before = {\n",
    "    \"gender\": \"org\",\n",
    "    \"prizes.year\": {\"$lt\": \"1945\"},\n",
    "    }\n",
    "\n",
    "# Save a filter for organization laureates with prizes won in or after 1945\n",
    "in_or_after = {\n",
    "    \"gender\": \"org\",\n",
    "    \"prizes.year\": {\"$gte\": \"1945\"},\n",
    "    }\n",
    "\n",
    "n_before = db.laureates.count_documents(before)\n",
    "n_in_or_after = db.laureates.count_documents(in_or_after)\n",
    "ratio = n_in_or_after / (n_in_or_after + n_before)\n",
    "print(ratio)"
   ]
  },
  {
   "cell_type": "markdown",
   "metadata": {},
   "source": [
    "## Regex"
   ]
  },
  {
   "cell_type": "code",
   "execution_count": 170,
   "metadata": {
    "ExecuteTime": {
     "end_time": "2019-03-05T16:24:42.423945Z",
     "start_time": "2019-03-05T16:24:42.393676Z"
    }
   },
   "outputs": [
    {
     "name": "stdout",
     "output_type": "stream",
     "text": [
      "{'Hesse-Kassel (now Germany)', 'Germany', 'East Friesland (now Germany)', 'Prussia (now Germany)', 'Germany (now Russia)', 'Bavaria (now Germany)', 'Schleswig (now Germany)', 'Germany (now France)', 'Germany (now Poland)', 'West Germany (now Germany)', 'Mecklenburg (now Germany)', 'W&uuml;rttemberg (now Germany)'}\n"
     ]
    }
   ],
   "source": [
    "from bson.regex import Regex\n",
    "\n",
    "criteria = {\"bornCountry\": Regex('Germany')}\n",
    "print(set(db.laureates.distinct(\"bornCountry\", filter=criteria)))"
   ]
  },
  {
   "cell_type": "markdown",
   "metadata": {},
   "source": [
    "###  ^ $\n",
    "\n",
    "^S代表開頭為S的字母\n",
    "\n",
    "S$代表結束為S的字母"
   ]
  },
  {
   "cell_type": "code",
   "execution_count": 25,
   "metadata": {
    "ExecuteTime": {
     "end_time": "2019-03-03T03:52:09.690307Z",
     "start_time": "2019-03-03T03:52:09.682314Z"
    }
   },
   "outputs": [
    {
     "data": {
      "text/plain": [
       "18"
      ]
     },
     "execution_count": 25,
     "metadata": {},
     "output_type": "execute_result"
    }
   ],
   "source": [
    "from bson.regex import Regex\n",
    "\n",
    "db.laureates.count_documents({\"firstname\": Regex('^G'), \"surname\": Regex('^S')})"
   ]
  },
  {
   "cell_type": "code",
   "execution_count": 26,
   "metadata": {
    "ExecuteTime": {
     "end_time": "2019-03-03T03:52:09.933831Z",
     "start_time": "2019-03-03T03:52:09.926871Z"
    }
   },
   "outputs": [
    {
     "name": "stdout",
     "output_type": "stream",
     "text": [
      "{'Germany (now Russia)', 'Germany (now France)', 'Germany (now Poland)'}\n"
     ]
    }
   ],
   "source": [
    "criteria = {\"bornCountry\": Regex(\"^\" + 'Germany \\\\(' + \"now\")}\n",
    "print(set(db.laureates.distinct(\"bornCountry\", criteria)))"
   ]
  },
  {
   "cell_type": "code",
   "execution_count": 27,
   "metadata": {
    "ExecuteTime": {
     "end_time": "2019-03-03T03:52:10.152023Z",
     "start_time": "2019-03-03T03:52:10.144501Z"
    }
   },
   "outputs": [
    {
     "name": "stdout",
     "output_type": "stream",
     "text": [
      "{'Hesse-Kassel (now Germany)', 'East Friesland (now Germany)', 'Prussia (now Germany)', 'Bavaria (now Germany)', 'Schleswig (now Germany)', 'West Germany (now Germany)', 'Mecklenburg (now Germany)', 'W&uuml;rttemberg (now Germany)'}\n"
     ]
    }
   ],
   "source": [
    "criteria={'bornCountry':Regex('now'+' Germany\\)'+'$')}\n",
    "print(set(db.laureates.distinct('bornCountry',criteria)))"
   ]
  },
  {
   "cell_type": "markdown",
   "metadata": {},
   "source": [
    "## projections\n",
    "projection用于指定返回哪些字段\n",
    "\n",
    "顯示的是一個文檔的所有字段。要想限制，可以利用 0 或 1 來設置字段列表。 1 用於顯示字段，0 用於隱藏字段。"
   ]
  },
  {
   "cell_type": "markdown",
   "metadata": {},
   "source": [
    "### {}\n",
    "可以用{}大括號找出projections {}意思為找出全部裡面的資料"
   ]
  },
  {
   "cell_type": "code",
   "execution_count": 172,
   "metadata": {
    "ExecuteTime": {
     "end_time": "2019-03-05T16:47:05.229250Z",
     "start_time": "2019-03-05T16:47:05.201699Z"
    }
   },
   "outputs": [
    {
     "data": {
      "text/plain": [
       "[{'_id': ObjectId('5c7a5903db0b51193a88b4da'),\n",
       "  'prizes': [{'year': '1901', 'category': 'physics'}]},\n",
       " {'_id': ObjectId('5c7a5903db0b51193a88b4db'),\n",
       "  'prizes': [{'year': '1902', 'category': 'physics'}]},\n",
       " {'_id': ObjectId('5c7a5903db0b51193a88b4dc'),\n",
       "  'prizes': [{'year': '1902', 'category': 'physics'}]}]"
      ]
     },
     "execution_count": 172,
     "metadata": {},
     "output_type": "execute_result"
    }
   ],
   "source": [
    "list(\n",
    "    db.laureates.find({}, {                #filter\n",
    "        \"prizes.category\": \"physics\", #projection\n",
    "        \"prizes.year\": \"1903\"\n",
    "    }))[:3]"
   ]
  },
  {
   "cell_type": "code",
   "execution_count": 173,
   "metadata": {
    "ExecuteTime": {
     "end_time": "2019-03-05T16:48:56.542435Z",
     "start_time": "2019-03-05T16:48:56.498692Z"
    }
   },
   "outputs": [
    {
     "name": "stdout",
     "output_type": "stream",
     "text": [
      "True\n"
     ]
    }
   ],
   "source": [
    "from fractions import Fraction\n",
    "\n",
    "docs=list(db.prizes.find({},['laureates.share']))\n",
    "\n",
    "check=all(1== sum(Fraction(1,int(laureate['share']))\n",
    "        for laureate in doc['laureates'])\n",
    "                 for doc in docs)\n",
    "\n",
    "print(check)"
   ]
  },
  {
   "cell_type": "markdown",
   "metadata": {},
   "source": [
    "### []\n",
    "用[]中括號找出projections"
   ]
  },
  {
   "cell_type": "code",
   "execution_count": 35,
   "metadata": {
    "ExecuteTime": {
     "end_time": "2019-03-03T03:53:51.456650Z",
     "start_time": "2019-03-03T03:53:51.448916Z"
    }
   },
   "outputs": [
    {
     "name": "stdout",
     "output_type": "stream",
     "text": [
      "['Glenn Theodore  Seaborg', 'George D.  Snell', 'Gustav  Stresemann', 'George Bernard  Shaw', 'Giorgos  Seferis', 'George J.  Stigler', 'George F.  Smoot', 'George E.  Smith', 'George P.  Smith', 'Glenn Theodore  Seaborg', 'George D.  Snell', 'Gustav  Stresemann', 'George Bernard  Shaw', 'Giorgos  Seferis', 'George J.  Stigler', 'George F.  Smoot', 'George E.  Smith', 'George P.  Smith']\n"
     ]
    }
   ],
   "source": [
    "name = [\n",
    "    '  '.join([doc['firstname'], doc['surname']])\n",
    "    for doc in (db.laureates.find({\n",
    "        \"firstname\": {\n",
    "            \"$regex\": \"^G\"\n",
    "        },\n",
    "        \"surname\": {\n",
    "            \"$regex\": \"^S\"\n",
    "        }\n",
    "    }, [\"firstname\", \"surname\"]))\n",
    "]\n",
    "\n",
    "print(name)"
   ]
  },
  {
   "cell_type": "markdown",
   "metadata": {},
   "source": [
    "## sort \n",
    "\n",
    "1 for ascending and -1 for descending.\n",
    "\n",
    "sort : 先call誰 就開始sort誰"
   ]
  },
  {
   "cell_type": "code",
   "execution_count": 66,
   "metadata": {
    "ExecuteTime": {
     "end_time": "2019-03-03T04:33:00.369459Z",
     "start_time": "2019-03-03T04:33:00.347702Z"
    }
   },
   "outputs": [
    {
     "name": "stdout",
     "output_type": "stream",
     "text": [
      "{'born': '1916-08-25', 'prizes': [{'year': '1954'}]}\n",
      "{'born': '1916-08-25', 'prizes': [{'year': '1954'}]}\n",
      "{'born': '1915-06-15', 'prizes': [{'year': '1954'}]}\n",
      "{'born': '1915-06-15', 'prizes': [{'year': '1954'}]}\n",
      "{'born': '1901-02-28', 'prizes': [{'year': '1954'}, {'year': '1962'}]}\n"
     ]
    }
   ],
   "source": [
    "docs = list(db.laureates.find(\n",
    "    {\"born\": {\"$gte\": \"1900\"}, \"prizes.year\": {\"$gte\": \"1954\"}},\n",
    "    {\"born\": 1, \"prizes.year\": 1, \"_id\": 0},\n",
    "    sort=[('prizes.year',1),('born',-1)]))\n",
    "for doc in docs[:5]:\n",
    "    print(doc)"
   ]
  },
  {
   "cell_type": "markdown",
   "metadata": {},
   "source": [
    "### 用itemgeter\n",
    "operator.itemgetter取出想排序的元素"
   ]
  },
  {
   "cell_type": "code",
   "execution_count": 181,
   "metadata": {
    "ExecuteTime": {
     "end_time": "2019-03-06T14:22:45.344377Z",
     "start_time": "2019-03-06T14:22:45.314220Z"
    }
   },
   "outputs": [
    {
     "name": "stdout",
     "output_type": "stream",
     "text": [
      "1901: Wilhelm Conrad Röntgen\n",
      "1901: Wilhelm Conrad Röntgen\n",
      "1902: Hendrik Antoon Lorentz and Pieter Zeeman\n",
      "1902: Hendrik Antoon Lorentz and Pieter Zeeman\n",
      "1903: Antoine Henri Becquerel and Pierre Curie and Marie Curie, née Sklodowska\n",
      "1903: Antoine Henri Becquerel and Pierre Curie and Marie Curie, née Sklodowska\n",
      "1904: Lord Rayleigh (John William Strutt)\n",
      "1904: Lord Rayleigh (John William Strutt)\n",
      "1905: Philipp Eduard Anton von Lenard\n",
      "1905: Philipp Eduard Anton von Lenard\n",
      "1906: Joseph John Thomson\n",
      "1906: Joseph John Thomson\n",
      "1907: Albert Abraham Michelson\n",
      "1907: Albert Abraham Michelson\n",
      "1908: Gabriel Lippmann\n",
      "1908: Gabriel Lippmann\n",
      "1909: Karl Ferdinand Braun and Guglielmo Marconi\n",
      "1909: Karl Ferdinand Braun and Guglielmo Marconi\n",
      "1910: Johannes Diderik van der Waals\n",
      "1910: Johannes Diderik van der Waals\n",
      "1911: Wilhelm Wien\n",
      "1911: Wilhelm Wien\n",
      "1912: Nils Gustaf Dalén\n",
      "1912: Nils Gustaf Dalén\n",
      "1913: Heike Kamerlingh Onnes\n",
      "1913: Heike Kamerlingh Onnes\n",
      "1914: Max von Laue\n",
      "1914: Max von Laue\n",
      "1915: Sir William Henry Bragg and William Lawrence Bragg\n",
      "1915: Sir William Henry Bragg and William Lawrence Bragg\n",
      "1917: Charles Glover Barkla\n",
      "1917: Charles Glover Barkla\n",
      "1918: Max Karl Ernst Ludwig Planck\n",
      "1918: Max Karl Ernst Ludwig Planck\n",
      "1919: Johannes Stark\n",
      "1919: Johannes Stark\n",
      "1920: Charles Edouard Guillaume\n",
      "1920: Charles Edouard Guillaume\n",
      "1921: Albert Einstein\n",
      "1921: Albert Einstein\n",
      "1922: Niels Henrik David Bohr\n",
      "1922: Niels Henrik David Bohr\n",
      "1923: Robert Andrews Millikan\n",
      "1923: Robert Andrews Millikan\n",
      "1924: Karl Manne Georg Siegbahn\n",
      "1924: Karl Manne Georg Siegbahn\n",
      "1925: James Franck and Gustav Ludwig Hertz\n",
      "1925: James Franck and Gustav Ludwig Hertz\n",
      "1926: Jean Baptiste Perrin\n",
      "1926: Jean Baptiste Perrin\n",
      "1927: Arthur Holly Compton and Charles Thomson Rees Wilson\n",
      "1927: Arthur Holly Compton and Charles Thomson Rees Wilson\n",
      "1928: Owen Willans Richardson\n",
      "1928: Owen Willans Richardson\n",
      "1929: Prince Louis-Victor Pierre Raymond de Broglie\n",
      "1929: Prince Louis-Victor Pierre Raymond de Broglie\n",
      "1930: Sir Chandrasekhara Venkata Raman\n",
      "1930: Sir Chandrasekhara Venkata Raman\n",
      "1932: Werner Karl Heisenberg\n",
      "1932: Werner Karl Heisenberg\n",
      "1933: Paul Adrien Maurice Dirac and Erwin Schrödinger\n",
      "1933: Paul Adrien Maurice Dirac and Erwin Schrödinger\n",
      "1935: James Chadwick\n",
      "1935: James Chadwick\n",
      "1936: Carl David Anderson and Victor Franz Hess\n",
      "1936: Carl David Anderson and Victor Franz Hess\n",
      "1937: Clinton Joseph Davisson and George Paget Thomson\n",
      "1937: Clinton Joseph Davisson and George Paget Thomson\n",
      "1938: Enrico Fermi\n",
      "1938: Enrico Fermi\n",
      "1939: Ernest Orlando Lawrence\n",
      "1939: Ernest Orlando Lawrence\n",
      "1943: Otto Stern\n",
      "1943: Otto Stern\n",
      "1944: Isidor Isaac Rabi\n",
      "1944: Isidor Isaac Rabi\n",
      "1945: Wolfgang Pauli\n",
      "1945: Wolfgang Pauli\n",
      "1946: Percy Williams Bridgman\n",
      "1946: Percy Williams Bridgman\n",
      "1947: Sir Edward Victor Appleton\n",
      "1947: Sir Edward Victor Appleton\n",
      "1948: Patrick Maynard Stuart Blackett\n",
      "1948: Patrick Maynard Stuart Blackett\n",
      "1949: Hideki Yukawa\n",
      "1949: Hideki Yukawa\n",
      "1950: Cecil Frank Powell\n",
      "1950: Cecil Frank Powell\n",
      "1951: Sir John Douglas Cockcroft and Ernest Thomas Sinton Walton\n",
      "1951: Sir John Douglas Cockcroft and Ernest Thomas Sinton Walton\n",
      "1952: Felix Bloch and Edward Mills Purcell\n",
      "1952: Felix Bloch and Edward Mills Purcell\n",
      "1953: Frits Zernike\n",
      "1953: Frits Zernike\n",
      "1954: Max Born and Walther Bothe\n",
      "1954: Max Born and Walther Bothe\n",
      "1955: Polykarp Kusch and Willis Eugene Lamb\n",
      "1955: Polykarp Kusch and Willis Eugene Lamb\n",
      "1956: John Bardeen and Walter Houser Brattain and William Bradford Shockley\n",
      "1956: John Bardeen and Walter Houser Brattain and William Bradford Shockley\n",
      "1957: Tsung-Dao (T.D.) Lee and Chen Ning Yang\n",
      "1957: Tsung-Dao (T.D.) Lee and Chen Ning Yang\n",
      "1958: Pavel Alekseyevich Cherenkov and Il´ja Mikhailovich Frank and Igor Yevgenyevich Tamm\n",
      "1958: Pavel Alekseyevich Cherenkov and Il´ja Mikhailovich Frank and Igor Yevgenyevich Tamm\n",
      "1959: Owen Chamberlain and Emilio Gino Segrè\n",
      "1959: Owen Chamberlain and Emilio Gino Segrè\n",
      "1960: Donald Arthur Glaser\n",
      "1960: Donald Arthur Glaser\n",
      "1961: Robert Hofstadter and Rudolf Ludwig Mössbauer\n",
      "1961: Robert Hofstadter and Rudolf Ludwig Mössbauer\n",
      "1962: Lev Davidovich Landau\n",
      "1962: Lev Davidovich Landau\n",
      "1963: Maria Goeppert Mayer and J. Hans D. Jensen and Eugene Paul Wigner\n",
      "1963: Maria Goeppert Mayer and J. Hans D. Jensen and Eugene Paul Wigner\n",
      "1964: Nicolay Gennadiyevich Basov and Aleksandr Mikhailovich Prokhorov and Charles Hard Townes\n",
      "1964: Nicolay Gennadiyevich Basov and Aleksandr Mikhailovich Prokhorov and Charles Hard Townes\n",
      "1965: Richard P. Feynman and Julian Schwinger and Sin-Itiro Tomonaga\n",
      "1965: Richard P. Feynman and Julian Schwinger and Sin-Itiro Tomonaga\n",
      "1966: Alfred Kastler\n",
      "1966: Alfred Kastler\n",
      "1967: Hans Albrecht Bethe\n",
      "1967: Hans Albrecht Bethe\n",
      "1968: Luis Walter Alvarez\n",
      "1968: Luis Walter Alvarez\n",
      "1969: Murray Gell-Mann\n",
      "1969: Murray Gell-Mann\n",
      "1970: Hannes Olof Gösta Alfvén and Louis Eugène Félix Néel\n",
      "1970: Hannes Olof Gösta Alfvén and Louis Eugène Félix Néel\n",
      "1971: Dennis Gabor\n",
      "1971: Dennis Gabor\n",
      "1972: John Bardeen and Leon Neil Cooper and John Robert Schrieffer\n",
      "1972: John Bardeen and Leon Neil Cooper and John Robert Schrieffer\n",
      "1973: Leo Esaki and Ivar Giaever and Brian David Josephson\n",
      "1973: Leo Esaki and Ivar Giaever and Brian David Josephson\n",
      "1974: Antony Hewish and Sir Martin Ryle\n",
      "1974: Antony Hewish and Sir Martin Ryle\n",
      "1975: Aage Niels Bohr and Ben Roy Mottelson and Leo James Rainwater\n",
      "1975: Aage Niels Bohr and Ben Roy Mottelson and Leo James Rainwater\n",
      "1976: Burton Richter and Samuel Chao Chung Ting\n",
      "1976: Burton Richter and Samuel Chao Chung Ting\n",
      "1977: Philip Warren Anderson and Sir Nevill Francis Mott and John Hasbrouck van Vleck\n",
      "1977: Philip Warren Anderson and Sir Nevill Francis Mott and John Hasbrouck van Vleck\n",
      "1978: Pyotr Leonidovich Kapitsa and Arno Allan Penzias and Robert Woodrow Wilson\n",
      "1978: Pyotr Leonidovich Kapitsa and Arno Allan Penzias and Robert Woodrow Wilson\n",
      "1979: Sheldon Lee Glashow and Abdus Salam and Steven Weinberg\n",
      "1979: Sheldon Lee Glashow and Abdus Salam and Steven Weinberg\n",
      "1980: James Watson Cronin and Val Logsdon Fitch\n",
      "1980: James Watson Cronin and Val Logsdon Fitch\n",
      "1981: Nicolaas Bloembergen and Arthur Leonard Schawlow and Kai M. Siegbahn\n",
      "1981: Nicolaas Bloembergen and Arthur Leonard Schawlow and Kai M. Siegbahn\n",
      "1982: Kenneth G. Wilson\n",
      "1982: Kenneth G. Wilson\n",
      "1983: Subramanyan Chandrasekhar and William Alfred Fowler\n",
      "1983: Subramanyan Chandrasekhar and William Alfred Fowler\n",
      "1984: Carlo Rubbia and Simon van der Meer\n",
      "1984: Carlo Rubbia and Simon van der Meer\n",
      "1985: Klaus von Klitzing\n",
      "1985: Klaus von Klitzing\n",
      "1986: Gerd Binnig and Heinrich Rohrer and Ernst Ruska\n",
      "1986: Gerd Binnig and Heinrich Rohrer and Ernst Ruska\n",
      "1987: J. Georg Bednorz and K. Alexander Müller\n",
      "1987: J. Georg Bednorz and K. Alexander Müller\n",
      "1988: Leon M. Lederman and Melvin Schwartz and Jack Steinberger\n",
      "1988: Leon M. Lederman and Melvin Schwartz and Jack Steinberger\n",
      "1989: Hans G. Dehmelt and Wolfgang Paul and Norman F. Ramsey\n",
      "1989: Hans G. Dehmelt and Wolfgang Paul and Norman F. Ramsey\n",
      "1990: Jerome I. Friedman and Henry W. Kendall and Richard E. Taylor\n",
      "1990: Jerome I. Friedman and Henry W. Kendall and Richard E. Taylor\n",
      "1991: Pierre-Gilles de Gennes\n",
      "1991: Pierre-Gilles de Gennes\n",
      "1992: Georges Charpak\n",
      "1992: Georges Charpak\n",
      "1993: Russell A. Hulse and Joseph H. Taylor Jr.\n",
      "1993: Russell A. Hulse and Joseph H. Taylor Jr.\n",
      "1994: Bertram N. Brockhouse and Clifford G. Shull\n",
      "1994: Bertram N. Brockhouse and Clifford G. Shull\n",
      "1995: Martin L. Perl and Frederick Reines\n",
      "1995: Martin L. Perl and Frederick Reines\n",
      "1996: David M. Lee and Douglas D. Osheroff and Robert C. Richardson\n",
      "1996: David M. Lee and Douglas D. Osheroff and Robert C. Richardson\n",
      "1997: Steven Chu and Claude Cohen-Tannoudji and William D. Phillips\n",
      "1997: Steven Chu and Claude Cohen-Tannoudji and William D. Phillips\n",
      "1998: Robert B. Laughlin and Horst L. Störmer and Daniel C. Tsui\n",
      "1998: Robert B. Laughlin and Horst L. Störmer and Daniel C. Tsui\n",
      "1999: Gerardus 't Hooft and Martinus J.G. Veltman\n",
      "1999: Gerardus 't Hooft and Martinus J.G. Veltman\n",
      "2000: Zhores I. Alferov and Jack S. Kilby and Herbert Kroemer\n",
      "2000: Zhores I. Alferov and Jack S. Kilby and Herbert Kroemer\n",
      "2001: Eric A. Cornell and Wolfgang Ketterle and Carl E. Wieman\n",
      "2001: Eric A. Cornell and Wolfgang Ketterle and Carl E. Wieman\n",
      "2002: Raymond Davis Jr. and Riccardo Giacconi and Masatoshi Koshiba\n",
      "2002: Raymond Davis Jr. and Riccardo Giacconi and Masatoshi Koshiba\n",
      "2003: Alexei A. Abrikosov and Vitaly L. Ginzburg and Anthony J. Leggett\n",
      "2003: Alexei A. Abrikosov and Vitaly L. Ginzburg and Anthony J. Leggett\n",
      "2004: David J. Gross and H. David Politzer and Frank Wilczek\n",
      "2004: David J. Gross and H. David Politzer and Frank Wilczek\n",
      "2005: Roy J. Glauber and John L. Hall and Theodor W. Hänsch\n",
      "2005: Roy J. Glauber and John L. Hall and Theodor W. Hänsch\n",
      "2006: John C. Mather and George F. Smoot\n",
      "2006: John C. Mather and George F. Smoot\n",
      "2007: Albert Fert and Peter Grünberg\n",
      "2007: Albert Fert and Peter Grünberg\n",
      "2008: Makoto Kobayashi and Toshihide Maskawa and Yoichiro Nambu\n",
      "2008: Makoto Kobayashi and Toshihide Maskawa and Yoichiro Nambu\n",
      "2009: Willard S. Boyle and Charles Kuen Kao and George E. Smith\n",
      "2009: Willard S. Boyle and Charles Kuen Kao and George E. Smith\n",
      "2010: Andre Geim and Konstantin Novoselov\n",
      "2010: Andre Geim and Konstantin Novoselov\n",
      "2011: Saul Perlmutter and Adam G. Riess and Brian P. Schmidt\n",
      "2011: Saul Perlmutter and Adam G. Riess and Brian P. Schmidt\n",
      "2012: Serge Haroche and David J. Wineland\n",
      "2012: Serge Haroche and David J. Wineland\n",
      "2013: François Englert and Peter W. Higgs\n",
      "2013: François Englert and Peter W. Higgs\n",
      "2014: Isamu Akasaki and Hiroshi Amano and Shuji Nakamura\n",
      "2014: Isamu Akasaki and Hiroshi Amano and Shuji Nakamura\n",
      "2015: Takaaki Kajita and Arthur B. McDonald\n",
      "2015: Takaaki Kajita and Arthur B. McDonald\n",
      "2016: F. Duncan M. Haldane and J. Michael Kosterlitz and David J. Thouless\n",
      "2016: F. Duncan M. Haldane and J. Michael Kosterlitz and David J. Thouless\n",
      "2017: Barry C. Barish and Kip S. Thorne and Rainer Weiss\n",
      "2017: Barry C. Barish and Kip S. Thorne and Rainer Weiss\n",
      "2018: Arthur Ashkin and Gérard Mourou and Donna Strickland\n",
      "2018: Arthur Ashkin and Gérard Mourou and Donna Strickland\n"
     ]
    }
   ],
   "source": [
    "from operator import itemgetter\n",
    "\n",
    "# Sort by ascending year\n",
    "sort_spec = [(\"year\", 1)]\n",
    "\n",
    "# Construct a cursor over physics prizes\n",
    "cursor = db.prizes.find({\"category\": \"physics\"},\n",
    "                        [\"year\", \"laureates.firstname\", \"laureates.surname\"],\n",
    "                        sort=sort_spec)\n",
    "docs = list(cursor)\n",
    "cursor.rewind()\n",
    "\n",
    "\n",
    "# Define a function names() to return a list of formatted names\n",
    "def names(doc):\n",
    "    formatted_names = [\n",
    "        \"{firstname} {surname}\".format(**laureate)\n",
    "        for laureate in sorted(doc[\"laureates\"], key=itemgetter(\"surname\"))\n",
    "    ]\n",
    "    return formatted_names\n",
    "\n",
    "\n",
    "#每年進行合併\n",
    "lines = [\n",
    "    \"{year}: {names}\".format(year=doc[\"year\"], names=\" and \".join(names(doc)))\n",
    "    for doc in cursor\n",
    "]\n",
    "for line in lines:\n",
    "    print(line)"
   ]
  },
  {
   "cell_type": "markdown",
   "metadata": {
    "ExecuteTime": {
     "end_time": "2019-03-03T04:59:01.818021Z",
     "start_time": "2019-03-03T04:59:01.815142Z"
    }
   },
   "source": [
    "## gt It gte lte\n",
    "$gt:大於\n",
    "\n",
    "$lt:小於\n",
    "\n",
    "$gte:大於或等於\n",
    "\n",
    "$lte:小於或等於"
   ]
  },
  {
   "cell_type": "code",
   "execution_count": 77,
   "metadata": {
    "ExecuteTime": {
     "end_time": "2019-03-03T05:10:18.159867Z",
     "start_time": "2019-03-03T05:10:18.122360Z"
    }
   },
   "outputs": [
    {
     "data": {
      "text/plain": [
       "['physics', 'chemistry', 'medicine']"
      ]
     },
     "execution_count": 77,
     "metadata": {},
     "output_type": "execute_result"
    }
   ],
   "source": [
    "db.prizes.distinct(\"category\", {\"laureates.share\": {\"$gt\": \"3\"}})"
   ]
  },
  {
   "cell_type": "markdown",
   "metadata": {},
   "source": [
    "## index\n",
    "mongoDB可以建立index以利未來的searching，在以後searching時如果是searching有建立index的欄位，那麼mongoDB就不會進去資料欄位，而是調出己經建好B tree的index來查詢。\n"
   ]
  },
  {
   "cell_type": "code",
   "execution_count": 83,
   "metadata": {
    "ExecuteTime": {
     "end_time": "2019-03-03T05:20:23.438725Z",
     "start_time": "2019-03-03T05:20:23.427341Z"
    }
   },
   "outputs": [
    {
     "name": "stdout",
     "output_type": "stream",
     "text": [
      "chemistry: 2011\n",
      "economics: 2017\n",
      "literature: 2017\n",
      "medicine: 2016\n",
      "peace: 2017\n",
      "physics: 1992\n",
      "\n"
     ]
    }
   ],
   "source": [
    "#針對model去做index\n",
    "index_model = [(\"category\", 1), (\"year\", -1)]\n",
    "db.prizes.create_index(index_model)\n",
    "\n",
    "# Collect the last single-laureate year for each category\n",
    "report = \"\"\n",
    "for category in sorted(db.prizes.distinct(\"category\")):\n",
    "    doc = db.prizes.find_one({\"category\": category, \"laureates.share\": \"1\"}, sort=[(\"year\", -1)])\n",
    "    report += \"{category}: {year}\\n\".format(**doc)\n",
    "print(report)"
   ]
  },
  {
   "cell_type": "code",
   "execution_count": 86,
   "metadata": {
    "ExecuteTime": {
     "end_time": "2019-03-03T05:23:49.283517Z",
     "start_time": "2019-03-03T05:23:49.196647Z"
    }
   },
   "outputs": [
    {
     "name": "stdout",
     "output_type": "stream",
     "text": [
      "482\n",
      "[('USA', 482), ('United Kingdom', 112), ('France', 52), ('Germany', 38), ('Japan', 34)]\n"
     ]
    }
   ],
   "source": [
    "from collections import Counter\n",
    "\n",
    "# Ensure an index on country of birth\n",
    "# 1代表pymongo.ASCENDING\n",
    "db.laureates.create_index([(\"bornCountry\", 1)])\n",
    "\n",
    "# Collect a count of laureates for each country of birth\n",
    "n_born_and_affiliated = {\n",
    "    country: db.laureates.count_documents({\"bornCountry\": country, \"prizes.affiliations.country\": country})\n",
    "    for country in db.laureates.distinct(\"bornCountry\")\n",
    "}\n",
    "\n",
    "#分別計算不同的字串次數\n",
    "five_most_common = Counter(n_born_and_affiliated).most_common(5)\n",
    "print(five_most_common)"
   ]
  },
  {
   "cell_type": "markdown",
   "metadata": {},
   "source": [
    "## limit\n",
    "如果call兩個limit,會回傳後面的limit\n",
    "\n",
    "因為很像是d = {'limit': 3}; d.update({'limit': 5}); "
   ]
  },
  {
   "cell_type": "code",
   "execution_count": 100,
   "metadata": {
    "ExecuteTime": {
     "end_time": "2019-03-03T05:37:00.242600Z",
     "start_time": "2019-03-03T05:37:00.235577Z"
    }
   },
   "outputs": [
    {
     "data": {
      "text/plain": [
       "[{'year': '1969'},\n",
       " {'year': '1969'},\n",
       " {'year': '1970'},\n",
       " {'year': '1970'},\n",
       " {'year': '1971'}]"
      ]
     },
     "execution_count": 100,
     "metadata": {},
     "output_type": "execute_result"
    }
   ],
   "source": [
    "list(db.prizes.find({\"category\": \"economics\"},\n",
    "                    {\"year\": 1, \"_id\": 0})\n",
    "     .sort(\"year\")\n",
    "     .limit(3)\n",
    "     .limit(5))"
   ]
  },
  {
   "cell_type": "code",
   "execution_count": 182,
   "metadata": {
    "ExecuteTime": {
     "end_time": "2019-03-06T14:35:29.973524Z",
     "start_time": "2019-03-06T14:35:29.955717Z"
    }
   },
   "outputs": [
    {
     "name": "stdout",
     "output_type": "stream",
     "text": [
      "2017 chemistry\n",
      "2017 medicine\n",
      "2016 chemistry\n",
      "2015 chemistry\n",
      "2014 physics\n"
     ]
    }
   ],
   "source": [
    "for doc in (db.prizes.find({\"laureates.share\": \"3\"}).limit(5)):\n",
    "    print(\"{year} {category}\".format(**doc))"
   ]
  },
  {
   "cell_type": "markdown",
   "metadata": {},
   "source": [
    "## skip \n",
    "跳過2個"
   ]
  },
  {
   "cell_type": "code",
   "execution_count": 190,
   "metadata": {
    "ExecuteTime": {
     "end_time": "2019-03-06T14:45:59.046474Z",
     "start_time": "2019-03-06T14:45:59.040888Z"
    }
   },
   "outputs": [
    {
     "name": "stdout",
     "output_type": "stream",
     "text": [
      "2016 chemistry\n",
      "2015 chemistry\n",
      "2014 physics\n"
     ]
    }
   ],
   "source": [
    "for doc in (db.prizes.find({\"laureates.share\": \"3\"}).skip(2).limit(3)):\n",
    "    print(\"{year} {category}\".format(**doc))"
   ]
  },
  {
   "cell_type": "markdown",
   "metadata": {},
   "source": [
    "## aggregate"
   ]
  },
  {
   "cell_type": "code",
   "execution_count": 109,
   "metadata": {
    "ExecuteTime": {
     "end_time": "2019-03-03T07:47:32.779030Z",
     "start_time": "2019-03-03T07:47:32.650765Z"
    }
   },
   "outputs": [
    {
     "name": "stdout",
     "output_type": "stream",
     "text": [
      "Prussia (now Germany): [{'affiliations': [{'country': 'Germany'}]}]\n",
      "the Netherlands: [{'affiliations': [{'country': 'the Netherlands'}]}]\n",
      "the Netherlands: [{'affiliations': [{'country': 'the Netherlands'}]}]\n"
     ]
    }
   ],
   "source": [
    "# Translate cursor to aggregation pipeline\n",
    "pipeline = [\n",
    "    {'$match': {'gender': {'$ne': 'org'}}},\n",
    "    {'$project': {'bornCountry': 1, 'prizes.affiliations.country': 1}},\n",
    "    {'$limit': 3}\n",
    "]\n",
    "\n",
    "for doc in db.laureates.aggregate(pipeline):\n",
    "    print(\"{bornCountry}: {prizes}\".format(**doc))"
   ]
  },
  {
   "cell_type": "code",
   "execution_count": 119,
   "metadata": {
    "ExecuteTime": {
     "end_time": "2019-03-03T07:53:09.726795Z",
     "start_time": "2019-03-03T07:53:09.720063Z"
    }
   },
   "outputs": [
    {
     "name": "stdout",
     "output_type": "stream",
     "text": [
      "the Netherlands: [{'affiliations': [{'country': 'the Netherlands'}]}]\n",
      "the Netherlands: [{'affiliations': [{'country': 'the Netherlands'}]}]\n",
      "the Netherlands: [{'affiliations': [{'country': 'the Netherlands'}]}]\n"
     ]
    }
   ],
   "source": [
    "for i in db.laureates.find(\n",
    "    filter={'gender':{'$ne':'org'}},\n",
    "    projection={'bornCountry': 1, 'prizes.affiliations.country': 1},limit=3):\n",
    "    print(\"{bornCountry}: {prizes}\".format(**doc))"
   ]
  },
  {
   "cell_type": "markdown",
   "metadata": {},
   "source": [
    "## operator expression\n",
    "\n",
    "https://www.jianshu.com/p/5f64b0084570\n",
    "\n",
    "表達式操作符"
   ]
  },
  {
   "cell_type": "code",
   "execution_count": 191,
   "metadata": {
    "ExecuteTime": {
     "end_time": "2019-03-06T14:54:49.533440Z",
     "start_time": "2019-03-06T14:54:49.408705Z"
    }
   },
   "outputs": [
    {
     "data": {
      "text/plain": [
       "[]"
      ]
     },
     "execution_count": 191,
     "metadata": {},
     "output_type": "execute_result"
    }
   ],
   "source": [
    "#$setEquals :Returns true if the input sets have the same distinct elements. Accepts two or more argument expressions.\n",
    "#$setIsSubset : Returns true if all elements of the first set appear in the second set, including when the first set equals the second set; i.e. not a strict subset. Accepts exactly two argument expressions.\n",
    "list(\n",
    "    db.prizes.aggregate([{\n",
    "        \"$project\": {\n",
    "            \"allThree\": {   #可以直接命名新的name 產生新field\n",
    "                \"$setEquals\": ['$laureates.share', ['3']]\n",
    "            },\n",
    "            \"noneThree\": {\n",
    "                \"$not\": {\n",
    "                    \"$setIsSubset\": [['3'], '$laureates.share']\n",
    "                }\n",
    "            }\n",
    "        }\n",
    "    }, {\n",
    "        \"$match\": {\n",
    "            \"$nor\": [{\n",
    "                \"allThree\": True\n",
    "            }, {\n",
    "                \"noneThree\": True\n",
    "            }]\n",
    "        }\n",
    "    }]))"
   ]
  },
  {
   "cell_type": "code",
   "execution_count": 127,
   "metadata": {
    "ExecuteTime": {
     "end_time": "2019-03-03T08:39:48.080505Z",
     "start_time": "2019-03-03T08:39:48.046661Z"
    }
   },
   "outputs": [
    {
     "name": "stdout",
     "output_type": "stream",
     "text": [
      "[{'_id': None, 'n_prizes_total': 54}]\n"
     ]
    }
   ],
   "source": [
    "pipeline = [{\n",
    "    '$match': {\n",
    "        'gender': \"org\"\n",
    "    }\n",
    "}, {\n",
    "    \"$project\": {\n",
    "        \"n_prizes\": {\n",
    "            \"$size\": '$prizes'\n",
    "        }\n",
    "    }\n",
    "}, {\n",
    "    \"$group\": {\n",
    "        \"_id\": None,   #'_id' :None 表示不指定id 一起加總\n",
    "        \"n_prizes_total\": {\n",
    "            \"$sum\": '$n_prizes'\n",
    "        }\n",
    "    }\n",
    "}]\n",
    "\n",
    "print(list(db.laureates.aggregate(pipeline)))"
   ]
  },
  {
   "cell_type": "code",
   "execution_count": 192,
   "metadata": {
    "ExecuteTime": {
     "end_time": "2019-03-06T15:12:24.888163Z",
     "start_time": "2019-03-06T15:12:24.804044Z"
    }
   },
   "outputs": [
    {
     "name": "stdout",
     "output_type": "stream",
     "text": [
      "2018: literature\n",
      "1972: peace\n",
      "1967: peace\n",
      "1966: peace\n",
      "1956: peace\n",
      "1955: peace\n",
      "1948: peace\n",
      "1943: literature, peace\n",
      "1939: peace\n",
      "1935: literature\n",
      "1934: physics\n",
      "1933: chemistry\n",
      "1932: peace\n",
      "1931: physics\n",
      "1928: peace\n",
      "1925: medicine\n",
      "1924: chemistry, peace\n",
      "1923: peace\n",
      "1921: medicine\n",
      "1919: chemistry\n",
      "1918: literature, medicine, peace\n",
      "1917: chemistry, medicine\n",
      "1916: chemistry, medicine, peace, physics\n",
      "1915: medicine, peace\n",
      "1914: literature, peace\n"
     ]
    }
   ],
   "source": [
    "#proeject 默認'_id'是被包含的,如果不想被包含可以用'_id':0\n",
    "from collections import OrderedDict\n",
    "\n",
    "original_categories = sorted(set(db.prizes.distinct(\"category\", {\"year\": \"1901\"})))\n",
    "pipeline = [\n",
    "    {\"$match\": {\"category\": {\"$in\": original_categories}}},\n",
    "    {\"$project\": {\"category\": 1, \"year\": 1}},\n",
    "    \n",
    "    # Collect the set of category values for each prize year.\n",
    "    # addToSet 將category改成set ,改成unique\n",
    "    {\"$group\": {\"_id\": \"$year\", \"categories\": {\"$addToSet\": \"$category\"}}},\n",
    "    \n",
    "    # Project categories *not* awarded (i.e., that are missing this year).\n",
    "    {\"$project\": {\"missing\": {\"$setDifference\": [original_categories, \"$categories\"]}}},\n",
    "    \n",
    "    # Only include years with missing categories\n",
    "    {\"$match\": {\"missing.0\": {\"$exists\": True}}},\n",
    "    \n",
    "    # Sort in reverse chronological order. Note that \"_id\" is a distinct year at this stage.\n",
    "    {\"$sort\": OrderedDict([(\"_id\", -1)])},\n",
    "]\n",
    "for doc in db.prizes.aggregate(pipeline):\n",
    "    print(\"{year}: {missing}\".format(year=doc[\"_id\"],missing=\", \".join(sorted(doc[\"missing\"]))))"
   ]
  },
  {
   "cell_type": "markdown",
   "metadata": {},
   "source": [
    "## unwind\tindexOfBytes\n",
    "$unwind : 拆分操作符，用于将数组中的每一个值拆分为单独的文档 \n",
    "\n",
    "$indexOfBytes: Searches a string for an occurence of a substring and returns the UTF-8 byte index of the first occurence. If the substring is not found, returns -1."
   ]
  },
  {
   "cell_type": "code",
   "execution_count": 136,
   "metadata": {
    "ExecuteTime": {
     "end_time": "2019-03-03T11:34:21.598319Z",
     "start_time": "2019-03-03T11:34:21.571748Z"
    }
   },
   "outputs": [
    {
     "name": "stdout",
     "output_type": "stream",
     "text": [
      "{'_id': True, 'count': 954}\n",
      "{'_id': False, 'count': 522}\n"
     ]
    }
   ],
   "source": [
    "pipeline = [\n",
    "    {\"$project\": {\"bornCountry\": 1, \"prizes.affiliations.country\": 1}},\n",
    "  \n",
    "    # Ensure a single prize affiliation country per pipeline document\n",
    "    {\"$unwind\": \"$prizes\"},\n",
    "    {\"$unwind\": \"$prizes.affiliations\"},\n",
    "  \n",
    "    # Filter out \"empty\" prize-affiliation-country values\n",
    "    {\"$match\": {\"prizes.affiliations.country\": {\"$in\": db.laureates.distinct(\"prizes.affiliations.country\")}}},\n",
    "    {\"$project\": {\"affilCountrySameAsBorn\": {\n",
    "        \"$gte\": [{\"$indexOfBytes\": [\"$prizes.affiliations.country\", \"$bornCountry\"]}, 0]}}},\n",
    "  \n",
    "    # Count documents grouped by value (either True or False) for \"$affilCountrySameAsBorn\"\n",
    "   {\"$group\": {\"_id\": \"$affilCountrySameAsBorn\", \"count\": {\"$sum\": 1}}},\n",
    "]\n",
    "for doc in db.laureates.aggregate(pipeline): \n",
    "    print(doc)"
   ]
  },
  {
   "cell_type": "code",
   "execution_count": 197,
   "metadata": {
    "ExecuteTime": {
     "end_time": "2019-03-06T15:47:05.611898Z",
     "start_time": "2019-03-06T15:47:05.605512Z"
    }
   },
   "outputs": [
    {
     "data": {
      "text/plain": [
       "{'_id': ObjectId('5c7a5903db0b51193a88b4da'),\n",
       " 'id': '1',\n",
       " 'firstname': 'Wilhelm Conrad',\n",
       " 'surname': 'Röntgen',\n",
       " 'born': '1845-03-27',\n",
       " 'died': '1923-02-10',\n",
       " 'bornCountry': 'Prussia (now Germany)',\n",
       " 'bornCountryCode': 'DE',\n",
       " 'bornCity': 'Lennep (now Remscheid)',\n",
       " 'diedCountry': 'Germany',\n",
       " 'diedCountryCode': 'DE',\n",
       " 'diedCity': 'Munich',\n",
       " 'gender': 'male',\n",
       " 'prizes': [{'year': '1901',\n",
       "   'category': 'physics',\n",
       "   'share': '1',\n",
       "   'motivation': '\"in recognition of the extraordinary services he has rendered by the discovery of the remarkable rays subsequently named after him\"',\n",
       "   'affiliations': [{'name': 'Munich University',\n",
       "     'city': 'Munich',\n",
       "     'country': 'Germany'}]}]}"
      ]
     },
     "execution_count": 197,
     "metadata": {},
     "output_type": "execute_result"
    }
   ],
   "source": [
    "db.laureates.find_one({})"
   ]
  },
  {
   "cell_type": "code",
   "execution_count": 211,
   "metadata": {
    "ExecuteTime": {
     "end_time": "2019-03-06T15:52:47.383119Z",
     "start_time": "2019-03-06T15:52:47.183060Z"
    }
   },
   "outputs": [
    {
     "name": "stdout",
     "output_type": "stream",
     "text": [
      "{'gender': 'male', 'prizes': [{'year': '1901'}]}\n",
      "{'gender': 'male', 'prizes': [{'year': '1902'}]}\n",
      "{'gender': 'male', 'prizes': [{'year': '1902'}]}\n",
      "{'gender': 'male', 'prizes': [{'year': '1903'}]}\n",
      "{'gender': 'male', 'prizes': [{'year': '1903'}]}\n",
      "{'gender': 'female', 'prizes': [{'year': '1903'}, {'year': '1911'}]}\n",
      "{'gender': 'male', 'prizes': [{'year': '1904'}]}\n",
      "{'gender': 'male', 'prizes': [{'year': '1905'}]}\n",
      "{'gender': 'male', 'prizes': [{'year': '1906'}]}\n",
      "{'gender': 'male', 'prizes': [{'year': '1907'}]}\n",
      "{'gender': 'male', 'prizes': [{'year': '1908'}]}\n",
      "{'gender': 'male', 'prizes': [{'year': '1909'}]}\n",
      "{'gender': 'male', 'prizes': [{'year': '1909'}]}\n",
      "{'gender': 'male', 'prizes': [{'year': '1910'}]}\n",
      "{'gender': 'male', 'prizes': [{'year': '1911'}]}\n",
      "{'gender': 'male', 'prizes': [{'year': '1912'}]}\n",
      "{'gender': 'male', 'prizes': [{'year': '1913'}]}\n",
      "{'gender': 'male', 'prizes': [{'year': '1914'}]}\n",
      "{'gender': 'male', 'prizes': [{'year': '1915'}]}\n",
      "{'gender': 'male', 'prizes': [{'year': '1915'}]}\n",
      "{'gender': 'male', 'prizes': [{'year': '1917'}]}\n",
      "{'gender': 'male', 'prizes': [{'year': '1918'}]}\n",
      "{'gender': 'male', 'prizes': [{'year': '1919'}]}\n",
      "{'gender': 'male', 'prizes': [{'year': '1920'}]}\n",
      "{'gender': 'male', 'prizes': [{'year': '1921'}]}\n",
      "{'gender': 'male', 'prizes': [{'year': '1922'}]}\n",
      "{'gender': 'male', 'prizes': [{'year': '1923'}]}\n",
      "{'gender': 'male', 'prizes': [{'year': '1924'}]}\n",
      "{'gender': 'male', 'prizes': [{'year': '1925'}]}\n",
      "{'gender': 'male', 'prizes': [{'year': '1925'}]}\n",
      "{'gender': 'male', 'prizes': [{'year': '1926'}]}\n",
      "{'gender': 'male', 'prizes': [{'year': '1927'}]}\n",
      "{'gender': 'male', 'prizes': [{'year': '1927'}]}\n",
      "{'gender': 'male', 'prizes': [{'year': '1928'}]}\n",
      "{'gender': 'male', 'prizes': [{'year': '1929'}]}\n",
      "{'gender': 'male', 'prizes': [{'year': '1930'}]}\n",
      "{'gender': 'male', 'prizes': [{'year': '1932'}]}\n",
      "{'gender': 'male', 'prizes': [{'year': '1933'}]}\n",
      "{'gender': 'male', 'prizes': [{'year': '1933'}]}\n",
      "{'gender': 'male', 'prizes': [{'year': '1935'}]}\n",
      "{'gender': 'male', 'prizes': [{'year': '1936'}]}\n",
      "{'gender': 'male', 'prizes': [{'year': '1936'}]}\n",
      "{'gender': 'male', 'prizes': [{'year': '1937'}]}\n",
      "{'gender': 'male', 'prizes': [{'year': '1937'}]}\n",
      "{'gender': 'male', 'prizes': [{'year': '1938'}]}\n",
      "{'gender': 'male', 'prizes': [{'year': '1939'}]}\n",
      "{'gender': 'male', 'prizes': [{'year': '1943'}]}\n",
      "{'gender': 'male', 'prizes': [{'year': '1944'}]}\n",
      "{'gender': 'male', 'prizes': [{'year': '1945'}]}\n",
      "{'gender': 'male', 'prizes': [{'year': '1946'}]}\n",
      "{'gender': 'male', 'prizes': [{'year': '1947'}]}\n",
      "{'gender': 'male', 'prizes': [{'year': '1948'}]}\n",
      "{'gender': 'male', 'prizes': [{'year': '1949'}]}\n",
      "{'gender': 'male', 'prizes': [{'year': '1950'}]}\n",
      "{'gender': 'male', 'prizes': [{'year': '1951'}]}\n",
      "{'gender': 'male', 'prizes': [{'year': '1951'}]}\n",
      "{'gender': 'male', 'prizes': [{'year': '1952'}]}\n",
      "{'gender': 'male', 'prizes': [{'year': '1952'}]}\n",
      "{'gender': 'male', 'prizes': [{'year': '1953'}]}\n",
      "{'gender': 'male', 'prizes': [{'year': '1954'}]}\n",
      "{'gender': 'male', 'prizes': [{'year': '1954'}]}\n",
      "{'gender': 'male', 'prizes': [{'year': '1955'}]}\n",
      "{'gender': 'male', 'prizes': [{'year': '1955'}]}\n",
      "{'gender': 'male', 'prizes': [{'year': '1956'}]}\n",
      "{'gender': 'male', 'prizes': [{'year': '1956'}, {'year': '1972'}]}\n",
      "{'gender': 'male', 'prizes': [{'year': '1956'}]}\n",
      "{'gender': 'male', 'prizes': [{'year': '1957'}]}\n",
      "{'gender': 'male', 'prizes': [{'year': '1957'}]}\n",
      "{'gender': 'male', 'prizes': [{'year': '1958'}]}\n",
      "{'gender': 'male', 'prizes': [{'year': '1958'}]}\n",
      "{'gender': 'male', 'prizes': [{'year': '1959'}]}\n",
      "{'gender': 'male', 'prizes': [{'year': '1959'}]}\n",
      "{'gender': 'male', 'prizes': [{'year': '1960'}]}\n",
      "{'gender': 'male', 'prizes': [{'year': '1961'}]}\n",
      "{'gender': 'male', 'prizes': [{'year': '1961'}]}\n",
      "{'gender': 'male', 'prizes': [{'year': '1962'}]}\n",
      "{'gender': 'male', 'prizes': [{'year': '1963'}]}\n",
      "{'gender': 'female', 'prizes': [{'year': '1963'}]}\n",
      "{'gender': 'male', 'prizes': [{'year': '1963'}]}\n",
      "{'gender': 'male', 'prizes': [{'year': '1964'}]}\n",
      "{'gender': 'male', 'prizes': [{'year': '1964'}]}\n",
      "{'gender': 'male', 'prizes': [{'year': '1964'}]}\n",
      "{'gender': 'male', 'prizes': [{'year': '1965'}]}\n",
      "{'gender': 'male', 'prizes': [{'year': '1965'}]}\n",
      "{'gender': 'male', 'prizes': [{'year': '1965'}]}\n",
      "{'gender': 'male', 'prizes': [{'year': '1966'}]}\n",
      "{'gender': 'male', 'prizes': [{'year': '1967'}]}\n",
      "{'gender': 'male', 'prizes': [{'year': '1968'}]}\n",
      "{'gender': 'male', 'prizes': [{'year': '1969'}]}\n",
      "{'gender': 'male', 'prizes': [{'year': '1970'}]}\n",
      "{'gender': 'male', 'prizes': [{'year': '1970'}]}\n",
      "{'gender': 'male', 'prizes': [{'year': '1971'}]}\n",
      "{'gender': 'male', 'prizes': [{'year': '1972'}]}\n",
      "{'gender': 'male', 'prizes': [{'year': '1972'}]}\n",
      "{'gender': 'male', 'prizes': [{'year': '1973'}]}\n",
      "{'gender': 'male', 'prizes': [{'year': '1973'}]}\n",
      "{'gender': 'male', 'prizes': [{'year': '1973'}]}\n",
      "{'gender': 'male', 'prizes': [{'year': '1974'}]}\n",
      "{'gender': 'male', 'prizes': [{'year': '1974'}]}\n",
      "{'gender': 'male', 'prizes': [{'year': '1975'}]}\n",
      "{'gender': 'male', 'prizes': [{'year': '1975'}]}\n",
      "{'gender': 'male', 'prizes': [{'year': '1975'}]}\n",
      "{'gender': 'male', 'prizes': [{'year': '1976'}]}\n",
      "{'gender': 'male', 'prizes': [{'year': '1976'}]}\n",
      "{'gender': 'male', 'prizes': [{'year': '1977'}]}\n",
      "{'gender': 'male', 'prizes': [{'year': '1977'}]}\n",
      "{'gender': 'male', 'prizes': [{'year': '1977'}]}\n",
      "{'gender': 'male', 'prizes': [{'year': '1978'}]}\n",
      "{'gender': 'male', 'prizes': [{'year': '1978'}]}\n",
      "{'gender': 'male', 'prizes': [{'year': '1978'}]}\n",
      "{'gender': 'male', 'prizes': [{'year': '1979'}]}\n",
      "{'gender': 'male', 'prizes': [{'year': '1979'}]}\n",
      "{'gender': 'male', 'prizes': [{'year': '1979'}]}\n",
      "{'gender': 'male', 'prizes': [{'year': '1980'}]}\n",
      "{'gender': 'male', 'prizes': [{'year': '1980'}]}\n",
      "{'gender': 'male', 'prizes': [{'year': '1981'}]}\n",
      "{'gender': 'male', 'prizes': [{'year': '1981'}]}\n",
      "{'gender': 'male', 'prizes': [{'year': '1981'}]}\n",
      "{'gender': 'male', 'prizes': [{'year': '1982'}]}\n",
      "{'gender': 'male', 'prizes': [{'year': '1983'}]}\n",
      "{'gender': 'male', 'prizes': [{'year': '1983'}]}\n",
      "{'gender': 'male', 'prizes': [{'year': '1984'}]}\n",
      "{'gender': 'male', 'prizes': [{'year': '1984'}]}\n",
      "{'gender': 'male', 'prizes': [{'year': '1985'}]}\n",
      "{'gender': 'male', 'prizes': [{'year': '1986'}]}\n",
      "{'gender': 'male', 'prizes': [{'year': '1986'}]}\n",
      "{'gender': 'male', 'prizes': [{'year': '1986'}]}\n",
      "{'gender': 'male', 'prizes': [{'year': '1987'}]}\n",
      "{'gender': 'male', 'prizes': [{'year': '1987'}]}\n",
      "{'gender': 'male', 'prizes': [{'year': '1988'}]}\n",
      "{'gender': 'male', 'prizes': [{'year': '1988'}]}\n",
      "{'gender': 'male', 'prizes': [{'year': '1988'}]}\n",
      "{'gender': 'male', 'prizes': [{'year': '1989'}]}\n",
      "{'gender': 'male', 'prizes': [{'year': '1989'}]}\n",
      "{'gender': 'male', 'prizes': [{'year': '1989'}]}\n",
      "{'gender': 'male', 'prizes': [{'year': '1990'}]}\n",
      "{'gender': 'male', 'prizes': [{'year': '1990'}]}\n",
      "{'gender': 'male', 'prizes': [{'year': '1990'}]}\n",
      "{'gender': 'male', 'prizes': [{'year': '1991'}]}\n",
      "{'gender': 'male', 'prizes': [{'year': '1992'}]}\n",
      "{'gender': 'male', 'prizes': [{'year': '1993'}]}\n",
      "{'gender': 'male', 'prizes': [{'year': '1993'}]}\n",
      "{'gender': 'male', 'prizes': [{'year': '1994'}]}\n",
      "{'gender': 'male', 'prizes': [{'year': '1994'}]}\n",
      "{'gender': 'male', 'prizes': [{'year': '1995'}]}\n",
      "{'gender': 'male', 'prizes': [{'year': '1995'}]}\n",
      "{'gender': 'male', 'prizes': [{'year': '1996'}]}\n",
      "{'gender': 'male', 'prizes': [{'year': '1996'}]}\n",
      "{'gender': 'male', 'prizes': [{'year': '1996'}]}\n",
      "{'gender': 'male', 'prizes': [{'year': '1997'}]}\n",
      "{'gender': 'male', 'prizes': [{'year': '1997'}]}\n",
      "{'gender': 'male', 'prizes': [{'year': '1997'}]}\n",
      "{'gender': 'male', 'prizes': [{'year': '1998'}]}\n",
      "{'gender': 'male', 'prizes': [{'year': '1998'}]}\n",
      "{'gender': 'male', 'prizes': [{'year': '1998'}]}\n",
      "{'gender': 'male', 'prizes': [{'year': '1999'}]}\n",
      "{'gender': 'male', 'prizes': [{'year': '1999'}]}\n",
      "{'gender': 'male', 'prizes': [{'year': '1901'}]}\n",
      "{'gender': 'male', 'prizes': [{'year': '1902'}]}\n",
      "{'gender': 'male', 'prizes': [{'year': '1903'}]}\n",
      "{'gender': 'male', 'prizes': [{'year': '1904'}]}\n",
      "{'gender': 'male', 'prizes': [{'year': '1905'}]}\n",
      "{'gender': 'male', 'prizes': [{'year': '1906'}]}\n",
      "{'gender': 'male', 'prizes': [{'year': '1907'}]}\n",
      "{'gender': 'male', 'prizes': [{'year': '1908'}]}\n",
      "{'gender': 'male', 'prizes': [{'year': '1909'}]}\n",
      "{'gender': 'male', 'prizes': [{'year': '1910'}]}\n",
      "{'gender': 'male', 'prizes': [{'year': '1912'}]}\n",
      "{'gender': 'male', 'prizes': [{'year': '1912'}]}\n",
      "{'gender': 'male', 'prizes': [{'year': '1913'}]}\n",
      "{'gender': 'male', 'prizes': [{'year': '1914'}]}\n",
      "{'gender': 'male', 'prizes': [{'year': '1915'}]}\n",
      "{'gender': 'male', 'prizes': [{'year': '1918'}]}\n",
      "{'gender': 'male', 'prizes': [{'year': '1920'}]}\n",
      "{'gender': 'male', 'prizes': [{'year': '1921'}]}\n",
      "{'gender': 'male', 'prizes': [{'year': '1922'}]}\n",
      "{'gender': 'male', 'prizes': [{'year': '1923'}]}\n",
      "{'gender': 'male', 'prizes': [{'year': '1925'}]}\n",
      "{'gender': 'male', 'prizes': [{'year': '1926'}]}\n",
      "{'gender': 'male', 'prizes': [{'year': '1927'}]}\n",
      "{'gender': 'male', 'prizes': [{'year': '1928'}]}\n",
      "{'gender': 'male', 'prizes': [{'year': '1929'}]}\n",
      "{'gender': 'male', 'prizes': [{'year': '1929'}]}\n",
      "{'gender': 'male', 'prizes': [{'year': '1930'}]}\n",
      "{'gender': 'male', 'prizes': [{'year': '1931'}]}\n",
      "{'gender': 'male', 'prizes': [{'year': '1931'}]}\n",
      "{'gender': 'male', 'prizes': [{'year': '1932'}]}\n",
      "{'gender': 'male', 'prizes': [{'year': '1934'}]}\n",
      "{'gender': 'male', 'prizes': [{'year': '1935'}]}\n",
      "{'gender': 'female', 'prizes': [{'year': '1935'}]}\n",
      "{'gender': 'male', 'prizes': [{'year': '1936'}]}\n",
      "{'gender': 'male', 'prizes': [{'year': '1937'}]}\n",
      "{'gender': 'male', 'prizes': [{'year': '1937'}]}\n",
      "{'gender': 'male', 'prizes': [{'year': '1938'}]}\n",
      "{'gender': 'male', 'prizes': [{'year': '1939'}]}\n",
      "{'gender': 'male', 'prizes': [{'year': '1939'}]}\n",
      "{'gender': 'male', 'prizes': [{'year': '1943'}]}\n",
      "{'gender': 'male', 'prizes': [{'year': '1944'}]}\n",
      "{'gender': 'male', 'prizes': [{'year': '1945'}]}\n",
      "{'gender': 'male', 'prizes': [{'year': '1946'}]}\n",
      "{'gender': 'male', 'prizes': [{'year': '1946'}]}\n",
      "{'gender': 'male', 'prizes': [{'year': '1946'}]}\n",
      "{'gender': 'male', 'prizes': [{'year': '1947'}]}\n",
      "{'gender': 'male', 'prizes': [{'year': '1948'}]}\n",
      "{'gender': 'male', 'prizes': [{'year': '1949'}]}\n",
      "{'gender': 'male', 'prizes': [{'year': '1950'}]}\n",
      "{'gender': 'male', 'prizes': [{'year': '1950'}]}\n",
      "{'gender': 'male', 'prizes': [{'year': '1951'}]}\n",
      "{'gender': 'male', 'prizes': [{'year': '1951'}]}\n",
      "{'gender': 'male', 'prizes': [{'year': '1952'}]}\n",
      "{'gender': 'male', 'prizes': [{'year': '1952'}]}\n",
      "{'gender': 'male', 'prizes': [{'year': '1953'}]}\n",
      "{'gender': 'male', 'prizes': [{'year': '1954'}, {'year': '1962'}]}\n",
      "{'gender': 'male', 'prizes': [{'year': '1955'}]}\n",
      "{'gender': 'male', 'prizes': [{'year': '1956'}]}\n",
      "{'gender': 'male', 'prizes': [{'year': '1956'}]}\n",
      "{'gender': 'male', 'prizes': [{'year': '1957'}]}\n",
      "{'gender': 'male', 'prizes': [{'year': '1958'}, {'year': '1980'}]}\n",
      "{'gender': 'male', 'prizes': [{'year': '1959'}]}\n",
      "{'gender': 'male', 'prizes': [{'year': '1960'}]}\n",
      "{'gender': 'male', 'prizes': [{'year': '1961'}]}\n",
      "{'gender': 'male', 'prizes': [{'year': '1962'}]}\n",
      "{'gender': 'male', 'prizes': [{'year': '1962'}]}\n",
      "{'gender': 'male', 'prizes': [{'year': '1963'}]}\n",
      "{'gender': 'male', 'prizes': [{'year': '1963'}]}\n",
      "{'gender': 'female', 'prizes': [{'year': '1964'}]}\n",
      "{'gender': 'male', 'prizes': [{'year': '1965'}]}\n",
      "{'gender': 'male', 'prizes': [{'year': '1966'}]}\n",
      "{'gender': 'male', 'prizes': [{'year': '1967'}]}\n",
      "{'gender': 'male', 'prizes': [{'year': '1967'}]}\n",
      "{'gender': 'male', 'prizes': [{'year': '1967'}]}\n",
      "{'gender': 'male', 'prizes': [{'year': '1968'}]}\n",
      "{'gender': 'male', 'prizes': [{'year': '1969'}]}\n",
      "{'gender': 'male', 'prizes': [{'year': '1969'}]}\n",
      "{'gender': 'male', 'prizes': [{'year': '1970'}]}\n",
      "{'gender': 'male', 'prizes': [{'year': '1971'}]}\n",
      "{'gender': 'male', 'prizes': [{'year': '1972'}]}\n",
      "{'gender': 'male', 'prizes': [{'year': '1972'}]}\n",
      "{'gender': 'male', 'prizes': [{'year': '1972'}]}\n",
      "{'gender': 'male', 'prizes': [{'year': '1973'}]}\n",
      "{'gender': 'male', 'prizes': [{'year': '1973'}]}\n",
      "{'gender': 'male', 'prizes': [{'year': '1974'}]}\n",
      "{'gender': 'male', 'prizes': [{'year': '1975'}]}\n",
      "{'gender': 'male', 'prizes': [{'year': '1975'}]}\n",
      "{'gender': 'male', 'prizes': [{'year': '1976'}]}\n",
      "{'gender': 'male', 'prizes': [{'year': '1977'}]}\n",
      "{'gender': 'male', 'prizes': [{'year': '1978'}]}\n",
      "{'gender': 'male', 'prizes': [{'year': '1979'}]}\n",
      "{'gender': 'male', 'prizes': [{'year': '1979'}]}\n",
      "{'gender': 'male', 'prizes': [{'year': '1980'}]}\n",
      "{'gender': 'male', 'prizes': [{'year': '1980'}]}\n",
      "{'gender': 'male', 'prizes': [{'year': '1981'}]}\n",
      "{'gender': 'male', 'prizes': [{'year': '1981'}]}\n",
      "{'gender': 'male', 'prizes': [{'year': '1982'}]}\n",
      "{'gender': 'male', 'prizes': [{'year': '1983'}]}\n",
      "{'gender': 'male', 'prizes': [{'year': '1984'}]}\n",
      "{'gender': 'male', 'prizes': [{'year': '1985'}]}\n",
      "{'gender': 'male', 'prizes': [{'year': '1985'}]}\n",
      "{'gender': 'male', 'prizes': [{'year': '1986'}]}\n",
      "{'gender': 'male', 'prizes': [{'year': '1986'}]}\n",
      "{'gender': 'male', 'prizes': [{'year': '1986'}]}\n",
      "{'gender': 'male', 'prizes': [{'year': '1987'}]}\n",
      "{'gender': 'male', 'prizes': [{'year': '1987'}]}\n",
      "{'gender': 'male', 'prizes': [{'year': '1987'}]}\n",
      "{'gender': 'male', 'prizes': [{'year': '1988'}]}\n",
      "{'gender': 'male', 'prizes': [{'year': '1988'}]}\n",
      "{'gender': 'male', 'prizes': [{'year': '1988'}]}\n",
      "{'gender': 'male', 'prizes': [{'year': '1989'}]}\n",
      "{'gender': 'male', 'prizes': [{'year': '1989'}]}\n",
      "{'gender': 'male', 'prizes': [{'year': '1990'}]}\n",
      "{'gender': 'male', 'prizes': [{'year': '1991'}]}\n",
      "{'gender': 'male', 'prizes': [{'year': '1992'}]}\n",
      "{'gender': 'male', 'prizes': [{'year': '1993'}]}\n",
      "{'gender': 'male', 'prizes': [{'year': '1993'}]}\n",
      "{'gender': 'male', 'prizes': [{'year': '1994'}]}\n",
      "{'gender': 'male', 'prizes': [{'year': '1995'}]}\n",
      "{'gender': 'male', 'prizes': [{'year': '1995'}]}\n",
      "{'gender': 'male', 'prizes': [{'year': '1995'}]}\n",
      "{'gender': 'male', 'prizes': [{'year': '1996'}]}\n",
      "{'gender': 'male', 'prizes': [{'year': '1996'}]}\n",
      "{'gender': 'male', 'prizes': [{'year': '1996'}]}\n",
      "{'gender': 'male', 'prizes': [{'year': '1997'}]}\n",
      "{'gender': 'male', 'prizes': [{'year': '1997'}]}\n",
      "{'gender': 'male', 'prizes': [{'year': '1997'}]}\n",
      "{'gender': 'male', 'prizes': [{'year': '1998'}]}\n",
      "{'gender': 'male', 'prizes': [{'year': '1998'}]}\n",
      "{'gender': 'male', 'prizes': [{'year': '1999'}]}\n",
      "{'gender': 'male', 'prizes': [{'year': '1901'}]}\n",
      "{'gender': 'male', 'prizes': [{'year': '1902'}]}\n",
      "{'gender': 'male', 'prizes': [{'year': '1903'}]}\n",
      "{'gender': 'male', 'prizes': [{'year': '1904'}]}\n",
      "{'gender': 'male', 'prizes': [{'year': '1905'}]}\n",
      "{'gender': 'male', 'prizes': [{'year': '1906'}]}\n",
      "{'gender': 'male', 'prizes': [{'year': '1906'}]}\n",
      "{'gender': 'male', 'prizes': [{'year': '1907'}]}\n",
      "{'gender': 'male', 'prizes': [{'year': '1908'}]}\n",
      "{'gender': 'male', 'prizes': [{'year': '1908'}]}\n",
      "{'gender': 'male', 'prizes': [{'year': '1909'}]}\n",
      "{'gender': 'male', 'prizes': [{'year': '1910'}]}\n",
      "{'gender': 'male', 'prizes': [{'year': '1911'}]}\n",
      "{'gender': 'male', 'prizes': [{'year': '1912'}]}\n",
      "{'gender': 'male', 'prizes': [{'year': '1913'}]}\n",
      "{'gender': 'male', 'prizes': [{'year': '1914'}]}\n",
      "{'gender': 'male', 'prizes': [{'year': '1919'}]}\n",
      "{'gender': 'male', 'prizes': [{'year': '1920'}]}\n",
      "{'gender': 'male', 'prizes': [{'year': '1922'}]}\n",
      "{'gender': 'male', 'prizes': [{'year': '1922'}]}\n",
      "{'gender': 'male', 'prizes': [{'year': '1923'}]}\n",
      "{'gender': 'male', 'prizes': [{'year': '1923'}]}\n",
      "{'gender': 'male', 'prizes': [{'year': '1924'}]}\n",
      "{'gender': 'male', 'prizes': [{'year': '1926'}]}\n",
      "{'gender': 'male', 'prizes': [{'year': '1927'}]}\n",
      "{'gender': 'male', 'prizes': [{'year': '1928'}]}\n",
      "{'gender': 'male', 'prizes': [{'year': '1929'}]}\n",
      "{'gender': 'male', 'prizes': [{'year': '1929'}]}\n",
      "{'gender': 'male', 'prizes': [{'year': '1930'}]}\n",
      "{'gender': 'male', 'prizes': [{'year': '1931'}]}\n",
      "{'gender': 'male', 'prizes': [{'year': '1932'}]}\n",
      "{'gender': 'male', 'prizes': [{'year': '1932'}]}\n",
      "{'gender': 'male', 'prizes': [{'year': '1933'}]}\n",
      "{'gender': 'male', 'prizes': [{'year': '1934'}]}\n",
      "{'gender': 'male', 'prizes': [{'year': '1934'}]}\n",
      "{'gender': 'male', 'prizes': [{'year': '1934'}]}\n",
      "{'gender': 'male', 'prizes': [{'year': '1935'}]}\n",
      "{'gender': 'male', 'prizes': [{'year': '1936'}]}\n",
      "{'gender': 'male', 'prizes': [{'year': '1936'}]}\n",
      "{'gender': 'male', 'prizes': [{'year': '1937'}]}\n",
      "{'gender': 'male', 'prizes': [{'year': '1938'}]}\n",
      "{'gender': 'male', 'prizes': [{'year': '1939'}]}\n",
      "{'gender': 'male', 'prizes': [{'year': '1943'}]}\n",
      "{'gender': 'male', 'prizes': [{'year': '1943'}]}\n",
      "{'gender': 'male', 'prizes': [{'year': '1944'}]}\n",
      "{'gender': 'male', 'prizes': [{'year': '1944'}]}\n",
      "{'gender': 'male', 'prizes': [{'year': '1945'}]}\n",
      "{'gender': 'male', 'prizes': [{'year': '1945'}]}\n",
      "{'gender': 'male', 'prizes': [{'year': '1945'}]}\n",
      "{'gender': 'male', 'prizes': [{'year': '1946'}]}\n",
      "{'gender': 'male', 'prizes': [{'year': '1947'}]}\n",
      "{'gender': 'female', 'prizes': [{'year': '1947'}]}\n",
      "{'gender': 'male', 'prizes': [{'year': '1947'}]}\n",
      "{'gender': 'male', 'prizes': [{'year': '1948'}]}\n",
      "{'gender': 'male', 'prizes': [{'year': '1949'}]}\n",
      "{'gender': 'male', 'prizes': [{'year': '1949'}]}\n",
      "{'gender': 'male', 'prizes': [{'year': '1950'}]}\n",
      "{'gender': 'male', 'prizes': [{'year': '1950'}]}\n",
      "{'gender': 'male', 'prizes': [{'year': '1950'}]}\n",
      "{'gender': 'male', 'prizes': [{'year': '1951'}]}\n",
      "{'gender': 'male', 'prizes': [{'year': '1952'}]}\n",
      "{'gender': 'male', 'prizes': [{'year': '1953'}]}\n",
      "{'gender': 'male', 'prizes': [{'year': '1953'}]}\n",
      "{'gender': 'male', 'prizes': [{'year': '1954'}]}\n",
      "{'gender': 'male', 'prizes': [{'year': '1954'}]}\n",
      "{'gender': 'male', 'prizes': [{'year': '1954'}]}\n",
      "{'gender': 'male', 'prizes': [{'year': '1955'}]}\n",
      "{'gender': 'male', 'prizes': [{'year': '1956'}]}\n",
      "{'gender': 'male', 'prizes': [{'year': '1956'}]}\n",
      "{'gender': 'male', 'prizes': [{'year': '1956'}]}\n",
      "{'gender': 'male', 'prizes': [{'year': '1957'}]}\n",
      "{'gender': 'male', 'prizes': [{'year': '1958'}]}\n",
      "{'gender': 'male', 'prizes': [{'year': '1958'}]}\n",
      "{'gender': 'male', 'prizes': [{'year': '1958'}]}\n",
      "{'gender': 'male', 'prizes': [{'year': '1959'}]}\n",
      "{'gender': 'male', 'prizes': [{'year': '1959'}]}\n",
      "{'gender': 'male', 'prizes': [{'year': '1960'}]}\n",
      "{'gender': 'male', 'prizes': [{'year': '1960'}]}\n",
      "{'gender': 'male', 'prizes': [{'year': '1961'}]}\n",
      "{'gender': 'male', 'prizes': [{'year': '1962'}]}\n",
      "{'gender': 'male', 'prizes': [{'year': '1962'}]}\n",
      "{'gender': 'male', 'prizes': [{'year': '1962'}]}\n",
      "{'gender': 'male', 'prizes': [{'year': '1963'}]}\n",
      "{'gender': 'male', 'prizes': [{'year': '1963'}]}\n",
      "{'gender': 'male', 'prizes': [{'year': '1963'}]}\n",
      "{'gender': 'male', 'prizes': [{'year': '1964'}]}\n",
      "{'gender': 'male', 'prizes': [{'year': '1964'}]}\n",
      "{'gender': 'male', 'prizes': [{'year': '1965'}]}\n",
      "{'gender': 'male', 'prizes': [{'year': '1965'}]}\n",
      "{'gender': 'male', 'prizes': [{'year': '1965'}]}\n",
      "{'gender': 'male', 'prizes': [{'year': '1966'}]}\n",
      "{'gender': 'male', 'prizes': [{'year': '1966'}]}\n",
      "{'gender': 'male', 'prizes': [{'year': '1967'}]}\n",
      "{'gender': 'male', 'prizes': [{'year': '1967'}]}\n",
      "{'gender': 'male', 'prizes': [{'year': '1967'}]}\n",
      "{'gender': 'male', 'prizes': [{'year': '1968'}]}\n",
      "{'gender': 'male', 'prizes': [{'year': '1968'}]}\n",
      "{'gender': 'male', 'prizes': [{'year': '1968'}]}\n",
      "{'gender': 'male', 'prizes': [{'year': '1969'}]}\n",
      "{'gender': 'male', 'prizes': [{'year': '1969'}]}\n",
      "{'gender': 'male', 'prizes': [{'year': '1969'}]}\n",
      "{'gender': 'male', 'prizes': [{'year': '1970'}]}\n",
      "{'gender': 'male', 'prizes': [{'year': '1970'}]}\n",
      "{'gender': 'male', 'prizes': [{'year': '1970'}]}\n",
      "{'gender': 'male', 'prizes': [{'year': '1971'}]}\n",
      "{'gender': 'male', 'prizes': [{'year': '1972'}]}\n",
      "{'gender': 'male', 'prizes': [{'year': '1972'}]}\n",
      "{'gender': 'male', 'prizes': [{'year': '1973'}]}\n",
      "{'gender': 'male', 'prizes': [{'year': '1973'}]}\n",
      "{'gender': 'male', 'prizes': [{'year': '1973'}]}\n",
      "{'gender': 'male', 'prizes': [{'year': '1974'}]}\n",
      "{'gender': 'male', 'prizes': [{'year': '1974'}]}\n",
      "{'gender': 'male', 'prizes': [{'year': '1974'}]}\n",
      "{'gender': 'male', 'prizes': [{'year': '1975'}]}\n",
      "{'gender': 'male', 'prizes': [{'year': '1975'}]}\n",
      "{'gender': 'male', 'prizes': [{'year': '1975'}]}\n",
      "{'gender': 'male', 'prizes': [{'year': '1976'}]}\n",
      "{'gender': 'male', 'prizes': [{'year': '1976'}]}\n",
      "{'gender': 'male', 'prizes': [{'year': '1977'}]}\n",
      "{'gender': 'male', 'prizes': [{'year': '1977'}]}\n",
      "{'gender': 'female', 'prizes': [{'year': '1977'}]}\n",
      "{'gender': 'male', 'prizes': [{'year': '1978'}]}\n",
      "{'gender': 'male', 'prizes': [{'year': '1978'}]}\n",
      "{'gender': 'male', 'prizes': [{'year': '1978'}]}\n",
      "{'gender': 'male', 'prizes': [{'year': '1979'}]}\n",
      "{'gender': 'male', 'prizes': [{'year': '1979'}]}\n",
      "{'gender': 'male', 'prizes': [{'year': '1980'}]}\n",
      "{'gender': 'male', 'prizes': [{'year': '1980'}]}\n",
      "{'gender': 'male', 'prizes': [{'year': '1980'}]}\n",
      "{'gender': 'male', 'prizes': [{'year': '1981'}]}\n",
      "{'gender': 'male', 'prizes': [{'year': '1981'}]}\n",
      "{'gender': 'male', 'prizes': [{'year': '1981'}]}\n",
      "{'gender': 'male', 'prizes': [{'year': '1982'}]}\n",
      "{'gender': 'male', 'prizes': [{'year': '1982'}]}\n",
      "{'gender': 'male', 'prizes': [{'year': '1982'}]}\n",
      "{'gender': 'female', 'prizes': [{'year': '1983'}]}\n",
      "{'gender': 'male', 'prizes': [{'year': '1984'}]}\n",
      "{'gender': 'male', 'prizes': [{'year': '1984'}]}\n",
      "{'gender': 'male', 'prizes': [{'year': '1984'}]}\n",
      "{'gender': 'male', 'prizes': [{'year': '1985'}]}\n",
      "{'gender': 'male', 'prizes': [{'year': '1985'}]}\n",
      "{'gender': 'male', 'prizes': [{'year': '1986'}]}\n",
      "{'gender': 'female', 'prizes': [{'year': '1986'}]}\n",
      "{'gender': 'male', 'prizes': [{'year': '1987'}]}\n",
      "{'gender': 'male', 'prizes': [{'year': '1988'}]}\n",
      "{'gender': 'female', 'prizes': [{'year': '1988'}]}\n",
      "{'gender': 'male', 'prizes': [{'year': '1988'}]}\n",
      "{'gender': 'male', 'prizes': [{'year': '1989'}]}\n",
      "{'gender': 'male', 'prizes': [{'year': '1989'}]}\n",
      "{'gender': 'male', 'prizes': [{'year': '1990'}]}\n",
      "{'gender': 'male', 'prizes': [{'year': '1990'}]}\n",
      "{'gender': 'male', 'prizes': [{'year': '1991'}]}\n",
      "{'gender': 'male', 'prizes': [{'year': '1991'}]}\n",
      "{'gender': 'male', 'prizes': [{'year': '1992'}]}\n",
      "{'gender': 'male', 'prizes': [{'year': '1992'}]}\n",
      "{'gender': 'male', 'prizes': [{'year': '1993'}]}\n",
      "{'gender': 'male', 'prizes': [{'year': '1993'}]}\n",
      "{'gender': 'male', 'prizes': [{'year': '1994'}]}\n",
      "{'gender': 'male', 'prizes': [{'year': '1994'}]}\n",
      "{'gender': 'male', 'prizes': [{'year': '1995'}]}\n",
      "{'gender': 'female', 'prizes': [{'year': '1995'}]}\n",
      "{'gender': 'male', 'prizes': [{'year': '1995'}]}\n",
      "{'gender': 'male', 'prizes': [{'year': '1996'}]}\n",
      "{'gender': 'male', 'prizes': [{'year': '1996'}]}\n",
      "{'gender': 'male', 'prizes': [{'year': '1997'}]}\n",
      "{'gender': 'male', 'prizes': [{'year': '1998'}]}\n",
      "{'gender': 'male', 'prizes': [{'year': '1998'}]}\n",
      "{'gender': 'male', 'prizes': [{'year': '1998'}]}\n",
      "{'gender': 'male', 'prizes': [{'year': '1999'}]}\n",
      "{'gender': 'male', 'prizes': [{'year': '1901'}]}\n",
      "{'gender': 'male', 'prizes': [{'year': '1901'}]}\n",
      "{'gender': 'male', 'prizes': [{'year': '1902'}]}\n",
      "{'gender': 'male', 'prizes': [{'year': '1902'}]}\n",
      "{'gender': 'male', 'prizes': [{'year': '1903'}]}\n",
      "{'gender': 'org', 'prizes': [{'year': '1904'}]}\n",
      "{'gender': 'female', 'prizes': [{'year': '1905'}]}\n",
      "{'gender': 'male', 'prizes': [{'year': '1906'}]}\n",
      "{'gender': 'male', 'prizes': [{'year': '1907'}]}\n",
      "{'gender': 'male', 'prizes': [{'year': '1907'}]}\n",
      "{'gender': 'male', 'prizes': [{'year': '1908'}]}\n",
      "{'gender': 'male', 'prizes': [{'year': '1908'}]}\n",
      "{'gender': 'male', 'prizes': [{'year': '1909'}]}\n",
      "{'gender': 'male', 'prizes': [{'year': '1909'}]}\n",
      "{'gender': 'org', 'prizes': [{'year': '1910'}]}\n",
      "{'gender': 'male', 'prizes': [{'year': '1911'}]}\n",
      "{'gender': 'male', 'prizes': [{'year': '1911'}]}\n",
      "{'gender': 'male', 'prizes': [{'year': '1912'}]}\n",
      "{'gender': 'male', 'prizes': [{'year': '1913'}]}\n",
      "{'gender': 'org', 'prizes': [{'year': '1917'}, {'year': '1944'}, {'year': '1963'}]}\n",
      "{'gender': 'male', 'prizes': [{'year': '1919'}]}\n",
      "{'gender': 'male', 'prizes': [{'year': '1920'}]}\n",
      "{'gender': 'male', 'prizes': [{'year': '1921'}]}\n",
      "{'gender': 'male', 'prizes': [{'year': '1921'}]}\n",
      "{'gender': 'male', 'prizes': [{'year': '1922'}]}\n",
      "{'gender': 'male', 'prizes': [{'year': '1925'}]}\n",
      "{'gender': 'male', 'prizes': [{'year': '1925'}]}\n",
      "{'gender': 'male', 'prizes': [{'year': '1926'}]}\n",
      "{'gender': 'male', 'prizes': [{'year': '1926'}]}\n",
      "{'gender': 'male', 'prizes': [{'year': '1927'}]}\n",
      "{'gender': 'male', 'prizes': [{'year': '1927'}]}\n",
      "{'gender': 'male', 'prizes': [{'year': '1929'}]}\n",
      "{'gender': 'male', 'prizes': [{'year': '1930'}]}\n",
      "{'gender': 'female', 'prizes': [{'year': '1931'}]}\n",
      "{'gender': 'male', 'prizes': [{'year': '1931'}]}\n",
      "{'gender': 'male', 'prizes': [{'year': '1933'}]}\n",
      "{'gender': 'male', 'prizes': [{'year': '1934'}]}\n",
      "{'gender': 'male', 'prizes': [{'year': '1935'}]}\n",
      "{'gender': 'male', 'prizes': [{'year': '1936'}]}\n",
      "{'gender': 'male', 'prizes': [{'year': '1937'}]}\n",
      "{'gender': 'org', 'prizes': [{'year': '1938'}]}\n",
      "{'gender': 'male', 'prizes': [{'year': '1945'}]}\n",
      "{'gender': 'female', 'prizes': [{'year': '1946'}]}\n",
      "{'gender': 'male', 'prizes': [{'year': '1946'}]}\n",
      "{'gender': 'org', 'prizes': [{'year': '1947'}]}\n",
      "{'gender': 'org', 'prizes': [{'year': '1947'}]}\n",
      "{'gender': 'male', 'prizes': [{'year': '1949'}]}\n",
      "{'gender': 'male', 'prizes': [{'year': '1950'}]}\n",
      "{'gender': 'male', 'prizes': [{'year': '1951'}]}\n",
      "{'gender': 'male', 'prizes': [{'year': '1952'}]}\n",
      "{'gender': 'male', 'prizes': [{'year': '1953'}]}\n",
      "{'gender': 'org', 'prizes': [{'year': '1954'}, {'year': '1981'}]}\n",
      "{'gender': 'male', 'prizes': [{'year': '1957'}]}\n",
      "{'gender': 'male', 'prizes': [{'year': '1958'}]}\n",
      "{'gender': 'male', 'prizes': [{'year': '1959'}]}\n",
      "{'gender': 'male', 'prizes': [{'year': '1960'}]}\n",
      "{'gender': 'male', 'prizes': [{'year': '1961'}]}\n",
      "{'gender': 'org', 'prizes': [{'year': '1963'}]}\n",
      "{'gender': 'male', 'prizes': [{'year': '1964'}]}\n",
      "{'gender': 'org', 'prizes': [{'year': '1965'}]}\n",
      "{'gender': 'male', 'prizes': [{'year': '1968'}]}\n",
      "{'gender': 'org', 'prizes': [{'year': '1969'}]}\n",
      "{'gender': 'male', 'prizes': [{'year': '1970'}]}\n",
      "{'gender': 'male', 'prizes': [{'year': '1971'}]}\n",
      "{'gender': 'male', 'prizes': [{'year': '1973'}]}\n",
      "{'gender': 'male', 'prizes': [{'year': '1973'}]}\n",
      "{'gender': 'male', 'prizes': [{'year': '1974'}]}\n",
      "{'gender': 'male', 'prizes': [{'year': '1974'}]}\n",
      "{'gender': 'male', 'prizes': [{'year': '1975'}]}\n",
      "{'gender': 'female', 'prizes': [{'year': '1976'}]}\n",
      "{'gender': 'female', 'prizes': [{'year': '1976'}]}\n",
      "{'gender': 'org', 'prizes': [{'year': '1977'}]}\n",
      "{'gender': 'male', 'prizes': [{'year': '1978'}]}\n",
      "{'gender': 'male', 'prizes': [{'year': '1978'}]}\n",
      "{'gender': 'female', 'prizes': [{'year': '1979'}]}\n",
      "{'gender': 'male', 'prizes': [{'year': '1980'}]}\n",
      "{'gender': 'female', 'prizes': [{'year': '1982'}]}\n",
      "{'gender': 'male', 'prizes': [{'year': '1982'}]}\n",
      "{'gender': 'male', 'prizes': [{'year': '1983'}]}\n",
      "{'gender': 'male', 'prizes': [{'year': '1984'}]}\n",
      "{'gender': 'org', 'prizes': [{'year': '1985'}]}\n",
      "{'gender': 'male', 'prizes': [{'year': '1986'}]}\n",
      "{'gender': 'male', 'prizes': [{'year': '1987'}]}\n",
      "{'gender': 'org', 'prizes': [{'year': '1988'}]}\n",
      "{'gender': 'male', 'prizes': [{'year': '1989'}]}\n",
      "{'gender': 'male', 'prizes': [{'year': '1990'}]}\n",
      "{'gender': 'female', 'prizes': [{'year': '1991'}]}\n",
      "{'gender': 'female', 'prizes': [{'year': '1992'}]}\n",
      "{'gender': 'male', 'prizes': [{'year': '1993'}]}\n",
      "{'gender': 'male', 'prizes': [{'year': '1993'}]}\n",
      "{'gender': 'male', 'prizes': [{'year': '1994'}]}\n",
      "{'gender': 'male', 'prizes': [{'year': '1994'}]}\n",
      "{'gender': 'male', 'prizes': [{'year': '1994'}]}\n",
      "{'gender': 'male', 'prizes': [{'year': '1995'}]}\n",
      "{'gender': 'org', 'prizes': [{'year': '1995'}]}\n",
      "{'gender': 'male', 'prizes': [{'year': '1996'}]}\n",
      "{'gender': 'male', 'prizes': [{'year': '1996'}]}\n",
      "{'gender': 'org', 'prizes': [{'year': '1997'}]}\n",
      "{'gender': 'female', 'prizes': [{'year': '1997'}]}\n",
      "{'gender': 'male', 'prizes': [{'year': '1998'}]}\n",
      "{'gender': 'male', 'prizes': [{'year': '1998'}]}\n",
      "{'gender': 'org', 'prizes': [{'year': '1999'}]}\n",
      "{'gender': 'male', 'prizes': [{'year': '1901'}]}\n",
      "{'gender': 'male', 'prizes': [{'year': '1902'}]}\n",
      "{'gender': 'male', 'prizes': [{'year': '1903'}]}\n",
      "{'gender': 'male', 'prizes': [{'year': '1904'}]}\n",
      "{'gender': 'male', 'prizes': [{'year': '1904'}]}\n",
      "{'gender': 'male', 'prizes': [{'year': '1905'}]}\n",
      "{'gender': 'male', 'prizes': [{'year': '1906'}]}\n",
      "{'gender': 'male', 'prizes': [{'year': '1907'}]}\n",
      "{'gender': 'male', 'prizes': [{'year': '1908'}]}\n",
      "{'gender': 'female', 'prizes': [{'year': '1909'}]}\n",
      "{'gender': 'male', 'prizes': [{'year': '1910'}]}\n",
      "{'gender': 'male', 'prizes': [{'year': '1911'}]}\n",
      "{'gender': 'male', 'prizes': [{'year': '1912'}]}\n",
      "{'gender': 'male', 'prizes': [{'year': '1913'}]}\n",
      "{'gender': 'male', 'prizes': [{'year': '1915'}]}\n",
      "{'gender': 'male', 'prizes': [{'year': '1916'}]}\n",
      "{'gender': 'male', 'prizes': [{'year': '1917'}]}\n",
      "{'gender': 'male', 'prizes': [{'year': '1917'}]}\n",
      "{'gender': 'male', 'prizes': [{'year': '1919'}]}\n",
      "{'gender': 'male', 'prizes': [{'year': '1920'}]}\n",
      "{'gender': 'male', 'prizes': [{'year': '1921'}]}\n",
      "{'gender': 'male', 'prizes': [{'year': '1922'}]}\n",
      "{'gender': 'male', 'prizes': [{'year': '1923'}]}\n",
      "{'gender': 'male', 'prizes': [{'year': '1924'}]}\n",
      "{'gender': 'male', 'prizes': [{'year': '1925'}]}\n",
      "{'gender': 'female', 'prizes': [{'year': '1926'}]}\n",
      "{'gender': 'male', 'prizes': [{'year': '1927'}]}\n",
      "{'gender': 'female', 'prizes': [{'year': '1928'}]}\n",
      "{'gender': 'male', 'prizes': [{'year': '1929'}]}\n",
      "{'gender': 'male', 'prizes': [{'year': '1930'}]}\n",
      "{'gender': 'male', 'prizes': [{'year': '1931'}]}\n",
      "{'gender': 'male', 'prizes': [{'year': '1932'}]}\n",
      "{'gender': 'male', 'prizes': [{'year': '1933'}]}\n",
      "{'gender': 'male', 'prizes': [{'year': '1934'}]}\n",
      "{'gender': 'male', 'prizes': [{'year': '1936'}]}\n",
      "{'gender': 'male', 'prizes': [{'year': '1937'}]}\n",
      "{'gender': 'female', 'prizes': [{'year': '1938'}]}\n",
      "{'gender': 'male', 'prizes': [{'year': '1939'}]}\n",
      "{'gender': 'male', 'prizes': [{'year': '1944'}]}\n",
      "{'gender': 'female', 'prizes': [{'year': '1945'}]}\n",
      "{'gender': 'male', 'prizes': [{'year': '1946'}]}\n",
      "{'gender': 'male', 'prizes': [{'year': '1947'}]}\n",
      "{'gender': 'male', 'prizes': [{'year': '1948'}]}\n",
      "{'gender': 'male', 'prizes': [{'year': '1949'}]}\n",
      "{'gender': 'male', 'prizes': [{'year': '1950'}]}\n",
      "{'gender': 'male', 'prizes': [{'year': '1951'}]}\n",
      "{'gender': 'male', 'prizes': [{'year': '1952'}]}\n",
      "{'gender': 'male', 'prizes': [{'year': '1953'}]}\n",
      "{'gender': 'male', 'prizes': [{'year': '1954'}]}\n",
      "{'gender': 'male', 'prizes': [{'year': '1955'}]}\n",
      "{'gender': 'male', 'prizes': [{'year': '1956'}]}\n",
      "{'gender': 'male', 'prizes': [{'year': '1957'}]}\n",
      "{'gender': 'male', 'prizes': [{'year': '1958'}]}\n",
      "{'gender': 'male', 'prizes': [{'year': '1959'}]}\n",
      "{'gender': 'male', 'prizes': [{'year': '1960'}]}\n",
      "{'gender': 'male', 'prizes': [{'year': '1961'}]}\n",
      "{'gender': 'male', 'prizes': [{'year': '1962'}]}\n",
      "{'gender': 'male', 'prizes': [{'year': '1963'}]}\n",
      "{'gender': 'male', 'prizes': [{'year': '1964'}]}\n",
      "{'gender': 'male', 'prizes': [{'year': '1965'}]}\n",
      "{'gender': 'male', 'prizes': [{'year': '1966'}]}\n",
      "{'gender': 'female', 'prizes': [{'year': '1966'}]}\n",
      "{'gender': 'male', 'prizes': [{'year': '1967'}]}\n",
      "{'gender': 'male', 'prizes': [{'year': '1968'}]}\n",
      "{'gender': 'male', 'prizes': [{'year': '1969'}]}\n",
      "{'gender': 'male', 'prizes': [{'year': '1970'}]}\n",
      "{'gender': 'male', 'prizes': [{'year': '1971'}]}\n",
      "{'gender': 'male', 'prizes': [{'year': '1972'}]}\n",
      "{'gender': 'male', 'prizes': [{'year': '1973'}]}\n",
      "{'gender': 'male', 'prizes': [{'year': '1974'}]}\n",
      "{'gender': 'male', 'prizes': [{'year': '1974'}]}\n",
      "{'gender': 'male', 'prizes': [{'year': '1975'}]}\n",
      "{'gender': 'male', 'prizes': [{'year': '1976'}]}\n",
      "{'gender': 'male', 'prizes': [{'year': '1977'}]}\n",
      "{'gender': 'male', 'prizes': [{'year': '1978'}]}\n",
      "{'gender': 'male', 'prizes': [{'year': '1979'}]}\n",
      "{'gender': 'male', 'prizes': [{'year': '1980'}]}\n",
      "{'gender': 'male', 'prizes': [{'year': '1981'}]}\n",
      "{'gender': 'male', 'prizes': [{'year': '1982'}]}\n",
      "{'gender': 'male', 'prizes': [{'year': '1983'}]}\n",
      "{'gender': 'male', 'prizes': [{'year': '1984'}]}\n",
      "{'gender': 'male', 'prizes': [{'year': '1985'}]}\n",
      "{'gender': 'male', 'prizes': [{'year': '1986'}]}\n",
      "{'gender': 'male', 'prizes': [{'year': '1987'}]}\n",
      "{'gender': 'male', 'prizes': [{'year': '1988'}]}\n",
      "{'gender': 'male', 'prizes': [{'year': '1989'}]}\n",
      "{'gender': 'male', 'prizes': [{'year': '1990'}]}\n",
      "{'gender': 'female', 'prizes': [{'year': '1991'}]}\n",
      "{'gender': 'male', 'prizes': [{'year': '1992'}]}\n",
      "{'gender': 'female', 'prizes': [{'year': '1993'}]}\n",
      "{'gender': 'male', 'prizes': [{'year': '1994'}]}\n",
      "{'gender': 'male', 'prizes': [{'year': '1995'}]}\n",
      "{'gender': 'female', 'prizes': [{'year': '1996'}]}\n",
      "{'gender': 'male', 'prizes': [{'year': '1997'}]}\n",
      "{'gender': 'male', 'prizes': [{'year': '1998'}]}\n",
      "{'gender': 'male', 'prizes': [{'year': '1999'}]}\n",
      "{'gender': 'male', 'prizes': [{'year': '1969'}]}\n",
      "{'gender': 'male', 'prizes': [{'year': '1969'}]}\n",
      "{'gender': 'male', 'prizes': [{'year': '1970'}]}\n",
      "{'gender': 'male', 'prizes': [{'year': '1971'}]}\n",
      "{'gender': 'male', 'prizes': [{'year': '1972'}]}\n",
      "{'gender': 'male', 'prizes': [{'year': '1972'}]}\n",
      "{'gender': 'male', 'prizes': [{'year': '1973'}]}\n",
      "{'gender': 'male', 'prizes': [{'year': '1974'}]}\n",
      "{'gender': 'male', 'prizes': [{'year': '1974'}]}\n",
      "{'gender': 'male', 'prizes': [{'year': '1975'}]}\n",
      "{'gender': 'male', 'prizes': [{'year': '1975'}]}\n",
      "{'gender': 'male', 'prizes': [{'year': '1976'}]}\n",
      "{'gender': 'male', 'prizes': [{'year': '1977'}]}\n",
      "{'gender': 'male', 'prizes': [{'year': '1977'}]}\n",
      "{'gender': 'male', 'prizes': [{'year': '1978'}]}\n",
      "{'gender': 'male', 'prizes': [{'year': '1979'}]}\n",
      "{'gender': 'male', 'prizes': [{'year': '1979'}]}\n",
      "{'gender': 'male', 'prizes': [{'year': '1980'}]}\n",
      "{'gender': 'male', 'prizes': [{'year': '1981'}]}\n",
      "{'gender': 'male', 'prizes': [{'year': '1982'}]}\n",
      "{'gender': 'male', 'prizes': [{'year': '1983'}]}\n",
      "{'gender': 'male', 'prizes': [{'year': '1984'}]}\n",
      "{'gender': 'male', 'prizes': [{'year': '1985'}]}\n",
      "{'gender': 'male', 'prizes': [{'year': '1986'}]}\n",
      "{'gender': 'male', 'prizes': [{'year': '1987'}]}\n",
      "{'gender': 'male', 'prizes': [{'year': '1988'}]}\n",
      "{'gender': 'male', 'prizes': [{'year': '1989'}]}\n",
      "{'gender': 'male', 'prizes': [{'year': '1990'}]}\n",
      "{'gender': 'male', 'prizes': [{'year': '1990'}]}\n",
      "{'gender': 'male', 'prizes': [{'year': '1990'}]}\n",
      "{'gender': 'male', 'prizes': [{'year': '1991'}]}\n",
      "{'gender': 'male', 'prizes': [{'year': '1992'}]}\n",
      "{'gender': 'male', 'prizes': [{'year': '1993'}]}\n",
      "{'gender': 'male', 'prizes': [{'year': '1993'}]}\n",
      "{'gender': 'male', 'prizes': [{'year': '1994'}]}\n",
      "{'gender': 'male', 'prizes': [{'year': '1994'}]}\n",
      "{'gender': 'male', 'prizes': [{'year': '1994'}]}\n",
      "{'gender': 'male', 'prizes': [{'year': '1995'}]}\n",
      "{'gender': 'male', 'prizes': [{'year': '1996'}]}\n",
      "{'gender': 'male', 'prizes': [{'year': '1996'}]}\n",
      "{'gender': 'male', 'prizes': [{'year': '1997'}]}\n",
      "{'gender': 'male', 'prizes': [{'year': '1997'}]}\n",
      "{'gender': 'male', 'prizes': [{'year': '1998'}]}\n",
      "{'gender': 'male', 'prizes': [{'year': '1999'}]}\n",
      "{'gender': 'male', 'prizes': [{'year': '1958'}]}\n",
      "{'gender': 'male', 'prizes': [{'year': '2000'}]}\n",
      "{'gender': 'male', 'prizes': [{'year': '2000'}]}\n",
      "{'gender': 'male', 'prizes': [{'year': '2000'}]}\n",
      "{'gender': 'male', 'prizes': [{'year': '2000'}]}\n",
      "{'gender': 'male', 'prizes': [{'year': '2000'}]}\n",
      "{'gender': 'male', 'prizes': [{'year': '2000'}]}\n",
      "{'gender': 'male', 'prizes': [{'year': '2000'}]}\n",
      "{'gender': 'male', 'prizes': [{'year': '2000'}]}\n",
      "{'gender': 'male', 'prizes': [{'year': '2000'}]}\n",
      "{'gender': 'male', 'prizes': [{'year': '2000'}]}\n",
      "{'gender': 'male', 'prizes': [{'year': '2000'}]}\n",
      "{'gender': 'male', 'prizes': [{'year': '2000'}]}\n",
      "{'gender': 'male', 'prizes': [{'year': '2000'}]}\n",
      "{'gender': 'male', 'prizes': [{'year': '2001'}]}\n",
      "{'gender': 'male', 'prizes': [{'year': '2001'}]}\n",
      "{'gender': 'male', 'prizes': [{'year': '2001'}]}\n",
      "{'gender': 'male', 'prizes': [{'year': '2001'}]}\n",
      "{'gender': 'male', 'prizes': [{'year': '2001'}]}\n",
      "{'gender': 'male', 'prizes': [{'year': '2001'}]}\n",
      "{'gender': 'male', 'prizes': [{'year': '2001'}]}\n",
      "{'gender': 'male', 'prizes': [{'year': '2001'}]}\n",
      "{'gender': 'male', 'prizes': [{'year': '2001'}]}\n",
      "{'gender': 'male', 'prizes': [{'year': '2001'}]}\n",
      "{'gender': 'male', 'prizes': [{'year': '2001'}]}\n",
      "{'gender': 'male', 'prizes': [{'year': '2001'}]}\n",
      "{'gender': 'male', 'prizes': [{'year': '2001'}]}\n",
      "{'gender': 'org', 'prizes': [{'year': '2001'}]}\n",
      "{'gender': 'male', 'prizes': [{'year': '2001'}]}\n",
      "{'gender': 'male', 'prizes': [{'year': '2002'}]}\n",
      "{'gender': 'male', 'prizes': [{'year': '2002'}]}\n",
      "{'gender': 'male', 'prizes': [{'year': '2002'}]}\n",
      "{'gender': 'male', 'prizes': [{'year': '2002'}]}\n",
      "{'gender': 'male', 'prizes': [{'year': '2002'}]}\n",
      "{'gender': 'male', 'prizes': [{'year': '2002'}]}\n",
      "{'gender': 'male', 'prizes': [{'year': '2002'}]}\n",
      "{'gender': 'male', 'prizes': [{'year': '2002'}]}\n",
      "{'gender': 'male', 'prizes': [{'year': '2002'}]}\n",
      "{'gender': 'male', 'prizes': [{'year': '2002'}]}\n",
      "{'gender': 'male', 'prizes': [{'year': '2002'}]}\n",
      "{'gender': 'male', 'prizes': [{'year': '2002'}]}\n",
      "{'gender': 'male', 'prizes': [{'year': '2002'}]}\n",
      "{'gender': 'male', 'prizes': [{'year': '2003'}]}\n",
      "{'gender': 'male', 'prizes': [{'year': '2003'}]}\n",
      "{'gender': 'male', 'prizes': [{'year': '2003'}]}\n",
      "{'gender': 'male', 'prizes': [{'year': '2003'}]}\n",
      "{'gender': 'male', 'prizes': [{'year': '2003'}]}\n",
      "{'gender': 'male', 'prizes': [{'year': '2003'}]}\n",
      "{'gender': 'male', 'prizes': [{'year': '2003'}]}\n",
      "{'gender': 'male', 'prizes': [{'year': '2003'}]}\n",
      "{'gender': 'male', 'prizes': [{'year': '2003'}]}\n",
      "{'gender': 'male', 'prizes': [{'year': '2003'}]}\n",
      "{'gender': 'female', 'prizes': [{'year': '2003'}]}\n",
      "{'gender': 'male', 'prizes': [{'year': '2004'}]}\n",
      "{'gender': 'female', 'prizes': [{'year': '2004'}]}\n",
      "{'gender': 'male', 'prizes': [{'year': '2004'}]}\n",
      "{'gender': 'male', 'prizes': [{'year': '2004'}]}\n",
      "{'gender': 'male', 'prizes': [{'year': '2004'}]}\n",
      "{'gender': 'male', 'prizes': [{'year': '2004'}]}\n",
      "{'gender': 'male', 'prizes': [{'year': '2004'}]}\n",
      "{'gender': 'male', 'prizes': [{'year': '2004'}]}\n",
      "{'gender': 'female', 'prizes': [{'year': '2004'}]}\n",
      "{'gender': 'female', 'prizes': [{'year': '2004'}]}\n",
      "{'gender': 'male', 'prizes': [{'year': '2004'}]}\n",
      "{'gender': 'male', 'prizes': [{'year': '2004'}]}\n",
      "{'gender': 'male', 'prizes': [{'year': '2005'}]}\n",
      "{'gender': 'male', 'prizes': [{'year': '2005'}]}\n",
      "{'gender': 'male', 'prizes': [{'year': '2005'}]}\n",
      "{'gender': 'male', 'prizes': [{'year': '2005'}]}\n",
      "{'gender': 'male', 'prizes': [{'year': '2005'}]}\n",
      "{'gender': 'male', 'prizes': [{'year': '2005'}]}\n",
      "{'gender': 'male', 'prizes': [{'year': '2005'}]}\n",
      "{'gender': 'male', 'prizes': [{'year': '2005'}]}\n",
      "{'gender': 'org', 'prizes': [{'year': '2005'}]}\n",
      "{'gender': 'male', 'prizes': [{'year': '2005'}]}\n",
      "{'gender': 'male', 'prizes': [{'year': '2005'}]}\n",
      "{'gender': 'male', 'prizes': [{'year': '2005'}]}\n",
      "{'gender': 'male', 'prizes': [{'year': '2005'}]}\n",
      "{'gender': 'male', 'prizes': [{'year': '2006'}]}\n",
      "{'gender': 'male', 'prizes': [{'year': '2006'}]}\n",
      "{'gender': 'male', 'prizes': [{'year': '2006'}]}\n",
      "{'gender': 'male', 'prizes': [{'year': '2006'}]}\n",
      "{'gender': 'male', 'prizes': [{'year': '2006'}]}\n",
      "{'gender': 'male', 'prizes': [{'year': '2006'}]}\n",
      "{'gender': 'male', 'prizes': [{'year': '2006'}]}\n",
      "{'gender': 'male', 'prizes': [{'year': '2006'}]}\n",
      "{'gender': 'org', 'prizes': [{'year': '2006'}]}\n",
      "{'gender': 'male', 'prizes': [{'year': '2007'}]}\n",
      "{'gender': 'male', 'prizes': [{'year': '2007'}]}\n",
      "{'gender': 'male', 'prizes': [{'year': '2007'}]}\n",
      "{'gender': 'male', 'prizes': [{'year': '2007'}]}\n",
      "{'gender': 'male', 'prizes': [{'year': '2007'}]}\n",
      "{'gender': 'male', 'prizes': [{'year': '2007'}]}\n",
      "{'gender': 'female', 'prizes': [{'year': '2007'}]}\n",
      "{'gender': 'org', 'prizes': [{'year': '2007'}]}\n",
      "{'gender': 'male', 'prizes': [{'year': '2007'}]}\n",
      "{'gender': 'male', 'prizes': [{'year': '2007'}]}\n",
      "{'gender': 'male', 'prizes': [{'year': '2007'}]}\n",
      "{'gender': 'male', 'prizes': [{'year': '2007'}]}\n",
      "{'gender': 'male', 'prizes': [{'year': '2008'}]}\n",
      "{'gender': 'female', 'prizes': [{'year': '2008'}]}\n",
      "{'gender': 'male', 'prizes': [{'year': '2008'}]}\n",
      "{'gender': 'male', 'prizes': [{'year': '2008'}]}\n",
      "{'gender': 'male', 'prizes': [{'year': '2008'}]}\n",
      "{'gender': 'male', 'prizes': [{'year': '2008'}]}\n",
      "{'gender': 'male', 'prizes': [{'year': '2008'}]}\n",
      "{'gender': 'male', 'prizes': [{'year': '2008'}]}\n",
      "{'gender': 'male', 'prizes': [{'year': '2008'}]}\n",
      "{'gender': 'male', 'prizes': [{'year': '2008'}]}\n",
      "{'gender': 'male', 'prizes': [{'year': '2008'}]}\n",
      "{'gender': 'male', 'prizes': [{'year': '2008'}]}\n",
      "{'gender': 'female', 'prizes': [{'year': '2009'}]}\n",
      "{'gender': 'female', 'prizes': [{'year': '2009'}]}\n",
      "{'gender': 'male', 'prizes': [{'year': '2009'}]}\n",
      "{'gender': 'male', 'prizes': [{'year': '2009'}]}\n",
      "{'gender': 'male', 'prizes': [{'year': '2009'}]}\n",
      "{'gender': 'male', 'prizes': [{'year': '2009'}]}\n",
      "{'gender': 'male', 'prizes': [{'year': '2009'}]}\n",
      "{'gender': 'male', 'prizes': [{'year': '2009'}]}\n",
      "{'gender': 'female', 'prizes': [{'year': '2009'}]}\n",
      "{'gender': 'female', 'prizes': [{'year': '2009'}]}\n",
      "{'gender': 'male', 'prizes': [{'year': '2009'}]}\n",
      "{'gender': 'female', 'prizes': [{'year': '2009'}]}\n",
      "{'gender': 'male', 'prizes': [{'year': '2009'}]}\n",
      "{'gender': 'male', 'prizes': [{'year': '2010'}]}\n",
      "{'gender': 'male', 'prizes': [{'year': '2010'}]}\n",
      "{'gender': 'male', 'prizes': [{'year': '2010'}]}\n",
      "{'gender': 'male', 'prizes': [{'year': '2010'}]}\n",
      "{'gender': 'male', 'prizes': [{'year': '2010'}]}\n",
      "{'gender': 'male', 'prizes': [{'year': '2010'}]}\n",
      "{'gender': 'male', 'prizes': [{'year': '2010'}]}\n",
      "{'gender': 'male', 'prizes': [{'year': '2010'}]}\n",
      "{'gender': 'male', 'prizes': [{'year': '2010'}]}\n",
      "{'gender': 'male', 'prizes': [{'year': '2010'}]}\n",
      "{'gender': 'male', 'prizes': [{'year': '2010'}]}\n",
      "{'gender': 'male', 'prizes': [{'year': '2011'}]}\n",
      "{'gender': 'male', 'prizes': [{'year': '2011'}]}\n",
      "{'gender': 'male', 'prizes': [{'year': '2011'}]}\n",
      "{'gender': 'male', 'prizes': [{'year': '2011'}]}\n",
      "{'gender': 'male', 'prizes': [{'year': '2011'}]}\n",
      "{'gender': 'male', 'prizes': [{'year': '2011'}]}\n",
      "{'gender': 'male', 'prizes': [{'year': '2011'}]}\n",
      "{'gender': 'male', 'prizes': [{'year': '2011'}]}\n",
      "{'gender': 'female', 'prizes': [{'year': '2011'}]}\n",
      "{'gender': 'female', 'prizes': [{'year': '2011'}]}\n",
      "{'gender': 'female', 'prizes': [{'year': '2011'}]}\n",
      "{'gender': 'male', 'prizes': [{'year': '2011'}]}\n",
      "{'gender': 'male', 'prizes': [{'year': '2011'}]}\n",
      "{'gender': 'male', 'prizes': [{'year': '2012'}]}\n",
      "{'gender': 'male', 'prizes': [{'year': '2012'}]}\n",
      "{'gender': 'male', 'prizes': [{'year': '2012'}]}\n",
      "{'gender': 'male', 'prizes': [{'year': '2012'}]}\n",
      "{'gender': 'male', 'prizes': [{'year': '2012'}]}\n",
      "{'gender': 'male', 'prizes': [{'year': '2012'}]}\n",
      "{'gender': 'male', 'prizes': [{'year': '2012'}]}\n",
      "{'gender': 'org', 'prizes': [{'year': '2012'}]}\n",
      "{'gender': 'male', 'prizes': [{'year': '2012'}]}\n",
      "{'gender': 'male', 'prizes': [{'year': '2012'}]}\n",
      "{'gender': 'male', 'prizes': [{'year': '2013'}]}\n",
      "{'gender': 'male', 'prizes': [{'year': '2013'}]}\n",
      "{'gender': 'male', 'prizes': [{'year': '2013'}]}\n",
      "{'gender': 'male', 'prizes': [{'year': '2013'}]}\n",
      "{'gender': 'male', 'prizes': [{'year': '2013'}]}\n",
      "{'gender': 'male', 'prizes': [{'year': '2013'}]}\n",
      "{'gender': 'male', 'prizes': [{'year': '2013'}]}\n",
      "{'gender': 'male', 'prizes': [{'year': '2013'}]}\n",
      "{'gender': 'female', 'prizes': [{'year': '2013'}]}\n",
      "{'gender': 'org', 'prizes': [{'year': '2013'}]}\n",
      "{'gender': 'male', 'prizes': [{'year': '2013'}]}\n",
      "{'gender': 'male', 'prizes': [{'year': '2013'}]}\n",
      "{'gender': 'male', 'prizes': [{'year': '2013'}]}\n",
      "{'gender': 'male', 'prizes': [{}]}\n",
      "{'gender': 'male', 'prizes': [{}]}\n",
      "{'gender': 'male', 'prizes': [{}]}\n",
      "{'gender': 'male', 'prizes': [{}]}\n",
      "{'gender': 'male', 'prizes': [{}]}\n",
      "{'gender': 'male', 'prizes': [{}]}\n",
      "{'gender': 'male', 'prizes': [{'year': '2014'}]}\n",
      "{'gender': 'female', 'prizes': [{'year': '2014'}]}\n",
      "{'gender': 'male', 'prizes': [{'year': '2014'}]}\n",
      "{'gender': 'male', 'prizes': [{'year': '2014'}]}\n",
      "{'gender': 'male', 'prizes': [{'year': '2014'}]}\n",
      "{'gender': 'male', 'prizes': [{'year': '2014'}]}\n",
      "{'gender': 'male', 'prizes': [{'year': '2014'}]}\n",
      "{'gender': 'male', 'prizes': [{'year': '2014'}]}\n",
      "{'gender': 'male', 'prizes': [{'year': '2014'}]}\n",
      "{'gender': 'male', 'prizes': [{'year': '2014'}]}\n",
      "{'gender': 'male', 'prizes': [{'year': '2014'}]}\n",
      "{'gender': 'female', 'prizes': [{'year': '2014'}]}\n",
      "{'gender': 'male', 'prizes': [{'year': '2014'}]}\n",
      "{'gender': 'male', 'prizes': [{'year': '2015'}]}\n",
      "{'gender': 'male', 'prizes': [{'year': '2015'}]}\n",
      "{'gender': 'female', 'prizes': [{'year': '2015'}]}\n",
      "{'gender': 'male', 'prizes': [{'year': '2015'}]}\n",
      "{'gender': 'male', 'prizes': [{'year': '2015'}]}\n",
      "{'gender': 'male', 'prizes': [{'year': '2015'}]}\n",
      "{'gender': 'male', 'prizes': [{'year': '2015'}]}\n",
      "{'gender': 'male', 'prizes': [{'year': '2015'}]}\n",
      "{'gender': 'female', 'prizes': [{'year': '2015'}]}\n",
      "{'gender': 'org', 'prizes': [{'year': '2015'}]}\n",
      "{'gender': 'male', 'prizes': [{'year': '2015'}]}\n",
      "{'gender': 'male', 'prizes': [{'year': '2016'}]}\n",
      "{'gender': 'male', 'prizes': [{'year': '2016'}]}\n",
      "{'gender': 'male', 'prizes': [{'year': '2016'}]}\n",
      "{'gender': 'male', 'prizes': [{'year': '2016'}]}\n",
      "{'gender': 'male', 'prizes': [{'year': '2016'}]}\n",
      "{'gender': 'male', 'prizes': [{'year': '2016'}]}\n",
      "{'gender': 'male', 'prizes': [{'year': '2016'}]}\n",
      "{'gender': 'male', 'prizes': [{'year': '2016'}]}\n",
      "{'gender': 'male', 'prizes': [{'year': '2016'}]}\n",
      "{'gender': 'male', 'prizes': [{'year': '2016'}]}\n",
      "{'gender': 'male', 'prizes': [{'year': '2016'}]}\n",
      "{'gender': 'male', 'prizes': [{'year': '2017'}]}\n",
      "{'gender': 'male', 'prizes': [{'year': '2017'}]}\n",
      "{'gender': 'male', 'prizes': [{'year': '2017'}]}\n",
      "{'gender': 'male', 'prizes': [{'year': '2017'}]}\n",
      "{'gender': 'male', 'prizes': [{'year': '2017'}]}\n",
      "{'gender': 'male', 'prizes': [{'year': '2017'}]}\n",
      "{'gender': 'male', 'prizes': [{'year': '2017'}]}\n",
      "{'gender': 'male', 'prizes': [{'year': '2017'}]}\n",
      "{'gender': 'male', 'prizes': [{'year': '2017'}]}\n",
      "{'gender': 'male', 'prizes': [{'year': '2017'}]}\n",
      "{'gender': 'org', 'prizes': [{'year': '2017'}]}\n",
      "{'gender': 'male', 'prizes': [{'year': '2017'}]}\n",
      "{'gender': 'male', 'prizes': [{'year': '2018'}]}\n",
      "{'gender': 'male', 'prizes': [{'year': '2018'}]}\n",
      "{'gender': 'male', 'prizes': [{'year': '2018'}]}\n",
      "{'gender': 'male', 'prizes': [{'year': '2018'}]}\n",
      "{'gender': 'female', 'prizes': [{'year': '2018'}]}\n",
      "{'gender': 'female', 'prizes': [{'year': '2018'}]}\n",
      "{'gender': 'male', 'prizes': [{'year': '2018'}]}\n",
      "{'gender': 'male', 'prizes': [{'year': '2018'}]}\n",
      "{'gender': 'male', 'prizes': [{'year': '2018'}]}\n",
      "{'gender': 'female', 'prizes': [{'year': '2018'}]}\n",
      "{'gender': 'male', 'prizes': [{'year': '2018'}]}\n",
      "{'gender': 'male', 'prizes': [{'year': '2018'}]}\n",
      "{'gender': 'male', 'prizes': [{'year': '1901'}]}\n",
      "{'gender': 'male', 'prizes': [{'year': '1902'}]}\n",
      "{'gender': 'male', 'prizes': [{'year': '1902'}]}\n",
      "{'gender': 'male', 'prizes': [{'year': '1903'}]}\n",
      "{'gender': 'male', 'prizes': [{'year': '1903'}]}\n",
      "{'gender': 'female', 'prizes': [{'year': '1903'}, {'year': '1911'}]}\n",
      "{'gender': 'male', 'prizes': [{'year': '1904'}]}\n",
      "{'gender': 'male', 'prizes': [{'year': '1905'}]}\n",
      "{'gender': 'male', 'prizes': [{'year': '1906'}]}\n",
      "{'gender': 'male', 'prizes': [{'year': '1907'}]}\n",
      "{'gender': 'male', 'prizes': [{'year': '1908'}]}\n",
      "{'gender': 'male', 'prizes': [{'year': '1909'}]}\n",
      "{'gender': 'male', 'prizes': [{'year': '1909'}]}\n",
      "{'gender': 'male', 'prizes': [{'year': '1910'}]}\n",
      "{'gender': 'male', 'prizes': [{'year': '1911'}]}\n",
      "{'gender': 'male', 'prizes': [{'year': '1912'}]}\n",
      "{'gender': 'male', 'prizes': [{'year': '1913'}]}\n",
      "{'gender': 'male', 'prizes': [{'year': '1914'}]}\n",
      "{'gender': 'male', 'prizes': [{'year': '1915'}]}\n",
      "{'gender': 'male', 'prizes': [{'year': '1915'}]}\n",
      "{'gender': 'male', 'prizes': [{'year': '1917'}]}\n",
      "{'gender': 'male', 'prizes': [{'year': '1918'}]}\n",
      "{'gender': 'male', 'prizes': [{'year': '1919'}]}\n",
      "{'gender': 'male', 'prizes': [{'year': '1920'}]}\n",
      "{'gender': 'male', 'prizes': [{'year': '1921'}]}\n",
      "{'gender': 'male', 'prizes': [{'year': '1922'}]}\n",
      "{'gender': 'male', 'prizes': [{'year': '1923'}]}\n",
      "{'gender': 'male', 'prizes': [{'year': '1924'}]}\n",
      "{'gender': 'male', 'prizes': [{'year': '1925'}]}\n",
      "{'gender': 'male', 'prizes': [{'year': '1925'}]}\n",
      "{'gender': 'male', 'prizes': [{'year': '1926'}]}\n",
      "{'gender': 'male', 'prizes': [{'year': '1927'}]}\n",
      "{'gender': 'male', 'prizes': [{'year': '1927'}]}\n",
      "{'gender': 'male', 'prizes': [{'year': '1928'}]}\n",
      "{'gender': 'male', 'prizes': [{'year': '1929'}]}\n",
      "{'gender': 'male', 'prizes': [{'year': '1930'}]}\n",
      "{'gender': 'male', 'prizes': [{'year': '1932'}]}\n",
      "{'gender': 'male', 'prizes': [{'year': '1933'}]}\n",
      "{'gender': 'male', 'prizes': [{'year': '1933'}]}\n",
      "{'gender': 'male', 'prizes': [{'year': '1935'}]}\n",
      "{'gender': 'male', 'prizes': [{'year': '1936'}]}\n",
      "{'gender': 'male', 'prizes': [{'year': '1936'}]}\n",
      "{'gender': 'male', 'prizes': [{'year': '1937'}]}\n",
      "{'gender': 'male', 'prizes': [{'year': '1937'}]}\n",
      "{'gender': 'male', 'prizes': [{'year': '1938'}]}\n",
      "{'gender': 'male', 'prizes': [{'year': '1939'}]}\n",
      "{'gender': 'male', 'prizes': [{'year': '1943'}]}\n",
      "{'gender': 'male', 'prizes': [{'year': '1944'}]}\n",
      "{'gender': 'male', 'prizes': [{'year': '1945'}]}\n",
      "{'gender': 'male', 'prizes': [{'year': '1946'}]}\n",
      "{'gender': 'male', 'prizes': [{'year': '1947'}]}\n",
      "{'gender': 'male', 'prizes': [{'year': '1948'}]}\n",
      "{'gender': 'male', 'prizes': [{'year': '1949'}]}\n",
      "{'gender': 'male', 'prizes': [{'year': '1950'}]}\n",
      "{'gender': 'male', 'prizes': [{'year': '1951'}]}\n",
      "{'gender': 'male', 'prizes': [{'year': '1951'}]}\n",
      "{'gender': 'male', 'prizes': [{'year': '1952'}]}\n",
      "{'gender': 'male', 'prizes': [{'year': '1952'}]}\n",
      "{'gender': 'male', 'prizes': [{'year': '1953'}]}\n",
      "{'gender': 'male', 'prizes': [{'year': '1954'}]}\n",
      "{'gender': 'male', 'prizes': [{'year': '1954'}]}\n",
      "{'gender': 'male', 'prizes': [{'year': '1955'}]}\n",
      "{'gender': 'male', 'prizes': [{'year': '1955'}]}\n",
      "{'gender': 'male', 'prizes': [{'year': '1956'}]}\n",
      "{'gender': 'male', 'prizes': [{'year': '1956'}, {'year': '1972'}]}\n",
      "{'gender': 'male', 'prizes': [{'year': '1956'}]}\n",
      "{'gender': 'male', 'prizes': [{'year': '1957'}]}\n",
      "{'gender': 'male', 'prizes': [{'year': '1957'}]}\n",
      "{'gender': 'male', 'prizes': [{'year': '1958'}]}\n",
      "{'gender': 'male', 'prizes': [{'year': '1958'}]}\n",
      "{'gender': 'male', 'prizes': [{'year': '1959'}]}\n",
      "{'gender': 'male', 'prizes': [{'year': '1959'}]}\n",
      "{'gender': 'male', 'prizes': [{'year': '1960'}]}\n",
      "{'gender': 'male', 'prizes': [{'year': '1961'}]}\n",
      "{'gender': 'male', 'prizes': [{'year': '1961'}]}\n",
      "{'gender': 'male', 'prizes': [{'year': '1962'}]}\n",
      "{'gender': 'male', 'prizes': [{'year': '1963'}]}\n",
      "{'gender': 'female', 'prizes': [{'year': '1963'}]}\n",
      "{'gender': 'male', 'prizes': [{'year': '1963'}]}\n",
      "{'gender': 'male', 'prizes': [{'year': '1964'}]}\n",
      "{'gender': 'male', 'prizes': [{'year': '1964'}]}\n",
      "{'gender': 'male', 'prizes': [{'year': '1964'}]}\n",
      "{'gender': 'male', 'prizes': [{'year': '1965'}]}\n",
      "{'gender': 'male', 'prizes': [{'year': '1965'}]}\n",
      "{'gender': 'male', 'prizes': [{'year': '1965'}]}\n",
      "{'gender': 'male', 'prizes': [{'year': '1966'}]}\n",
      "{'gender': 'male', 'prizes': [{'year': '1967'}]}\n",
      "{'gender': 'male', 'prizes': [{'year': '1968'}]}\n",
      "{'gender': 'male', 'prizes': [{'year': '1969'}]}\n",
      "{'gender': 'male', 'prizes': [{'year': '1970'}]}\n",
      "{'gender': 'male', 'prizes': [{'year': '1970'}]}\n",
      "{'gender': 'male', 'prizes': [{'year': '1971'}]}\n",
      "{'gender': 'male', 'prizes': [{'year': '1972'}]}\n",
      "{'gender': 'male', 'prizes': [{'year': '1972'}]}\n",
      "{'gender': 'male', 'prizes': [{'year': '1973'}]}\n",
      "{'gender': 'male', 'prizes': [{'year': '1973'}]}\n",
      "{'gender': 'male', 'prizes': [{'year': '1973'}]}\n",
      "{'gender': 'male', 'prizes': [{'year': '1974'}]}\n",
      "{'gender': 'male', 'prizes': [{'year': '1974'}]}\n",
      "{'gender': 'male', 'prizes': [{'year': '1975'}]}\n",
      "{'gender': 'male', 'prizes': [{'year': '1975'}]}\n",
      "{'gender': 'male', 'prizes': [{'year': '1975'}]}\n",
      "{'gender': 'male', 'prizes': [{'year': '1976'}]}\n",
      "{'gender': 'male', 'prizes': [{'year': '1976'}]}\n",
      "{'gender': 'male', 'prizes': [{'year': '1977'}]}\n",
      "{'gender': 'male', 'prizes': [{'year': '1977'}]}\n",
      "{'gender': 'male', 'prizes': [{'year': '1977'}]}\n",
      "{'gender': 'male', 'prizes': [{'year': '1978'}]}\n",
      "{'gender': 'male', 'prizes': [{'year': '1978'}]}\n",
      "{'gender': 'male', 'prizes': [{'year': '1978'}]}\n",
      "{'gender': 'male', 'prizes': [{'year': '1979'}]}\n",
      "{'gender': 'male', 'prizes': [{'year': '1979'}]}\n",
      "{'gender': 'male', 'prizes': [{'year': '1979'}]}\n",
      "{'gender': 'male', 'prizes': [{'year': '1980'}]}\n",
      "{'gender': 'male', 'prizes': [{'year': '1980'}]}\n",
      "{'gender': 'male', 'prizes': [{'year': '1981'}]}\n",
      "{'gender': 'male', 'prizes': [{'year': '1981'}]}\n",
      "{'gender': 'male', 'prizes': [{'year': '1981'}]}\n",
      "{'gender': 'male', 'prizes': [{'year': '1982'}]}\n",
      "{'gender': 'male', 'prizes': [{'year': '1983'}]}\n",
      "{'gender': 'male', 'prizes': [{'year': '1983'}]}\n",
      "{'gender': 'male', 'prizes': [{'year': '1984'}]}\n",
      "{'gender': 'male', 'prizes': [{'year': '1984'}]}\n",
      "{'gender': 'male', 'prizes': [{'year': '1985'}]}\n",
      "{'gender': 'male', 'prizes': [{'year': '1986'}]}\n",
      "{'gender': 'male', 'prizes': [{'year': '1986'}]}\n",
      "{'gender': 'male', 'prizes': [{'year': '1986'}]}\n",
      "{'gender': 'male', 'prizes': [{'year': '1987'}]}\n",
      "{'gender': 'male', 'prizes': [{'year': '1987'}]}\n",
      "{'gender': 'male', 'prizes': [{'year': '1988'}]}\n",
      "{'gender': 'male', 'prizes': [{'year': '1988'}]}\n",
      "{'gender': 'male', 'prizes': [{'year': '1988'}]}\n",
      "{'gender': 'male', 'prizes': [{'year': '1989'}]}\n",
      "{'gender': 'male', 'prizes': [{'year': '1989'}]}\n",
      "{'gender': 'male', 'prizes': [{'year': '1989'}]}\n",
      "{'gender': 'male', 'prizes': [{'year': '1990'}]}\n",
      "{'gender': 'male', 'prizes': [{'year': '1990'}]}\n",
      "{'gender': 'male', 'prizes': [{'year': '1990'}]}\n",
      "{'gender': 'male', 'prizes': [{'year': '1991'}]}\n",
      "{'gender': 'male', 'prizes': [{'year': '1992'}]}\n",
      "{'gender': 'male', 'prizes': [{'year': '1993'}]}\n",
      "{'gender': 'male', 'prizes': [{'year': '1993'}]}\n",
      "{'gender': 'male', 'prizes': [{'year': '1994'}]}\n",
      "{'gender': 'male', 'prizes': [{'year': '1994'}]}\n",
      "{'gender': 'male', 'prizes': [{'year': '1995'}]}\n",
      "{'gender': 'male', 'prizes': [{'year': '1995'}]}\n",
      "{'gender': 'male', 'prizes': [{'year': '1996'}]}\n",
      "{'gender': 'male', 'prizes': [{'year': '1996'}]}\n",
      "{'gender': 'male', 'prizes': [{'year': '1996'}]}\n",
      "{'gender': 'male', 'prizes': [{'year': '1997'}]}\n",
      "{'gender': 'male', 'prizes': [{'year': '1997'}]}\n",
      "{'gender': 'male', 'prizes': [{'year': '1997'}]}\n",
      "{'gender': 'male', 'prizes': [{'year': '1998'}]}\n",
      "{'gender': 'male', 'prizes': [{'year': '1998'}]}\n",
      "{'gender': 'male', 'prizes': [{'year': '1998'}]}\n",
      "{'gender': 'male', 'prizes': [{'year': '1999'}]}\n",
      "{'gender': 'male', 'prizes': [{'year': '1999'}]}\n",
      "{'gender': 'male', 'prizes': [{'year': '1901'}]}\n",
      "{'gender': 'male', 'prizes': [{'year': '1902'}]}\n",
      "{'gender': 'male', 'prizes': [{'year': '1903'}]}\n",
      "{'gender': 'male', 'prizes': [{'year': '1904'}]}\n",
      "{'gender': 'male', 'prizes': [{'year': '1905'}]}\n",
      "{'gender': 'male', 'prizes': [{'year': '1906'}]}\n",
      "{'gender': 'male', 'prizes': [{'year': '1907'}]}\n",
      "{'gender': 'male', 'prizes': [{'year': '1908'}]}\n",
      "{'gender': 'male', 'prizes': [{'year': '1909'}]}\n",
      "{'gender': 'male', 'prizes': [{'year': '1910'}]}\n",
      "{'gender': 'male', 'prizes': [{'year': '1912'}]}\n",
      "{'gender': 'male', 'prizes': [{'year': '1912'}]}\n",
      "{'gender': 'male', 'prizes': [{'year': '1913'}]}\n",
      "{'gender': 'male', 'prizes': [{'year': '1914'}]}\n",
      "{'gender': 'male', 'prizes': [{'year': '1915'}]}\n",
      "{'gender': 'male', 'prizes': [{'year': '1918'}]}\n",
      "{'gender': 'male', 'prizes': [{'year': '1920'}]}\n",
      "{'gender': 'male', 'prizes': [{'year': '1921'}]}\n",
      "{'gender': 'male', 'prizes': [{'year': '1922'}]}\n",
      "{'gender': 'male', 'prizes': [{'year': '1923'}]}\n",
      "{'gender': 'male', 'prizes': [{'year': '1925'}]}\n",
      "{'gender': 'male', 'prizes': [{'year': '1926'}]}\n",
      "{'gender': 'male', 'prizes': [{'year': '1927'}]}\n",
      "{'gender': 'male', 'prizes': [{'year': '1928'}]}\n",
      "{'gender': 'male', 'prizes': [{'year': '1929'}]}\n",
      "{'gender': 'male', 'prizes': [{'year': '1929'}]}\n",
      "{'gender': 'male', 'prizes': [{'year': '1930'}]}\n",
      "{'gender': 'male', 'prizes': [{'year': '1931'}]}\n",
      "{'gender': 'male', 'prizes': [{'year': '1931'}]}\n",
      "{'gender': 'male', 'prizes': [{'year': '1932'}]}\n",
      "{'gender': 'male', 'prizes': [{'year': '1934'}]}\n",
      "{'gender': 'male', 'prizes': [{'year': '1935'}]}\n",
      "{'gender': 'female', 'prizes': [{'year': '1935'}]}\n",
      "{'gender': 'male', 'prizes': [{'year': '1936'}]}\n",
      "{'gender': 'male', 'prizes': [{'year': '1937'}]}\n",
      "{'gender': 'male', 'prizes': [{'year': '1937'}]}\n",
      "{'gender': 'male', 'prizes': [{'year': '1938'}]}\n",
      "{'gender': 'male', 'prizes': [{'year': '1939'}]}\n",
      "{'gender': 'male', 'prizes': [{'year': '1939'}]}\n",
      "{'gender': 'male', 'prizes': [{'year': '1943'}]}\n",
      "{'gender': 'male', 'prizes': [{'year': '1944'}]}\n",
      "{'gender': 'male', 'prizes': [{'year': '1945'}]}\n",
      "{'gender': 'male', 'prizes': [{'year': '1946'}]}\n",
      "{'gender': 'male', 'prizes': [{'year': '1946'}]}\n",
      "{'gender': 'male', 'prizes': [{'year': '1946'}]}\n",
      "{'gender': 'male', 'prizes': [{'year': '1947'}]}\n",
      "{'gender': 'male', 'prizes': [{'year': '1948'}]}\n",
      "{'gender': 'male', 'prizes': [{'year': '1949'}]}\n",
      "{'gender': 'male', 'prizes': [{'year': '1950'}]}\n",
      "{'gender': 'male', 'prizes': [{'year': '1950'}]}\n",
      "{'gender': 'male', 'prizes': [{'year': '1951'}]}\n",
      "{'gender': 'male', 'prizes': [{'year': '1951'}]}\n",
      "{'gender': 'male', 'prizes': [{'year': '1952'}]}\n",
      "{'gender': 'male', 'prizes': [{'year': '1952'}]}\n",
      "{'gender': 'male', 'prizes': [{'year': '1953'}]}\n",
      "{'gender': 'male', 'prizes': [{'year': '1954'}, {'year': '1962'}]}\n",
      "{'gender': 'male', 'prizes': [{'year': '1955'}]}\n",
      "{'gender': 'male', 'prizes': [{'year': '1956'}]}\n",
      "{'gender': 'male', 'prizes': [{'year': '1956'}]}\n",
      "{'gender': 'male', 'prizes': [{'year': '1957'}]}\n",
      "{'gender': 'male', 'prizes': [{'year': '1958'}, {'year': '1980'}]}\n",
      "{'gender': 'male', 'prizes': [{'year': '1959'}]}\n",
      "{'gender': 'male', 'prizes': [{'year': '1960'}]}\n",
      "{'gender': 'male', 'prizes': [{'year': '1961'}]}\n",
      "{'gender': 'male', 'prizes': [{'year': '1962'}]}\n",
      "{'gender': 'male', 'prizes': [{'year': '1962'}]}\n",
      "{'gender': 'male', 'prizes': [{'year': '1963'}]}\n",
      "{'gender': 'male', 'prizes': [{'year': '1963'}]}\n",
      "{'gender': 'female', 'prizes': [{'year': '1964'}]}\n",
      "{'gender': 'male', 'prizes': [{'year': '1965'}]}\n",
      "{'gender': 'male', 'prizes': [{'year': '1966'}]}\n",
      "{'gender': 'male', 'prizes': [{'year': '1967'}]}\n",
      "{'gender': 'male', 'prizes': [{'year': '1967'}]}\n",
      "{'gender': 'male', 'prizes': [{'year': '1967'}]}\n",
      "{'gender': 'male', 'prizes': [{'year': '1968'}]}\n",
      "{'gender': 'male', 'prizes': [{'year': '1969'}]}\n",
      "{'gender': 'male', 'prizes': [{'year': '1969'}]}\n",
      "{'gender': 'male', 'prizes': [{'year': '1970'}]}\n",
      "{'gender': 'male', 'prizes': [{'year': '1971'}]}\n",
      "{'gender': 'male', 'prizes': [{'year': '1972'}]}\n",
      "{'gender': 'male', 'prizes': [{'year': '1972'}]}\n",
      "{'gender': 'male', 'prizes': [{'year': '1972'}]}\n",
      "{'gender': 'male', 'prizes': [{'year': '1973'}]}\n",
      "{'gender': 'male', 'prizes': [{'year': '1973'}]}\n",
      "{'gender': 'male', 'prizes': [{'year': '1974'}]}\n",
      "{'gender': 'male', 'prizes': [{'year': '1975'}]}\n",
      "{'gender': 'male', 'prizes': [{'year': '1975'}]}\n",
      "{'gender': 'male', 'prizes': [{'year': '1976'}]}\n",
      "{'gender': 'male', 'prizes': [{'year': '1977'}]}\n",
      "{'gender': 'male', 'prizes': [{'year': '1978'}]}\n",
      "{'gender': 'male', 'prizes': [{'year': '1979'}]}\n",
      "{'gender': 'male', 'prizes': [{'year': '1979'}]}\n",
      "{'gender': 'male', 'prizes': [{'year': '1980'}]}\n",
      "{'gender': 'male', 'prizes': [{'year': '1980'}]}\n",
      "{'gender': 'male', 'prizes': [{'year': '1981'}]}\n",
      "{'gender': 'male', 'prizes': [{'year': '1981'}]}\n",
      "{'gender': 'male', 'prizes': [{'year': '1982'}]}\n",
      "{'gender': 'male', 'prizes': [{'year': '1983'}]}\n",
      "{'gender': 'male', 'prizes': [{'year': '1984'}]}\n",
      "{'gender': 'male', 'prizes': [{'year': '1985'}]}\n",
      "{'gender': 'male', 'prizes': [{'year': '1985'}]}\n",
      "{'gender': 'male', 'prizes': [{'year': '1986'}]}\n",
      "{'gender': 'male', 'prizes': [{'year': '1986'}]}\n",
      "{'gender': 'male', 'prizes': [{'year': '1986'}]}\n",
      "{'gender': 'male', 'prizes': [{'year': '1987'}]}\n",
      "{'gender': 'male', 'prizes': [{'year': '1987'}]}\n",
      "{'gender': 'male', 'prizes': [{'year': '1987'}]}\n",
      "{'gender': 'male', 'prizes': [{'year': '1988'}]}\n",
      "{'gender': 'male', 'prizes': [{'year': '1988'}]}\n",
      "{'gender': 'male', 'prizes': [{'year': '1988'}]}\n",
      "{'gender': 'male', 'prizes': [{'year': '1989'}]}\n",
      "{'gender': 'male', 'prizes': [{'year': '1989'}]}\n",
      "{'gender': 'male', 'prizes': [{'year': '1990'}]}\n",
      "{'gender': 'male', 'prizes': [{'year': '1991'}]}\n",
      "{'gender': 'male', 'prizes': [{'year': '1992'}]}\n",
      "{'gender': 'male', 'prizes': [{'year': '1993'}]}\n",
      "{'gender': 'male', 'prizes': [{'year': '1993'}]}\n",
      "{'gender': 'male', 'prizes': [{'year': '1994'}]}\n",
      "{'gender': 'male', 'prizes': [{'year': '1995'}]}\n",
      "{'gender': 'male', 'prizes': [{'year': '1995'}]}\n",
      "{'gender': 'male', 'prizes': [{'year': '1995'}]}\n",
      "{'gender': 'male', 'prizes': [{'year': '1996'}]}\n",
      "{'gender': 'male', 'prizes': [{'year': '1996'}]}\n",
      "{'gender': 'male', 'prizes': [{'year': '1996'}]}\n",
      "{'gender': 'male', 'prizes': [{'year': '1997'}]}\n",
      "{'gender': 'male', 'prizes': [{'year': '1997'}]}\n",
      "{'gender': 'male', 'prizes': [{'year': '1997'}]}\n",
      "{'gender': 'male', 'prizes': [{'year': '1998'}]}\n",
      "{'gender': 'male', 'prizes': [{'year': '1998'}]}\n",
      "{'gender': 'male', 'prizes': [{'year': '1999'}]}\n",
      "{'gender': 'male', 'prizes': [{'year': '1901'}]}\n",
      "{'gender': 'male', 'prizes': [{'year': '1902'}]}\n",
      "{'gender': 'male', 'prizes': [{'year': '1903'}]}\n",
      "{'gender': 'male', 'prizes': [{'year': '1904'}]}\n",
      "{'gender': 'male', 'prizes': [{'year': '1905'}]}\n",
      "{'gender': 'male', 'prizes': [{'year': '1906'}]}\n",
      "{'gender': 'male', 'prizes': [{'year': '1906'}]}\n",
      "{'gender': 'male', 'prizes': [{'year': '1907'}]}\n",
      "{'gender': 'male', 'prizes': [{'year': '1908'}]}\n",
      "{'gender': 'male', 'prizes': [{'year': '1908'}]}\n",
      "{'gender': 'male', 'prizes': [{'year': '1909'}]}\n",
      "{'gender': 'male', 'prizes': [{'year': '1910'}]}\n",
      "{'gender': 'male', 'prizes': [{'year': '1911'}]}\n",
      "{'gender': 'male', 'prizes': [{'year': '1912'}]}\n",
      "{'gender': 'male', 'prizes': [{'year': '1913'}]}\n",
      "{'gender': 'male', 'prizes': [{'year': '1914'}]}\n",
      "{'gender': 'male', 'prizes': [{'year': '1919'}]}\n",
      "{'gender': 'male', 'prizes': [{'year': '1920'}]}\n",
      "{'gender': 'male', 'prizes': [{'year': '1922'}]}\n",
      "{'gender': 'male', 'prizes': [{'year': '1922'}]}\n",
      "{'gender': 'male', 'prizes': [{'year': '1923'}]}\n",
      "{'gender': 'male', 'prizes': [{'year': '1923'}]}\n",
      "{'gender': 'male', 'prizes': [{'year': '1924'}]}\n",
      "{'gender': 'male', 'prizes': [{'year': '1926'}]}\n",
      "{'gender': 'male', 'prizes': [{'year': '1927'}]}\n",
      "{'gender': 'male', 'prizes': [{'year': '1928'}]}\n",
      "{'gender': 'male', 'prizes': [{'year': '1929'}]}\n",
      "{'gender': 'male', 'prizes': [{'year': '1929'}]}\n",
      "{'gender': 'male', 'prizes': [{'year': '1930'}]}\n",
      "{'gender': 'male', 'prizes': [{'year': '1931'}]}\n",
      "{'gender': 'male', 'prizes': [{'year': '1932'}]}\n",
      "{'gender': 'male', 'prizes': [{'year': '1932'}]}\n",
      "{'gender': 'male', 'prizes': [{'year': '1933'}]}\n",
      "{'gender': 'male', 'prizes': [{'year': '1934'}]}\n",
      "{'gender': 'male', 'prizes': [{'year': '1934'}]}\n",
      "{'gender': 'male', 'prizes': [{'year': '1934'}]}\n",
      "{'gender': 'male', 'prizes': [{'year': '1935'}]}\n",
      "{'gender': 'male', 'prizes': [{'year': '1936'}]}\n",
      "{'gender': 'male', 'prizes': [{'year': '1936'}]}\n",
      "{'gender': 'male', 'prizes': [{'year': '1937'}]}\n",
      "{'gender': 'male', 'prizes': [{'year': '1938'}]}\n",
      "{'gender': 'male', 'prizes': [{'year': '1939'}]}\n",
      "{'gender': 'male', 'prizes': [{'year': '1943'}]}\n",
      "{'gender': 'male', 'prizes': [{'year': '1943'}]}\n",
      "{'gender': 'male', 'prizes': [{'year': '1944'}]}\n",
      "{'gender': 'male', 'prizes': [{'year': '1944'}]}\n",
      "{'gender': 'male', 'prizes': [{'year': '1945'}]}\n",
      "{'gender': 'male', 'prizes': [{'year': '1945'}]}\n",
      "{'gender': 'male', 'prizes': [{'year': '1945'}]}\n",
      "{'gender': 'male', 'prizes': [{'year': '1946'}]}\n",
      "{'gender': 'male', 'prizes': [{'year': '1947'}]}\n",
      "{'gender': 'female', 'prizes': [{'year': '1947'}]}\n",
      "{'gender': 'male', 'prizes': [{'year': '1947'}]}\n",
      "{'gender': 'male', 'prizes': [{'year': '1948'}]}\n",
      "{'gender': 'male', 'prizes': [{'year': '1949'}]}\n",
      "{'gender': 'male', 'prizes': [{'year': '1949'}]}\n",
      "{'gender': 'male', 'prizes': [{'year': '1950'}]}\n",
      "{'gender': 'male', 'prizes': [{'year': '1950'}]}\n",
      "{'gender': 'male', 'prizes': [{'year': '1950'}]}\n",
      "{'gender': 'male', 'prizes': [{'year': '1951'}]}\n",
      "{'gender': 'male', 'prizes': [{'year': '1952'}]}\n",
      "{'gender': 'male', 'prizes': [{'year': '1953'}]}\n",
      "{'gender': 'male', 'prizes': [{'year': '1953'}]}\n",
      "{'gender': 'male', 'prizes': [{'year': '1954'}]}\n",
      "{'gender': 'male', 'prizes': [{'year': '1954'}]}\n",
      "{'gender': 'male', 'prizes': [{'year': '1954'}]}\n",
      "{'gender': 'male', 'prizes': [{'year': '1955'}]}\n",
      "{'gender': 'male', 'prizes': [{'year': '1956'}]}\n",
      "{'gender': 'male', 'prizes': [{'year': '1956'}]}\n",
      "{'gender': 'male', 'prizes': [{'year': '1956'}]}\n",
      "{'gender': 'male', 'prizes': [{'year': '1957'}]}\n",
      "{'gender': 'male', 'prizes': [{'year': '1958'}]}\n",
      "{'gender': 'male', 'prizes': [{'year': '1958'}]}\n",
      "{'gender': 'male', 'prizes': [{'year': '1958'}]}\n",
      "{'gender': 'male', 'prizes': [{'year': '1959'}]}\n",
      "{'gender': 'male', 'prizes': [{'year': '1959'}]}\n",
      "{'gender': 'male', 'prizes': [{'year': '1960'}]}\n",
      "{'gender': 'male', 'prizes': [{'year': '1960'}]}\n",
      "{'gender': 'male', 'prizes': [{'year': '1961'}]}\n",
      "{'gender': 'male', 'prizes': [{'year': '1962'}]}\n",
      "{'gender': 'male', 'prizes': [{'year': '1962'}]}\n",
      "{'gender': 'male', 'prizes': [{'year': '1962'}]}\n",
      "{'gender': 'male', 'prizes': [{'year': '1963'}]}\n",
      "{'gender': 'male', 'prizes': [{'year': '1963'}]}\n",
      "{'gender': 'male', 'prizes': [{'year': '1963'}]}\n",
      "{'gender': 'male', 'prizes': [{'year': '1964'}]}\n",
      "{'gender': 'male', 'prizes': [{'year': '1964'}]}\n",
      "{'gender': 'male', 'prizes': [{'year': '1965'}]}\n",
      "{'gender': 'male', 'prizes': [{'year': '1965'}]}\n",
      "{'gender': 'male', 'prizes': [{'year': '1965'}]}\n",
      "{'gender': 'male', 'prizes': [{'year': '1966'}]}\n",
      "{'gender': 'male', 'prizes': [{'year': '1966'}]}\n",
      "{'gender': 'male', 'prizes': [{'year': '1967'}]}\n",
      "{'gender': 'male', 'prizes': [{'year': '1967'}]}\n",
      "{'gender': 'male', 'prizes': [{'year': '1967'}]}\n",
      "{'gender': 'male', 'prizes': [{'year': '1968'}]}\n",
      "{'gender': 'male', 'prizes': [{'year': '1968'}]}\n",
      "{'gender': 'male', 'prizes': [{'year': '1968'}]}\n",
      "{'gender': 'male', 'prizes': [{'year': '1969'}]}\n",
      "{'gender': 'male', 'prizes': [{'year': '1969'}]}\n",
      "{'gender': 'male', 'prizes': [{'year': '1969'}]}\n",
      "{'gender': 'male', 'prizes': [{'year': '1970'}]}\n",
      "{'gender': 'male', 'prizes': [{'year': '1970'}]}\n",
      "{'gender': 'male', 'prizes': [{'year': '1970'}]}\n",
      "{'gender': 'male', 'prizes': [{'year': '1971'}]}\n",
      "{'gender': 'male', 'prizes': [{'year': '1972'}]}\n",
      "{'gender': 'male', 'prizes': [{'year': '1972'}]}\n",
      "{'gender': 'male', 'prizes': [{'year': '1973'}]}\n",
      "{'gender': 'male', 'prizes': [{'year': '1973'}]}\n",
      "{'gender': 'male', 'prizes': [{'year': '1973'}]}\n",
      "{'gender': 'male', 'prizes': [{'year': '1974'}]}\n",
      "{'gender': 'male', 'prizes': [{'year': '1974'}]}\n",
      "{'gender': 'male', 'prizes': [{'year': '1974'}]}\n",
      "{'gender': 'male', 'prizes': [{'year': '1975'}]}\n",
      "{'gender': 'male', 'prizes': [{'year': '1975'}]}\n",
      "{'gender': 'male', 'prizes': [{'year': '1975'}]}\n",
      "{'gender': 'male', 'prizes': [{'year': '1976'}]}\n",
      "{'gender': 'male', 'prizes': [{'year': '1976'}]}\n",
      "{'gender': 'male', 'prizes': [{'year': '1977'}]}\n",
      "{'gender': 'male', 'prizes': [{'year': '1977'}]}\n",
      "{'gender': 'female', 'prizes': [{'year': '1977'}]}\n",
      "{'gender': 'male', 'prizes': [{'year': '1978'}]}\n",
      "{'gender': 'male', 'prizes': [{'year': '1978'}]}\n",
      "{'gender': 'male', 'prizes': [{'year': '1978'}]}\n",
      "{'gender': 'male', 'prizes': [{'year': '1979'}]}\n",
      "{'gender': 'male', 'prizes': [{'year': '1979'}]}\n",
      "{'gender': 'male', 'prizes': [{'year': '1980'}]}\n",
      "{'gender': 'male', 'prizes': [{'year': '1980'}]}\n",
      "{'gender': 'male', 'prizes': [{'year': '1980'}]}\n",
      "{'gender': 'male', 'prizes': [{'year': '1981'}]}\n",
      "{'gender': 'male', 'prizes': [{'year': '1981'}]}\n",
      "{'gender': 'male', 'prizes': [{'year': '1981'}]}\n",
      "{'gender': 'male', 'prizes': [{'year': '1982'}]}\n",
      "{'gender': 'male', 'prizes': [{'year': '1982'}]}\n",
      "{'gender': 'male', 'prizes': [{'year': '1982'}]}\n",
      "{'gender': 'female', 'prizes': [{'year': '1983'}]}\n",
      "{'gender': 'male', 'prizes': [{'year': '1984'}]}\n",
      "{'gender': 'male', 'prizes': [{'year': '1984'}]}\n",
      "{'gender': 'male', 'prizes': [{'year': '1984'}]}\n",
      "{'gender': 'male', 'prizes': [{'year': '1985'}]}\n",
      "{'gender': 'male', 'prizes': [{'year': '1985'}]}\n",
      "{'gender': 'male', 'prizes': [{'year': '1986'}]}\n",
      "{'gender': 'female', 'prizes': [{'year': '1986'}]}\n",
      "{'gender': 'male', 'prizes': [{'year': '1987'}]}\n",
      "{'gender': 'male', 'prizes': [{'year': '1988'}]}\n",
      "{'gender': 'female', 'prizes': [{'year': '1988'}]}\n",
      "{'gender': 'male', 'prizes': [{'year': '1988'}]}\n",
      "{'gender': 'male', 'prizes': [{'year': '1989'}]}\n",
      "{'gender': 'male', 'prizes': [{'year': '1989'}]}\n",
      "{'gender': 'male', 'prizes': [{'year': '1990'}]}\n",
      "{'gender': 'male', 'prizes': [{'year': '1990'}]}\n",
      "{'gender': 'male', 'prizes': [{'year': '1991'}]}\n",
      "{'gender': 'male', 'prizes': [{'year': '1991'}]}\n",
      "{'gender': 'male', 'prizes': [{'year': '1992'}]}\n",
      "{'gender': 'male', 'prizes': [{'year': '1992'}]}\n",
      "{'gender': 'male', 'prizes': [{'year': '1993'}]}\n",
      "{'gender': 'male', 'prizes': [{'year': '1993'}]}\n",
      "{'gender': 'male', 'prizes': [{'year': '1994'}]}\n",
      "{'gender': 'male', 'prizes': [{'year': '1994'}]}\n",
      "{'gender': 'male', 'prizes': [{'year': '1995'}]}\n",
      "{'gender': 'female', 'prizes': [{'year': '1995'}]}\n",
      "{'gender': 'male', 'prizes': [{'year': '1995'}]}\n",
      "{'gender': 'male', 'prizes': [{'year': '1996'}]}\n",
      "{'gender': 'male', 'prizes': [{'year': '1996'}]}\n",
      "{'gender': 'male', 'prizes': [{'year': '1997'}]}\n",
      "{'gender': 'male', 'prizes': [{'year': '1998'}]}\n",
      "{'gender': 'male', 'prizes': [{'year': '1998'}]}\n",
      "{'gender': 'male', 'prizes': [{'year': '1998'}]}\n",
      "{'gender': 'male', 'prizes': [{'year': '1999'}]}\n",
      "{'gender': 'male', 'prizes': [{'year': '1901'}]}\n",
      "{'gender': 'male', 'prizes': [{'year': '1901'}]}\n",
      "{'gender': 'male', 'prizes': [{'year': '1902'}]}\n",
      "{'gender': 'male', 'prizes': [{'year': '1902'}]}\n",
      "{'gender': 'male', 'prizes': [{'year': '1903'}]}\n",
      "{'gender': 'org', 'prizes': [{'year': '1904'}]}\n",
      "{'gender': 'female', 'prizes': [{'year': '1905'}]}\n",
      "{'gender': 'male', 'prizes': [{'year': '1906'}]}\n",
      "{'gender': 'male', 'prizes': [{'year': '1907'}]}\n",
      "{'gender': 'male', 'prizes': [{'year': '1907'}]}\n",
      "{'gender': 'male', 'prizes': [{'year': '1908'}]}\n",
      "{'gender': 'male', 'prizes': [{'year': '1908'}]}\n",
      "{'gender': 'male', 'prizes': [{'year': '1909'}]}\n",
      "{'gender': 'male', 'prizes': [{'year': '1909'}]}\n",
      "{'gender': 'org', 'prizes': [{'year': '1910'}]}\n",
      "{'gender': 'male', 'prizes': [{'year': '1911'}]}\n",
      "{'gender': 'male', 'prizes': [{'year': '1911'}]}\n",
      "{'gender': 'male', 'prizes': [{'year': '1912'}]}\n",
      "{'gender': 'male', 'prizes': [{'year': '1913'}]}\n",
      "{'gender': 'org', 'prizes': [{'year': '1917'}, {'year': '1944'}, {'year': '1963'}]}\n",
      "{'gender': 'male', 'prizes': [{'year': '1919'}]}\n",
      "{'gender': 'male', 'prizes': [{'year': '1920'}]}\n",
      "{'gender': 'male', 'prizes': [{'year': '1921'}]}\n",
      "{'gender': 'male', 'prizes': [{'year': '1921'}]}\n",
      "{'gender': 'male', 'prizes': [{'year': '1922'}]}\n",
      "{'gender': 'male', 'prizes': [{'year': '1925'}]}\n",
      "{'gender': 'male', 'prizes': [{'year': '1925'}]}\n",
      "{'gender': 'male', 'prizes': [{'year': '1926'}]}\n",
      "{'gender': 'male', 'prizes': [{'year': '1926'}]}\n",
      "{'gender': 'male', 'prizes': [{'year': '1927'}]}\n",
      "{'gender': 'male', 'prizes': [{'year': '1927'}]}\n",
      "{'gender': 'male', 'prizes': [{'year': '1929'}]}\n",
      "{'gender': 'male', 'prizes': [{'year': '1930'}]}\n",
      "{'gender': 'female', 'prizes': [{'year': '1931'}]}\n",
      "{'gender': 'male', 'prizes': [{'year': '1931'}]}\n",
      "{'gender': 'male', 'prizes': [{'year': '1933'}]}\n",
      "{'gender': 'male', 'prizes': [{'year': '1934'}]}\n",
      "{'gender': 'male', 'prizes': [{'year': '1935'}]}\n",
      "{'gender': 'male', 'prizes': [{'year': '1936'}]}\n",
      "{'gender': 'male', 'prizes': [{'year': '1937'}]}\n",
      "{'gender': 'org', 'prizes': [{'year': '1938'}]}\n",
      "{'gender': 'male', 'prizes': [{'year': '1945'}]}\n",
      "{'gender': 'female', 'prizes': [{'year': '1946'}]}\n",
      "{'gender': 'male', 'prizes': [{'year': '1946'}]}\n",
      "{'gender': 'org', 'prizes': [{'year': '1947'}]}\n",
      "{'gender': 'org', 'prizes': [{'year': '1947'}]}\n",
      "{'gender': 'male', 'prizes': [{'year': '1949'}]}\n",
      "{'gender': 'male', 'prizes': [{'year': '1950'}]}\n",
      "{'gender': 'male', 'prizes': [{'year': '1951'}]}\n",
      "{'gender': 'male', 'prizes': [{'year': '1952'}]}\n",
      "{'gender': 'male', 'prizes': [{'year': '1953'}]}\n",
      "{'gender': 'org', 'prizes': [{'year': '1954'}, {'year': '1981'}]}\n",
      "{'gender': 'male', 'prizes': [{'year': '1957'}]}\n",
      "{'gender': 'male', 'prizes': [{'year': '1958'}]}\n",
      "{'gender': 'male', 'prizes': [{'year': '1959'}]}\n",
      "{'gender': 'male', 'prizes': [{'year': '1960'}]}\n",
      "{'gender': 'male', 'prizes': [{'year': '1961'}]}\n",
      "{'gender': 'org', 'prizes': [{'year': '1963'}]}\n",
      "{'gender': 'male', 'prizes': [{'year': '1964'}]}\n",
      "{'gender': 'org', 'prizes': [{'year': '1965'}]}\n",
      "{'gender': 'male', 'prizes': [{'year': '1968'}]}\n",
      "{'gender': 'org', 'prizes': [{'year': '1969'}]}\n",
      "{'gender': 'male', 'prizes': [{'year': '1970'}]}\n",
      "{'gender': 'male', 'prizes': [{'year': '1971'}]}\n",
      "{'gender': 'male', 'prizes': [{'year': '1973'}]}\n",
      "{'gender': 'male', 'prizes': [{'year': '1973'}]}\n",
      "{'gender': 'male', 'prizes': [{'year': '1974'}]}\n",
      "{'gender': 'male', 'prizes': [{'year': '1974'}]}\n",
      "{'gender': 'male', 'prizes': [{'year': '1975'}]}\n",
      "{'gender': 'female', 'prizes': [{'year': '1976'}]}\n",
      "{'gender': 'female', 'prizes': [{'year': '1976'}]}\n",
      "{'gender': 'org', 'prizes': [{'year': '1977'}]}\n",
      "{'gender': 'male', 'prizes': [{'year': '1978'}]}\n",
      "{'gender': 'male', 'prizes': [{'year': '1978'}]}\n",
      "{'gender': 'female', 'prizes': [{'year': '1979'}]}\n",
      "{'gender': 'male', 'prizes': [{'year': '1980'}]}\n",
      "{'gender': 'female', 'prizes': [{'year': '1982'}]}\n",
      "{'gender': 'male', 'prizes': [{'year': '1982'}]}\n",
      "{'gender': 'male', 'prizes': [{'year': '1983'}]}\n",
      "{'gender': 'male', 'prizes': [{'year': '1984'}]}\n",
      "{'gender': 'org', 'prizes': [{'year': '1985'}]}\n",
      "{'gender': 'male', 'prizes': [{'year': '1986'}]}\n",
      "{'gender': 'male', 'prizes': [{'year': '1987'}]}\n",
      "{'gender': 'org', 'prizes': [{'year': '1988'}]}\n",
      "{'gender': 'male', 'prizes': [{'year': '1989'}]}\n",
      "{'gender': 'male', 'prizes': [{'year': '1990'}]}\n",
      "{'gender': 'female', 'prizes': [{'year': '1991'}]}\n",
      "{'gender': 'female', 'prizes': [{'year': '1992'}]}\n",
      "{'gender': 'male', 'prizes': [{'year': '1993'}]}\n",
      "{'gender': 'male', 'prizes': [{'year': '1993'}]}\n",
      "{'gender': 'male', 'prizes': [{'year': '1994'}]}\n",
      "{'gender': 'male', 'prizes': [{'year': '1994'}]}\n",
      "{'gender': 'male', 'prizes': [{'year': '1994'}]}\n",
      "{'gender': 'male', 'prizes': [{'year': '1995'}]}\n",
      "{'gender': 'org', 'prizes': [{'year': '1995'}]}\n",
      "{'gender': 'male', 'prizes': [{'year': '1996'}]}\n",
      "{'gender': 'male', 'prizes': [{'year': '1996'}]}\n",
      "{'gender': 'org', 'prizes': [{'year': '1997'}]}\n",
      "{'gender': 'female', 'prizes': [{'year': '1997'}]}\n",
      "{'gender': 'male', 'prizes': [{'year': '1998'}]}\n",
      "{'gender': 'male', 'prizes': [{'year': '1998'}]}\n",
      "{'gender': 'org', 'prizes': [{'year': '1999'}]}\n",
      "{'gender': 'male', 'prizes': [{'year': '1901'}]}\n",
      "{'gender': 'male', 'prizes': [{'year': '1902'}]}\n",
      "{'gender': 'male', 'prizes': [{'year': '1903'}]}\n",
      "{'gender': 'male', 'prizes': [{'year': '1904'}]}\n",
      "{'gender': 'male', 'prizes': [{'year': '1904'}]}\n",
      "{'gender': 'male', 'prizes': [{'year': '1905'}]}\n",
      "{'gender': 'male', 'prizes': [{'year': '1906'}]}\n",
      "{'gender': 'male', 'prizes': [{'year': '1907'}]}\n",
      "{'gender': 'male', 'prizes': [{'year': '1908'}]}\n",
      "{'gender': 'female', 'prizes': [{'year': '1909'}]}\n",
      "{'gender': 'male', 'prizes': [{'year': '1910'}]}\n",
      "{'gender': 'male', 'prizes': [{'year': '1911'}]}\n",
      "{'gender': 'male', 'prizes': [{'year': '1912'}]}\n",
      "{'gender': 'male', 'prizes': [{'year': '1913'}]}\n",
      "{'gender': 'male', 'prizes': [{'year': '1915'}]}\n",
      "{'gender': 'male', 'prizes': [{'year': '1916'}]}\n",
      "{'gender': 'male', 'prizes': [{'year': '1917'}]}\n",
      "{'gender': 'male', 'prizes': [{'year': '1917'}]}\n",
      "{'gender': 'male', 'prizes': [{'year': '1919'}]}\n",
      "{'gender': 'male', 'prizes': [{'year': '1920'}]}\n",
      "{'gender': 'male', 'prizes': [{'year': '1921'}]}\n",
      "{'gender': 'male', 'prizes': [{'year': '1922'}]}\n",
      "{'gender': 'male', 'prizes': [{'year': '1923'}]}\n",
      "{'gender': 'male', 'prizes': [{'year': '1924'}]}\n",
      "{'gender': 'male', 'prizes': [{'year': '1925'}]}\n",
      "{'gender': 'female', 'prizes': [{'year': '1926'}]}\n",
      "{'gender': 'male', 'prizes': [{'year': '1927'}]}\n",
      "{'gender': 'female', 'prizes': [{'year': '1928'}]}\n",
      "{'gender': 'male', 'prizes': [{'year': '1929'}]}\n",
      "{'gender': 'male', 'prizes': [{'year': '1930'}]}\n",
      "{'gender': 'male', 'prizes': [{'year': '1931'}]}\n",
      "{'gender': 'male', 'prizes': [{'year': '1932'}]}\n",
      "{'gender': 'male', 'prizes': [{'year': '1933'}]}\n",
      "{'gender': 'male', 'prizes': [{'year': '1934'}]}\n",
      "{'gender': 'male', 'prizes': [{'year': '1936'}]}\n",
      "{'gender': 'male', 'prizes': [{'year': '1937'}]}\n",
      "{'gender': 'female', 'prizes': [{'year': '1938'}]}\n",
      "{'gender': 'male', 'prizes': [{'year': '1939'}]}\n",
      "{'gender': 'male', 'prizes': [{'year': '1944'}]}\n",
      "{'gender': 'female', 'prizes': [{'year': '1945'}]}\n",
      "{'gender': 'male', 'prizes': [{'year': '1946'}]}\n",
      "{'gender': 'male', 'prizes': [{'year': '1947'}]}\n",
      "{'gender': 'male', 'prizes': [{'year': '1948'}]}\n",
      "{'gender': 'male', 'prizes': [{'year': '1949'}]}\n",
      "{'gender': 'male', 'prizes': [{'year': '1950'}]}\n",
      "{'gender': 'male', 'prizes': [{'year': '1951'}]}\n",
      "{'gender': 'male', 'prizes': [{'year': '1952'}]}\n",
      "{'gender': 'male', 'prizes': [{'year': '1953'}]}\n",
      "{'gender': 'male', 'prizes': [{'year': '1954'}]}\n",
      "{'gender': 'male', 'prizes': [{'year': '1955'}]}\n",
      "{'gender': 'male', 'prizes': [{'year': '1956'}]}\n",
      "{'gender': 'male', 'prizes': [{'year': '1957'}]}\n",
      "{'gender': 'male', 'prizes': [{'year': '1958'}]}\n",
      "{'gender': 'male', 'prizes': [{'year': '1959'}]}\n",
      "{'gender': 'male', 'prizes': [{'year': '1960'}]}\n",
      "{'gender': 'male', 'prizes': [{'year': '1961'}]}\n",
      "{'gender': 'male', 'prizes': [{'year': '1962'}]}\n",
      "{'gender': 'male', 'prizes': [{'year': '1963'}]}\n",
      "{'gender': 'male', 'prizes': [{'year': '1964'}]}\n",
      "{'gender': 'male', 'prizes': [{'year': '1965'}]}\n",
      "{'gender': 'male', 'prizes': [{'year': '1966'}]}\n",
      "{'gender': 'female', 'prizes': [{'year': '1966'}]}\n",
      "{'gender': 'male', 'prizes': [{'year': '1967'}]}\n",
      "{'gender': 'male', 'prizes': [{'year': '1968'}]}\n",
      "{'gender': 'male', 'prizes': [{'year': '1969'}]}\n",
      "{'gender': 'male', 'prizes': [{'year': '1970'}]}\n",
      "{'gender': 'male', 'prizes': [{'year': '1971'}]}\n",
      "{'gender': 'male', 'prizes': [{'year': '1972'}]}\n",
      "{'gender': 'male', 'prizes': [{'year': '1973'}]}\n",
      "{'gender': 'male', 'prizes': [{'year': '1974'}]}\n",
      "{'gender': 'male', 'prizes': [{'year': '1974'}]}\n",
      "{'gender': 'male', 'prizes': [{'year': '1975'}]}\n",
      "{'gender': 'male', 'prizes': [{'year': '1976'}]}\n",
      "{'gender': 'male', 'prizes': [{'year': '1977'}]}\n",
      "{'gender': 'male', 'prizes': [{'year': '1978'}]}\n",
      "{'gender': 'male', 'prizes': [{'year': '1979'}]}\n",
      "{'gender': 'male', 'prizes': [{'year': '1980'}]}\n",
      "{'gender': 'male', 'prizes': [{'year': '1981'}]}\n",
      "{'gender': 'male', 'prizes': [{'year': '1982'}]}\n",
      "{'gender': 'male', 'prizes': [{'year': '1983'}]}\n",
      "{'gender': 'male', 'prizes': [{'year': '1984'}]}\n",
      "{'gender': 'male', 'prizes': [{'year': '1985'}]}\n",
      "{'gender': 'male', 'prizes': [{'year': '1986'}]}\n",
      "{'gender': 'male', 'prizes': [{'year': '1987'}]}\n",
      "{'gender': 'male', 'prizes': [{'year': '1988'}]}\n",
      "{'gender': 'male', 'prizes': [{'year': '1989'}]}\n",
      "{'gender': 'male', 'prizes': [{'year': '1990'}]}\n",
      "{'gender': 'female', 'prizes': [{'year': '1991'}]}\n",
      "{'gender': 'male', 'prizes': [{'year': '1992'}]}\n",
      "{'gender': 'female', 'prizes': [{'year': '1993'}]}\n",
      "{'gender': 'male', 'prizes': [{'year': '1994'}]}\n",
      "{'gender': 'male', 'prizes': [{'year': '1995'}]}\n",
      "{'gender': 'female', 'prizes': [{'year': '1996'}]}\n",
      "{'gender': 'male', 'prizes': [{'year': '1997'}]}\n",
      "{'gender': 'male', 'prizes': [{'year': '1998'}]}\n",
      "{'gender': 'male', 'prizes': [{'year': '1999'}]}\n",
      "{'gender': 'male', 'prizes': [{'year': '1969'}]}\n",
      "{'gender': 'male', 'prizes': [{'year': '1969'}]}\n",
      "{'gender': 'male', 'prizes': [{'year': '1970'}]}\n",
      "{'gender': 'male', 'prizes': [{'year': '1971'}]}\n",
      "{'gender': 'male', 'prizes': [{'year': '1972'}]}\n",
      "{'gender': 'male', 'prizes': [{'year': '1972'}]}\n",
      "{'gender': 'male', 'prizes': [{'year': '1973'}]}\n",
      "{'gender': 'male', 'prizes': [{'year': '1974'}]}\n",
      "{'gender': 'male', 'prizes': [{'year': '1974'}]}\n",
      "{'gender': 'male', 'prizes': [{'year': '1975'}]}\n",
      "{'gender': 'male', 'prizes': [{'year': '1975'}]}\n",
      "{'gender': 'male', 'prizes': [{'year': '1976'}]}\n",
      "{'gender': 'male', 'prizes': [{'year': '1977'}]}\n",
      "{'gender': 'male', 'prizes': [{'year': '1977'}]}\n",
      "{'gender': 'male', 'prizes': [{'year': '1978'}]}\n",
      "{'gender': 'male', 'prizes': [{'year': '1979'}]}\n",
      "{'gender': 'male', 'prizes': [{'year': '1979'}]}\n",
      "{'gender': 'male', 'prizes': [{'year': '1980'}]}\n",
      "{'gender': 'male', 'prizes': [{'year': '1981'}]}\n",
      "{'gender': 'male', 'prizes': [{'year': '1982'}]}\n",
      "{'gender': 'male', 'prizes': [{'year': '1983'}]}\n",
      "{'gender': 'male', 'prizes': [{'year': '1984'}]}\n",
      "{'gender': 'male', 'prizes': [{'year': '1985'}]}\n",
      "{'gender': 'male', 'prizes': [{'year': '1986'}]}\n",
      "{'gender': 'male', 'prizes': [{'year': '1987'}]}\n",
      "{'gender': 'male', 'prizes': [{'year': '1988'}]}\n",
      "{'gender': 'male', 'prizes': [{'year': '1989'}]}\n",
      "{'gender': 'male', 'prizes': [{'year': '1990'}]}\n",
      "{'gender': 'male', 'prizes': [{'year': '1990'}]}\n",
      "{'gender': 'male', 'prizes': [{'year': '1990'}]}\n",
      "{'gender': 'male', 'prizes': [{'year': '1991'}]}\n",
      "{'gender': 'male', 'prizes': [{'year': '1992'}]}\n",
      "{'gender': 'male', 'prizes': [{'year': '1993'}]}\n",
      "{'gender': 'male', 'prizes': [{'year': '1993'}]}\n",
      "{'gender': 'male', 'prizes': [{'year': '1994'}]}\n",
      "{'gender': 'male', 'prizes': [{'year': '1994'}]}\n",
      "{'gender': 'male', 'prizes': [{'year': '1994'}]}\n",
      "{'gender': 'male', 'prizes': [{'year': '1995'}]}\n",
      "{'gender': 'male', 'prizes': [{'year': '1996'}]}\n",
      "{'gender': 'male', 'prizes': [{'year': '1996'}]}\n",
      "{'gender': 'male', 'prizes': [{'year': '1997'}]}\n",
      "{'gender': 'male', 'prizes': [{'year': '1997'}]}\n",
      "{'gender': 'male', 'prizes': [{'year': '1998'}]}\n",
      "{'gender': 'male', 'prizes': [{'year': '1999'}]}\n",
      "{'gender': 'male', 'prizes': [{'year': '1958'}]}\n",
      "{'gender': 'male', 'prizes': [{'year': '2000'}]}\n",
      "{'gender': 'male', 'prizes': [{'year': '2000'}]}\n",
      "{'gender': 'male', 'prizes': [{'year': '2000'}]}\n",
      "{'gender': 'male', 'prizes': [{'year': '2000'}]}\n",
      "{'gender': 'male', 'prizes': [{'year': '2000'}]}\n",
      "{'gender': 'male', 'prizes': [{'year': '2000'}]}\n",
      "{'gender': 'male', 'prizes': [{'year': '2000'}]}\n",
      "{'gender': 'male', 'prizes': [{'year': '2000'}]}\n",
      "{'gender': 'male', 'prizes': [{'year': '2000'}]}\n",
      "{'gender': 'male', 'prizes': [{'year': '2000'}]}\n",
      "{'gender': 'male', 'prizes': [{'year': '2000'}]}\n",
      "{'gender': 'male', 'prizes': [{'year': '2000'}]}\n",
      "{'gender': 'male', 'prizes': [{'year': '2000'}]}\n",
      "{'gender': 'male', 'prizes': [{'year': '2001'}]}\n",
      "{'gender': 'male', 'prizes': [{'year': '2001'}]}\n",
      "{'gender': 'male', 'prizes': [{'year': '2001'}]}\n",
      "{'gender': 'male', 'prizes': [{'year': '2001'}]}\n",
      "{'gender': 'male', 'prizes': [{'year': '2001'}]}\n",
      "{'gender': 'male', 'prizes': [{'year': '2001'}]}\n",
      "{'gender': 'male', 'prizes': [{'year': '2001'}]}\n",
      "{'gender': 'male', 'prizes': [{'year': '2001'}]}\n",
      "{'gender': 'male', 'prizes': [{'year': '2001'}]}\n",
      "{'gender': 'male', 'prizes': [{'year': '2001'}]}\n",
      "{'gender': 'male', 'prizes': [{'year': '2001'}]}\n",
      "{'gender': 'male', 'prizes': [{'year': '2001'}]}\n",
      "{'gender': 'male', 'prizes': [{'year': '2001'}]}\n",
      "{'gender': 'org', 'prizes': [{'year': '2001'}]}\n",
      "{'gender': 'male', 'prizes': [{'year': '2001'}]}\n",
      "{'gender': 'male', 'prizes': [{'year': '2002'}]}\n",
      "{'gender': 'male', 'prizes': [{'year': '2002'}]}\n",
      "{'gender': 'male', 'prizes': [{'year': '2002'}]}\n",
      "{'gender': 'male', 'prizes': [{'year': '2002'}]}\n",
      "{'gender': 'male', 'prizes': [{'year': '2002'}]}\n",
      "{'gender': 'male', 'prizes': [{'year': '2002'}]}\n",
      "{'gender': 'male', 'prizes': [{'year': '2002'}]}\n",
      "{'gender': 'male', 'prizes': [{'year': '2002'}]}\n",
      "{'gender': 'male', 'prizes': [{'year': '2002'}]}\n",
      "{'gender': 'male', 'prizes': [{'year': '2002'}]}\n",
      "{'gender': 'male', 'prizes': [{'year': '2002'}]}\n",
      "{'gender': 'male', 'prizes': [{'year': '2002'}]}\n",
      "{'gender': 'male', 'prizes': [{'year': '2002'}]}\n",
      "{'gender': 'male', 'prizes': [{'year': '2003'}]}\n",
      "{'gender': 'male', 'prizes': [{'year': '2003'}]}\n",
      "{'gender': 'male', 'prizes': [{'year': '2003'}]}\n",
      "{'gender': 'male', 'prizes': [{'year': '2003'}]}\n",
      "{'gender': 'male', 'prizes': [{'year': '2003'}]}\n",
      "{'gender': 'male', 'prizes': [{'year': '2003'}]}\n",
      "{'gender': 'male', 'prizes': [{'year': '2003'}]}\n",
      "{'gender': 'male', 'prizes': [{'year': '2003'}]}\n",
      "{'gender': 'male', 'prizes': [{'year': '2003'}]}\n",
      "{'gender': 'male', 'prizes': [{'year': '2003'}]}\n",
      "{'gender': 'female', 'prizes': [{'year': '2003'}]}\n",
      "{'gender': 'male', 'prizes': [{'year': '2004'}]}\n",
      "{'gender': 'female', 'prizes': [{'year': '2004'}]}\n",
      "{'gender': 'male', 'prizes': [{'year': '2004'}]}\n",
      "{'gender': 'male', 'prizes': [{'year': '2004'}]}\n",
      "{'gender': 'male', 'prizes': [{'year': '2004'}]}\n",
      "{'gender': 'male', 'prizes': [{'year': '2004'}]}\n",
      "{'gender': 'male', 'prizes': [{'year': '2004'}]}\n",
      "{'gender': 'male', 'prizes': [{'year': '2004'}]}\n",
      "{'gender': 'female', 'prizes': [{'year': '2004'}]}\n",
      "{'gender': 'female', 'prizes': [{'year': '2004'}]}\n",
      "{'gender': 'male', 'prizes': [{'year': '2004'}]}\n",
      "{'gender': 'male', 'prizes': [{'year': '2004'}]}\n",
      "{'gender': 'male', 'prizes': [{'year': '2005'}]}\n",
      "{'gender': 'male', 'prizes': [{'year': '2005'}]}\n",
      "{'gender': 'male', 'prizes': [{'year': '2005'}]}\n",
      "{'gender': 'male', 'prizes': [{'year': '2005'}]}\n",
      "{'gender': 'male', 'prizes': [{'year': '2005'}]}\n",
      "{'gender': 'male', 'prizes': [{'year': '2005'}]}\n",
      "{'gender': 'male', 'prizes': [{'year': '2005'}]}\n",
      "{'gender': 'male', 'prizes': [{'year': '2005'}]}\n",
      "{'gender': 'org', 'prizes': [{'year': '2005'}]}\n",
      "{'gender': 'male', 'prizes': [{'year': '2005'}]}\n",
      "{'gender': 'male', 'prizes': [{'year': '2005'}]}\n",
      "{'gender': 'male', 'prizes': [{'year': '2005'}]}\n",
      "{'gender': 'male', 'prizes': [{'year': '2005'}]}\n",
      "{'gender': 'male', 'prizes': [{'year': '2006'}]}\n",
      "{'gender': 'male', 'prizes': [{'year': '2006'}]}\n",
      "{'gender': 'male', 'prizes': [{'year': '2006'}]}\n",
      "{'gender': 'male', 'prizes': [{'year': '2006'}]}\n",
      "{'gender': 'male', 'prizes': [{'year': '2006'}]}\n",
      "{'gender': 'male', 'prizes': [{'year': '2006'}]}\n",
      "{'gender': 'male', 'prizes': [{'year': '2006'}]}\n",
      "{'gender': 'male', 'prizes': [{'year': '2006'}]}\n",
      "{'gender': 'org', 'prizes': [{'year': '2006'}]}\n",
      "{'gender': 'male', 'prizes': [{'year': '2007'}]}\n",
      "{'gender': 'male', 'prizes': [{'year': '2007'}]}\n",
      "{'gender': 'male', 'prizes': [{'year': '2007'}]}\n",
      "{'gender': 'male', 'prizes': [{'year': '2007'}]}\n",
      "{'gender': 'male', 'prizes': [{'year': '2007'}]}\n",
      "{'gender': 'male', 'prizes': [{'year': '2007'}]}\n",
      "{'gender': 'female', 'prizes': [{'year': '2007'}]}\n",
      "{'gender': 'org', 'prizes': [{'year': '2007'}]}\n",
      "{'gender': 'male', 'prizes': [{'year': '2007'}]}\n",
      "{'gender': 'male', 'prizes': [{'year': '2007'}]}\n",
      "{'gender': 'male', 'prizes': [{'year': '2007'}]}\n",
      "{'gender': 'male', 'prizes': [{'year': '2007'}]}\n",
      "{'gender': 'male', 'prizes': [{'year': '2008'}]}\n",
      "{'gender': 'female', 'prizes': [{'year': '2008'}]}\n",
      "{'gender': 'male', 'prizes': [{'year': '2008'}]}\n",
      "{'gender': 'male', 'prizes': [{'year': '2008'}]}\n",
      "{'gender': 'male', 'prizes': [{'year': '2008'}]}\n",
      "{'gender': 'male', 'prizes': [{'year': '2008'}]}\n",
      "{'gender': 'male', 'prizes': [{'year': '2008'}]}\n",
      "{'gender': 'male', 'prizes': [{'year': '2008'}]}\n",
      "{'gender': 'male', 'prizes': [{'year': '2008'}]}\n",
      "{'gender': 'male', 'prizes': [{'year': '2008'}]}\n",
      "{'gender': 'male', 'prizes': [{'year': '2008'}]}\n",
      "{'gender': 'male', 'prizes': [{'year': '2008'}]}\n",
      "{'gender': 'female', 'prizes': [{'year': '2009'}]}\n",
      "{'gender': 'female', 'prizes': [{'year': '2009'}]}\n",
      "{'gender': 'male', 'prizes': [{'year': '2009'}]}\n",
      "{'gender': 'male', 'prizes': [{'year': '2009'}]}\n",
      "{'gender': 'male', 'prizes': [{'year': '2009'}]}\n",
      "{'gender': 'male', 'prizes': [{'year': '2009'}]}\n",
      "{'gender': 'male', 'prizes': [{'year': '2009'}]}\n",
      "{'gender': 'male', 'prizes': [{'year': '2009'}]}\n",
      "{'gender': 'female', 'prizes': [{'year': '2009'}]}\n",
      "{'gender': 'female', 'prizes': [{'year': '2009'}]}\n",
      "{'gender': 'male', 'prizes': [{'year': '2009'}]}\n",
      "{'gender': 'female', 'prizes': [{'year': '2009'}]}\n",
      "{'gender': 'male', 'prizes': [{'year': '2009'}]}\n",
      "{'gender': 'male', 'prizes': [{'year': '2010'}]}\n",
      "{'gender': 'male', 'prizes': [{'year': '2010'}]}\n",
      "{'gender': 'male', 'prizes': [{'year': '2010'}]}\n",
      "{'gender': 'male', 'prizes': [{'year': '2010'}]}\n",
      "{'gender': 'male', 'prizes': [{'year': '2010'}]}\n",
      "{'gender': 'male', 'prizes': [{'year': '2010'}]}\n",
      "{'gender': 'male', 'prizes': [{'year': '2010'}]}\n",
      "{'gender': 'male', 'prizes': [{'year': '2010'}]}\n",
      "{'gender': 'male', 'prizes': [{'year': '2010'}]}\n",
      "{'gender': 'male', 'prizes': [{'year': '2010'}]}\n",
      "{'gender': 'male', 'prizes': [{'year': '2010'}]}\n",
      "{'gender': 'male', 'prizes': [{'year': '2011'}]}\n",
      "{'gender': 'male', 'prizes': [{'year': '2011'}]}\n",
      "{'gender': 'male', 'prizes': [{'year': '2011'}]}\n",
      "{'gender': 'male', 'prizes': [{'year': '2011'}]}\n",
      "{'gender': 'male', 'prizes': [{'year': '2011'}]}\n",
      "{'gender': 'male', 'prizes': [{'year': '2011'}]}\n",
      "{'gender': 'male', 'prizes': [{'year': '2011'}]}\n",
      "{'gender': 'male', 'prizes': [{'year': '2011'}]}\n",
      "{'gender': 'female', 'prizes': [{'year': '2011'}]}\n",
      "{'gender': 'female', 'prizes': [{'year': '2011'}]}\n",
      "{'gender': 'female', 'prizes': [{'year': '2011'}]}\n",
      "{'gender': 'male', 'prizes': [{'year': '2011'}]}\n",
      "{'gender': 'male', 'prizes': [{'year': '2011'}]}\n",
      "{'gender': 'male', 'prizes': [{'year': '2012'}]}\n",
      "{'gender': 'male', 'prizes': [{'year': '2012'}]}\n",
      "{'gender': 'male', 'prizes': [{'year': '2012'}]}\n",
      "{'gender': 'male', 'prizes': [{'year': '2012'}]}\n",
      "{'gender': 'male', 'prizes': [{'year': '2012'}]}\n",
      "{'gender': 'male', 'prizes': [{'year': '2012'}]}\n",
      "{'gender': 'male', 'prizes': [{'year': '2012'}]}\n",
      "{'gender': 'org', 'prizes': [{'year': '2012'}]}\n",
      "{'gender': 'male', 'prizes': [{'year': '2012'}]}\n",
      "{'gender': 'male', 'prizes': [{'year': '2012'}]}\n",
      "{'gender': 'male', 'prizes': [{'year': '2013'}]}\n",
      "{'gender': 'male', 'prizes': [{'year': '2013'}]}\n",
      "{'gender': 'male', 'prizes': [{'year': '2013'}]}\n",
      "{'gender': 'male', 'prizes': [{'year': '2013'}]}\n",
      "{'gender': 'male', 'prizes': [{'year': '2013'}]}\n",
      "{'gender': 'male', 'prizes': [{'year': '2013'}]}\n",
      "{'gender': 'male', 'prizes': [{'year': '2013'}]}\n",
      "{'gender': 'male', 'prizes': [{'year': '2013'}]}\n",
      "{'gender': 'female', 'prizes': [{'year': '2013'}]}\n",
      "{'gender': 'org', 'prizes': [{'year': '2013'}]}\n",
      "{'gender': 'male', 'prizes': [{'year': '2013'}]}\n",
      "{'gender': 'male', 'prizes': [{'year': '2013'}]}\n",
      "{'gender': 'male', 'prizes': [{'year': '2013'}]}\n",
      "{'gender': 'male', 'prizes': [{}]}\n",
      "{'gender': 'male', 'prizes': [{}]}\n",
      "{'gender': 'male', 'prizes': [{}]}\n",
      "{'gender': 'male', 'prizes': [{}]}\n",
      "{'gender': 'male', 'prizes': [{}]}\n",
      "{'gender': 'male', 'prizes': [{}]}\n",
      "{'gender': 'male', 'prizes': [{'year': '2014'}]}\n",
      "{'gender': 'female', 'prizes': [{'year': '2014'}]}\n",
      "{'gender': 'male', 'prizes': [{'year': '2014'}]}\n",
      "{'gender': 'male', 'prizes': [{'year': '2014'}]}\n",
      "{'gender': 'male', 'prizes': [{'year': '2014'}]}\n",
      "{'gender': 'male', 'prizes': [{'year': '2014'}]}\n",
      "{'gender': 'male', 'prizes': [{'year': '2014'}]}\n",
      "{'gender': 'male', 'prizes': [{'year': '2014'}]}\n",
      "{'gender': 'male', 'prizes': [{'year': '2014'}]}\n",
      "{'gender': 'male', 'prizes': [{'year': '2014'}]}\n",
      "{'gender': 'male', 'prizes': [{'year': '2014'}]}\n",
      "{'gender': 'female', 'prizes': [{'year': '2014'}]}\n",
      "{'gender': 'male', 'prizes': [{'year': '2014'}]}\n",
      "{'gender': 'male', 'prizes': [{'year': '2015'}]}\n",
      "{'gender': 'male', 'prizes': [{'year': '2015'}]}\n",
      "{'gender': 'female', 'prizes': [{'year': '2015'}]}\n",
      "{'gender': 'male', 'prizes': [{'year': '2015'}]}\n",
      "{'gender': 'male', 'prizes': [{'year': '2015'}]}\n",
      "{'gender': 'male', 'prizes': [{'year': '2015'}]}\n",
      "{'gender': 'male', 'prizes': [{'year': '2015'}]}\n",
      "{'gender': 'male', 'prizes': [{'year': '2015'}]}\n",
      "{'gender': 'female', 'prizes': [{'year': '2015'}]}\n",
      "{'gender': 'org', 'prizes': [{'year': '2015'}]}\n",
      "{'gender': 'male', 'prizes': [{'year': '2015'}]}\n",
      "{'gender': 'male', 'prizes': [{'year': '2016'}]}\n",
      "{'gender': 'male', 'prizes': [{'year': '2016'}]}\n",
      "{'gender': 'male', 'prizes': [{'year': '2016'}]}\n",
      "{'gender': 'male', 'prizes': [{'year': '2016'}]}\n",
      "{'gender': 'male', 'prizes': [{'year': '2016'}]}\n",
      "{'gender': 'male', 'prizes': [{'year': '2016'}]}\n",
      "{'gender': 'male', 'prizes': [{'year': '2016'}]}\n",
      "{'gender': 'male', 'prizes': [{'year': '2016'}]}\n",
      "{'gender': 'male', 'prizes': [{'year': '2016'}]}\n",
      "{'gender': 'male', 'prizes': [{'year': '2016'}]}\n",
      "{'gender': 'male', 'prizes': [{'year': '2016'}]}\n",
      "{'gender': 'male', 'prizes': [{'year': '2017'}]}\n",
      "{'gender': 'male', 'prizes': [{'year': '2017'}]}\n",
      "{'gender': 'male', 'prizes': [{'year': '2017'}]}\n",
      "{'gender': 'male', 'prizes': [{'year': '2017'}]}\n",
      "{'gender': 'male', 'prizes': [{'year': '2017'}]}\n",
      "{'gender': 'male', 'prizes': [{'year': '2017'}]}\n",
      "{'gender': 'male', 'prizes': [{'year': '2017'}]}\n",
      "{'gender': 'male', 'prizes': [{'year': '2017'}]}\n",
      "{'gender': 'male', 'prizes': [{'year': '2017'}]}\n",
      "{'gender': 'male', 'prizes': [{'year': '2017'}]}\n",
      "{'gender': 'org', 'prizes': [{'year': '2017'}]}\n",
      "{'gender': 'male', 'prizes': [{'year': '2017'}]}\n",
      "{'gender': 'male', 'prizes': [{'year': '2018'}]}\n",
      "{'gender': 'male', 'prizes': [{'year': '2018'}]}\n",
      "{'gender': 'male', 'prizes': [{'year': '2018'}]}\n",
      "{'gender': 'male', 'prizes': [{'year': '2018'}]}\n",
      "{'gender': 'female', 'prizes': [{'year': '2018'}]}\n",
      "{'gender': 'female', 'prizes': [{'year': '2018'}]}\n",
      "{'gender': 'male', 'prizes': [{'year': '2018'}]}\n",
      "{'gender': 'male', 'prizes': [{'year': '2018'}]}\n",
      "{'gender': 'male', 'prizes': [{'year': '2018'}]}\n",
      "{'gender': 'female', 'prizes': [{'year': '2018'}]}\n",
      "{'gender': 'male', 'prizes': [{'year': '2018'}]}\n",
      "{'gender': 'male', 'prizes': [{'year': '2018'}]}\n"
     ]
    }
   ],
   "source": [
    "for x in db.laureates.aggregate([\n",
    "    {'$project': {'gender':1,'prizes.year':1,'_id':0}},\n",
    "    {'$unwind': '$gender'}\n",
    "]):\n",
    "    print(x)"
   ]
  },
  {
   "cell_type": "markdown",
   "metadata": {},
   "source": [
    "## lookup\n",
    "$lookup : 连接操作符，用于连接同一个数据库中另一个集合，并获取指定的文档，类似于populate\n",
    "\n",
    "$lookup:\n",
    "      {\n",
    "        from: \"users\",\n",
    "        localField: \"author\",\n",
    "        foreignField: \"name\",\n",
    "        as: \"author\"\n",
    "      }"
   ]
  },
  {
   "cell_type": "code",
   "execution_count": 137,
   "metadata": {
    "ExecuteTime": {
     "end_time": "2019-03-03T11:49:06.374314Z",
     "start_time": "2019-03-03T11:49:04.680893Z"
    }
   },
   "outputs": [
    {
     "name": "stdout",
     "output_type": "stream",
     "text": [
      "{'_id': 'literature', 'nBornCountries': 55}\n",
      "{'_id': 'peace', 'nBornCountries': 50}\n",
      "{'_id': 'chemistry', 'nBornCountries': 48}\n",
      "{'_id': 'medicine', 'nBornCountries': 44}\n",
      "{'_id': 'physics', 'nBornCountries': 44}\n",
      "{'_id': 'economics', 'nBornCountries': 21}\n"
     ]
    }
   ],
   "source": [
    "pipeline = [\n",
    "    # Unwind the laureates array\n",
    "    {\"$unwind\": \"$laureates\"},\n",
    "    {\"$lookup\": {\"from\": \"laureates\", \"foreignField\": \"id\",\n",
    "                 \"localField\": \"laureates.id\", \"as\": \"laureate_bios\"}},\n",
    "  \n",
    "    # Unwind the new laureate_bios array\n",
    "    {\"$unwind\": \"$laureate_bios\"},\n",
    "    {\"$project\": {\"category\": 1, \"bornCountry\": \"$laureate_bios.bornCountry\"}},\n",
    "  \n",
    "    # Collect bornCountry values associated with each prize category\n",
    "    {\"$group\": {\"_id\": \"$category\", \"bornCountries\": {\"$addToSet\": \"$bornCountry\"}}},\n",
    "  \n",
    "    # Project out the size of each category's (set of) bornCountries\n",
    "    {\"$project\": {\"category\": 1, \"nBornCountries\": {\"$size\": \"$bornCountries\"}}},\n",
    "    {\"$sort\": {\"nBornCountries\": -1}},\n",
    "]\n",
    "for doc in db.prizes.aggregate(pipeline): \n",
    "    print(doc)"
   ]
  },
  {
   "cell_type": "markdown",
   "metadata": {},
   "source": [
    "## addFields\n",
    "\n",
    "'addFields' stage is equivalent to a '$project' stage that explicitly specifies all existing fields in the input documents and adds the new fields \n",
    "\n",
    "添加字段，就是在查询的结果再添加一些字段信息，字段的内容自己决定"
   ]
  },
  {
   "cell_type": "code",
   "execution_count": 138,
   "metadata": {
    "ExecuteTime": {
     "end_time": "2019-03-03T12:06:28.655329Z",
     "start_time": "2019-03-03T12:06:28.600302Z"
    }
   },
   "outputs": [
    {
     "name": "stdout",
     "output_type": "stream",
     "text": [
      "[{'awardedElsewhere': 956}]\n"
     ]
    }
   ],
   "source": [
    "pipeline = [\n",
    "    # Limit results to people; project needed fields; unwind prizes\n",
    "    {\"$match\": {\"gender\": {\"$ne\": \"org\"}}},\n",
    "    {\"$project\": {\"bornCountry\": 1, \"prizes.affiliations.country\": 1}},\n",
    "    {\"$unwind\": \"$prizes\"},\n",
    "  \n",
    "    # Count prizes with no country-of-birth affiliation\n",
    "    # $addFields refactor that stage to be a $project stage instead\n",
    "    {\"$addFields\": {\"bornCountryInAffiliations\": {\"$in\": [\"$bornCountry\", \"$prizes.affiliations.country\"]}}},\n",
    "    {\"$match\": {\"bornCountryInAffiliations\": False}},\n",
    "    {\"$count\": \"awardedElsewhere\"},\n",
    "]\n",
    "\n",
    "print(list(db.laureates.aggregate(pipeline)))"
   ]
  },
  {
   "cell_type": "markdown",
   "metadata": {},
   "source": [
    "## insert "
   ]
  },
  {
   "cell_type": "code",
   "execution_count": 139,
   "metadata": {
    "ExecuteTime": {
     "end_time": "2019-03-03T12:11:45.775074Z",
     "start_time": "2019-03-03T12:11:45.727134Z"
    }
   },
   "outputs": [
    {
     "name": "stdout",
     "output_type": "stream",
     "text": [
      "[{'awardedElsewhere': 504}]\n"
     ]
    }
   ],
   "source": [
    "pipeline = [\n",
    "    {\"$match\": {\"gender\": {\"$ne\": \"org\"}}},\n",
    "    {\"$project\": {\"bornCountry\": 1, \"prizes.affiliations.country\": 1}},\n",
    "    {\"$unwind\": \"$prizes\"},\n",
    "    {\"$addFields\": {\"bornCountryInAffiliations\": {\"$in\": [\"$bornCountry\", \"$prizes.affiliations.country\"]}}},\n",
    "    {\"$match\": {\"bornCountryInAffiliations\": False}},\n",
    "    {\"$count\": \"awardedElsewhere\"},\n",
    "]\n",
    "\n",
    "# Construct the additional filter stage\n",
    "added_stage = {\"$match\": {\"prizes.affiliations.country\": {\"$in\": db.laureates.distinct(\"prizes.affiliations.country\")}}}\n",
    "\n",
    "# Insert this stage into the pipeline\n",
    "# 插在index為3上\n",
    "pipeline.insert(3, added_stage)\n",
    "print(list(db.laureates.aggregate(pipeline)))"
   ]
  },
  {
   "cell_type": "code",
   "execution_count": null,
   "metadata": {},
   "outputs": [],
   "source": []
  }
 ],
 "metadata": {
  "hide_input": false,
  "kernelspec": {
   "display_name": "Python 3",
   "language": "python",
   "name": "python3"
  },
  "language_info": {
   "codemirror_mode": {
    "name": "ipython",
    "version": 3
   },
   "file_extension": ".py",
   "mimetype": "text/x-python",
   "name": "python",
   "nbconvert_exporter": "python",
   "pygments_lexer": "ipython3",
   "version": "3.7.1"
  },
  "toc": {
   "base_numbering": 1,
   "nav_menu": {},
   "number_sections": true,
   "sideBar": true,
   "skip_h1_title": false,
   "title_cell": "Table of Contents",
   "title_sidebar": "Contents",
   "toc_cell": false,
   "toc_position": {},
   "toc_section_display": true,
   "toc_window_display": false
  },
  "varInspector": {
   "cols": {
    "lenName": 16,
    "lenType": 16,
    "lenVar": 40
   },
   "kernels_config": {
    "python": {
     "delete_cmd_postfix": "",
     "delete_cmd_prefix": "del ",
     "library": "var_list.py",
     "varRefreshCmd": "print(var_dic_list())"
    },
    "r": {
     "delete_cmd_postfix": ") ",
     "delete_cmd_prefix": "rm(",
     "library": "var_list.r",
     "varRefreshCmd": "cat(var_dic_list()) "
    }
   },
   "types_to_exclude": [
    "module",
    "function",
    "builtin_function_or_method",
    "instance",
    "_Feature"
   ],
   "window_display": false
  }
 },
 "nbformat": 4,
 "nbformat_minor": 2
}
