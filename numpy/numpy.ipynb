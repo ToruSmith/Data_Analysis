{
 "cells": [
  {
   "cell_type": "markdown",
   "metadata": {
    "toc": true
   },
   "source": [
    "<h1>Table of Contents<span class=\"tocSkip\"></span></h1>\n",
    "<div class=\"toc\"><ul class=\"toc-item\"><li><span><a href=\"#Import-numpy\" data-toc-modified-id=\"Import-numpy-1\"><span class=\"toc-item-num\">1&nbsp;&nbsp;</span>Import numpy</a></span></li><li><span><a href=\"#Build-a-numpy-array\" data-toc-modified-id=\"Build-a-numpy-array-2\"><span class=\"toc-item-num\">2&nbsp;&nbsp;</span>Build a numpy array</a></span></li><li><span><a href=\"#Build-a-zero-array\" data-toc-modified-id=\"Build-a-zero-array-3\"><span class=\"toc-item-num\">3&nbsp;&nbsp;</span>Build a zero array</a></span></li><li><span><a href=\"#Build-a-one-array\" data-toc-modified-id=\"Build-a-one-array-4\"><span class=\"toc-item-num\">4&nbsp;&nbsp;</span>Build a one array</a></span></li><li><span><a href=\"#A-full-array\" data-toc-modified-id=\"A-full-array-5\"><span class=\"toc-item-num\">5&nbsp;&nbsp;</span>A full array</a></span></li><li><span><a href=\"#range-(like-range)\" data-toc-modified-id=\"range-(like-range)-6\"><span class=\"toc-item-num\">6&nbsp;&nbsp;</span>range (like range)</a></span></li><li><span><a href=\"#Find-the-values-in-the-range\" data-toc-modified-id=\"Find-the-values-in-the-range-7\"><span class=\"toc-item-num\">7&nbsp;&nbsp;</span>Find the values in the range</a></span></li><li><span><a href=\"#Generate-value-randomly-from-0~1\" data-toc-modified-id=\"Generate-value-randomly-from-0~1-8\"><span class=\"toc-item-num\">8&nbsp;&nbsp;</span>Generate value randomly from 0~1</a></span></li><li><span><a href=\"#Generate-value-randomly-from-normal-distribution\" data-toc-modified-id=\"Generate-value-randomly-from-normal-distribution-9\"><span class=\"toc-item-num\">9&nbsp;&nbsp;</span>Generate value randomly from normal distribution</a></span></li><li><span><a href=\"#Generate-values-random-in-integars\" data-toc-modified-id=\"Generate-values-random-in-integars-10\"><span class=\"toc-item-num\">10&nbsp;&nbsp;</span>Generate values random in integars</a></span></li><li><span><a href=\"#Generate-values-in-diagram\" data-toc-modified-id=\"Generate-values-in-diagram-11\"><span class=\"toc-item-num\">11&nbsp;&nbsp;</span>Generate values in diagram</a></span></li><li><span><a href=\"#zero-value\" data-toc-modified-id=\"zero-value-12\"><span class=\"toc-item-num\">12&nbsp;&nbsp;</span>zero value</a></span></li><li><span><a href=\"#Index,-Slice\" data-toc-modified-id=\"Index,-Slice-13\"><span class=\"toc-item-num\">13&nbsp;&nbsp;</span>Index, Slice</a></span></li><li><span><a href=\"#Reshape-the-array\" data-toc-modified-id=\"Reshape-the-array-14\"><span class=\"toc-item-num\">14&nbsp;&nbsp;</span>Reshape the array</a></span></li><li><span><a href=\"#Concatenate-the-array\" data-toc-modified-id=\"Concatenate-the-array-15\"><span class=\"toc-item-num\">15&nbsp;&nbsp;</span>Concatenate the array</a></span></li><li><span><a href=\"#Split-the-array\" data-toc-modified-id=\"Split-the-array-16\"><span class=\"toc-item-num\">16&nbsp;&nbsp;</span>Split the array</a></span></li><li><span><a href=\"#absolute\" data-toc-modified-id=\"absolute-17\"><span class=\"toc-item-num\">17&nbsp;&nbsp;</span>absolute</a></span></li><li><span><a href=\"#Exponential\" data-toc-modified-id=\"Exponential-18\"><span class=\"toc-item-num\">18&nbsp;&nbsp;</span>Exponential</a></span></li><li><span><a href=\"#Power-the-array\" data-toc-modified-id=\"Power-the-array-19\"><span class=\"toc-item-num\">19&nbsp;&nbsp;</span>Power the array</a></span></li><li><span><a href=\"#Log\" data-toc-modified-id=\"Log-20\"><span class=\"toc-item-num\">20&nbsp;&nbsp;</span>Log</a></span></li><li><span><a href=\"#Multipliy\" data-toc-modified-id=\"Multipliy-21\"><span class=\"toc-item-num\">21&nbsp;&nbsp;</span>Multipliy</a></span></li><li><span><a href=\"#Sum\" data-toc-modified-id=\"Sum-22\"><span class=\"toc-item-num\">22&nbsp;&nbsp;</span>Sum</a></span></li><li><span><a href=\"#Max-Min\" data-toc-modified-id=\"Max-Min-23\"><span class=\"toc-item-num\">23&nbsp;&nbsp;</span>Max Min</a></span></li><li><span><a href=\"#argmax-argmin\" data-toc-modified-id=\"argmax-argmin-24\"><span class=\"toc-item-num\">24&nbsp;&nbsp;</span>argmax argmin</a></span></li><li><span><a href=\"#Extract-the-percent-value-from-the-array\" data-toc-modified-id=\"Extract-the-percent-value-from-the-array-25\"><span class=\"toc-item-num\">25&nbsp;&nbsp;</span>Extract the percent value from the array</a></span></li><li><span><a href=\"#Find-the-median\" data-toc-modified-id=\"Find-the-median-26\"><span class=\"toc-item-num\">26&nbsp;&nbsp;</span>Find the median</a></span></li><li><span><a href=\"#Check-equal\" data-toc-modified-id=\"Check-equal-27\"><span class=\"toc-item-num\">27&nbsp;&nbsp;</span>Check equal</a></span></li><li><span><a href=\"#Specift-the-indice-you-need-to-add\" data-toc-modified-id=\"Specift-the-indice-you-need-to-add-28\"><span class=\"toc-item-num\">28&nbsp;&nbsp;</span>Specift the indice you need to add</a></span></li><li><span><a href=\"#Find-indices-where-elements-should-be-inserted-to-maintain-order.\" data-toc-modified-id=\"Find-indices-where-elements-should-be-inserted-to-maintain-order.-29\"><span class=\"toc-item-num\">29&nbsp;&nbsp;</span>Find indices where elements should be inserted to maintain order.</a></span></li><li><span><a href=\"#Returns-the-indices-that-would-sort-an-array\" data-toc-modified-id=\"Returns-the-indices-that-would-sort-an-array-30\"><span class=\"toc-item-num\">30&nbsp;&nbsp;</span>Returns the indices that would sort an array</a></span></li><li><span><a href=\"#Return-element-index-to-partition-by-and-other-index.\" data-toc-modified-id=\"Return-element-index-to-partition-by-and-other-index.-31\"><span class=\"toc-item-num\">31&nbsp;&nbsp;</span>Return element index to partition by and other index.</a></span></li><li><span><a href=\"#Calculate-the-n-th-discrete-difference-along-the-given-axis.\" data-toc-modified-id=\"Calculate-the-n-th-discrete-difference-along-the-given-axis.-32\"><span class=\"toc-item-num\">32&nbsp;&nbsp;</span>Calculate the n-th discrete difference along the given axis.</a></span></li><li><span><a href=\"#Permutation\" data-toc-modified-id=\"Permutation-33\"><span class=\"toc-item-num\">33&nbsp;&nbsp;</span>Permutation</a></span></li></ul></div>"
   ]
  },
  {
   "cell_type": "markdown",
   "metadata": {},
   "source": [
    "## Import numpy"
   ]
  },
  {
   "cell_type": "code",
   "execution_count": 1,
   "metadata": {
    "ExecuteTime": {
     "end_time": "2019-04-05T13:54:06.618627Z",
     "start_time": "2019-04-05T13:54:06.615502Z"
    }
   },
   "outputs": [],
   "source": [
    "import numpy"
   ]
  },
  {
   "cell_type": "markdown",
   "metadata": {},
   "source": [
    "## Build a numpy array "
   ]
  },
  {
   "cell_type": "code",
   "execution_count": 6,
   "metadata": {
    "ExecuteTime": {
     "end_time": "2019-02-15T05:39:58.886268Z",
     "start_time": "2019-02-15T05:39:58.881202Z"
    }
   },
   "outputs": [
    {
     "data": {
      "text/plain": [
       "array([ 1,  2,  4,  7, 10])"
      ]
     },
     "execution_count": 6,
     "metadata": {},
     "output_type": "execute_result"
    }
   ],
   "source": [
    "np.array([1,2,4,7,10])"
   ]
  },
  {
   "cell_type": "code",
   "execution_count": 5,
   "metadata": {
    "ExecuteTime": {
     "end_time": "2019-02-15T05:39:57.413650Z",
     "start_time": "2019-02-15T05:39:57.383970Z"
    }
   },
   "outputs": [
    {
     "data": {
      "text/plain": [
       "array([1., 2., 3., 4.], dtype=float32)"
      ]
     },
     "execution_count": 5,
     "metadata": {},
     "output_type": "execute_result"
    }
   ],
   "source": [
    "np.array([1,2,3,4],dtype=np.float32)"
   ]
  },
  {
   "cell_type": "markdown",
   "metadata": {},
   "source": [
    "## Build a zero array"
   ]
  },
  {
   "cell_type": "code",
   "execution_count": 7,
   "metadata": {
    "ExecuteTime": {
     "end_time": "2019-02-15T05:40:30.790153Z",
     "start_time": "2019-02-15T05:40:30.783805Z"
    }
   },
   "outputs": [
    {
     "data": {
      "text/plain": [
       "array([[0., 0., 0., 0., 0., 0.],\n",
       "       [0., 0., 0., 0., 0., 0.],\n",
       "       [0., 0., 0., 0., 0., 0.]], dtype=float32)"
      ]
     },
     "execution_count": 7,
     "metadata": {},
     "output_type": "execute_result"
    }
   ],
   "source": [
    "np.zeros((3,6),dtype=np.float32) #(3,6) is shape"
   ]
  },
  {
   "cell_type": "markdown",
   "metadata": {},
   "source": [
    "## Build a one array "
   ]
  },
  {
   "cell_type": "code",
   "execution_count": 8,
   "metadata": {
    "ExecuteTime": {
     "end_time": "2019-02-15T05:41:10.524116Z",
     "start_time": "2019-02-15T05:41:10.517536Z"
    }
   },
   "outputs": [
    {
     "data": {
      "text/plain": [
       "array([1., 1., 1., 1., 1.], dtype=float32)"
      ]
     },
     "execution_count": 8,
     "metadata": {},
     "output_type": "execute_result"
    }
   ],
   "source": [
    "np.ones(5,dtype=np.float32)"
   ]
  },
  {
   "cell_type": "markdown",
   "metadata": {},
   "source": [
    "##  A full array\n",
    "You can determine content in the array"
   ]
  },
  {
   "cell_type": "code",
   "execution_count": 11,
   "metadata": {
    "ExecuteTime": {
     "end_time": "2019-02-15T05:43:06.931794Z",
     "start_time": "2019-02-15T05:43:06.923407Z"
    }
   },
   "outputs": [
    {
     "data": {
      "text/plain": [
       "array(['Hello', 'Hello', 'Hello'], dtype='<U5')"
      ]
     },
     "execution_count": 11,
     "metadata": {},
     "output_type": "execute_result"
    }
   ],
   "source": [
    "np.full((3),\"Hello\")"
   ]
  },
  {
   "cell_type": "markdown",
   "metadata": {},
   "source": [
    "## range (like range) "
   ]
  },
  {
   "cell_type": "code",
   "execution_count": 12,
   "metadata": {
    "ExecuteTime": {
     "end_time": "2019-02-15T05:43:50.269499Z",
     "start_time": "2019-02-15T05:43:50.263157Z"
    }
   },
   "outputs": [
    {
     "data": {
      "text/plain": [
       "array([0, 1, 2, 3, 4, 5, 6, 7, 8, 9])"
      ]
     },
     "execution_count": 12,
     "metadata": {},
     "output_type": "execute_result"
    }
   ],
   "source": [
    "np.arange(10)"
   ]
  },
  {
   "cell_type": "markdown",
   "metadata": {},
   "source": [
    "##  Find the values in the range"
   ]
  },
  {
   "cell_type": "code",
   "execution_count": 16,
   "metadata": {
    "ExecuteTime": {
     "end_time": "2019-02-15T05:46:11.958323Z",
     "start_time": "2019-02-15T05:46:11.953706Z"
    }
   },
   "outputs": [
    {
     "data": {
      "text/plain": [
       "array([ 10.,  20.,  30.,  40.,  50.,  60.,  70.,  80.,  90., 100.])"
      ]
     },
     "execution_count": 16,
     "metadata": {},
     "output_type": "execute_result"
    }
   ],
   "source": [
    "np.linspace(10,100,10)  #(start,end,number)"
   ]
  },
  {
   "cell_type": "markdown",
   "metadata": {},
   "source": [
    "## Generate value randomly from 0~1 "
   ]
  },
  {
   "cell_type": "code",
   "execution_count": 18,
   "metadata": {
    "ExecuteTime": {
     "end_time": "2019-02-15T05:48:27.417414Z",
     "start_time": "2019-02-15T05:48:27.409306Z"
    }
   },
   "outputs": [
    {
     "data": {
      "text/plain": [
       "array([[0.77636863, 0.55790351, 0.44640143],\n",
       "       [0.08638662, 0.16573702, 0.58866942],\n",
       "       [0.98442584, 0.99094086, 0.55868026]])"
      ]
     },
     "execution_count": 18,
     "metadata": {},
     "output_type": "execute_result"
    }
   ],
   "source": [
    "np.random.random((3,3)) #(3,3) is shape"
   ]
  },
  {
   "cell_type": "markdown",
   "metadata": {},
   "source": [
    "## Generate value randomly from normal distribution "
   ]
  },
  {
   "cell_type": "code",
   "execution_count": 19,
   "metadata": {
    "ExecuteTime": {
     "end_time": "2019-02-15T05:49:19.714325Z",
     "start_time": "2019-02-15T05:49:19.707243Z"
    }
   },
   "outputs": [
    {
     "data": {
      "text/plain": [
       "array([[10.61523894,  9.18325346, -3.71899322],\n",
       "       [ 6.92840905,  6.15057357,  6.1326105 ],\n",
       "       [10.2438738 , -0.84750981, -1.93839968]])"
      ]
     },
     "execution_count": 19,
     "metadata": {},
     "output_type": "execute_result"
    }
   ],
   "source": [
    "np.random.normal(0,10,(3,3)) #0 is mean  10 is standard deviation"
   ]
  },
  {
   "cell_type": "markdown",
   "metadata": {},
   "source": [
    "## Generate values random in integars"
   ]
  },
  {
   "cell_type": "code",
   "execution_count": 20,
   "metadata": {
    "ExecuteTime": {
     "end_time": "2019-02-15T05:51:18.240775Z",
     "start_time": "2019-02-15T05:51:18.234624Z"
    }
   },
   "outputs": [
    {
     "data": {
      "text/plain": [
       "array([[5, 0, 3],\n",
       "       [0, 4, 4],\n",
       "       [6, 2, 4]])"
      ]
     },
     "execution_count": 20,
     "metadata": {},
     "output_type": "execute_result"
    }
   ],
   "source": [
    "np.random.randint(0,10,(3,3))"
   ]
  },
  {
   "cell_type": "markdown",
   "metadata": {
    "ExecuteTime": {
     "end_time": "2019-02-15T05:51:36.762865Z",
     "start_time": "2019-02-15T05:51:36.755192Z"
    }
   },
   "source": [
    "## Generate values in diagram"
   ]
  },
  {
   "cell_type": "code",
   "execution_count": 22,
   "metadata": {
    "ExecuteTime": {
     "end_time": "2019-02-15T05:51:53.420373Z",
     "start_time": "2019-02-15T05:51:53.413998Z"
    }
   },
   "outputs": [
    {
     "data": {
      "text/plain": [
       "array([[1., 0., 0.],\n",
       "       [0., 1., 0.],\n",
       "       [0., 0., 1.]])"
      ]
     },
     "execution_count": 22,
     "metadata": {},
     "output_type": "execute_result"
    }
   ],
   "source": [
    "np.eye(3)"
   ]
  },
  {
   "cell_type": "markdown",
   "metadata": {},
   "source": [
    "## zero value "
   ]
  },
  {
   "cell_type": "code",
   "execution_count": 23,
   "metadata": {
    "ExecuteTime": {
     "end_time": "2019-02-15T05:52:22.796343Z",
     "start_time": "2019-02-15T05:52:22.789657Z"
    }
   },
   "outputs": [
    {
     "data": {
      "text/plain": [
       "array([[[ 0.55555556,  1.11111111],\n",
       "        [ 1.66666667,  2.22222222],\n",
       "        [ 2.77777778,  3.33333333]],\n",
       "\n",
       "       [[ 3.88888889,  4.44444444],\n",
       "        [ 5.        ,  5.55555556],\n",
       "        [ 6.11111111,  6.66666667]],\n",
       "\n",
       "       [[ 7.22222222,  7.77777778],\n",
       "        [ 8.33333333,  8.88888889],\n",
       "        [ 9.44444444, 10.        ]]])"
      ]
     },
     "execution_count": 23,
     "metadata": {},
     "output_type": "execute_result"
    }
   ],
   "source": [
    "np.empty((3,3,2)) #(dimension,row,col)"
   ]
  },
  {
   "cell_type": "markdown",
   "metadata": {},
   "source": [
    "## Index, Slice "
   ]
  },
  {
   "cell_type": "code",
   "execution_count": 26,
   "metadata": {
    "ExecuteTime": {
     "end_time": "2019-02-15T05:58:12.879273Z",
     "start_time": "2019-02-15T05:58:12.872729Z"
    }
   },
   "outputs": [
    {
     "data": {
      "text/plain": [
       "array([[[7, 6, 9, 1, 0],\n",
       "        [1, 6, 8, 1, 7],\n",
       "        [4, 5, 5, 8, 0],\n",
       "        [2, 3, 1, 2, 6]],\n",
       "\n",
       "       [[3, 4, 7, 8, 9],\n",
       "        [0, 8, 1, 3, 6],\n",
       "        [5, 2, 6, 8, 8],\n",
       "        [7, 4, 3, 7, 5]],\n",
       "\n",
       "       [[5, 3, 6, 9, 2],\n",
       "        [6, 7, 0, 8, 0],\n",
       "        [1, 6, 3, 2, 7],\n",
       "        [1, 6, 6, 8, 4]]])"
      ]
     },
     "execution_count": 26,
     "metadata": {},
     "output_type": "execute_result"
    }
   ],
   "source": [
    "x=np.random.randint(10,size=(3,4,5))\n",
    "x"
   ]
  },
  {
   "cell_type": "code",
   "execution_count": 27,
   "metadata": {
    "ExecuteTime": {
     "end_time": "2019-02-15T05:58:17.771987Z",
     "start_time": "2019-02-15T05:58:17.765989Z"
    }
   },
   "outputs": [
    {
     "data": {
      "text/plain": [
       "array([[7, 6, 9, 1, 0],\n",
       "       [1, 6, 8, 1, 7],\n",
       "       [4, 5, 5, 8, 0],\n",
       "       [2, 3, 1, 2, 6]])"
      ]
     },
     "execution_count": 27,
     "metadata": {},
     "output_type": "execute_result"
    }
   ],
   "source": [
    "x[0]"
   ]
  },
  {
   "cell_type": "code",
   "execution_count": 29,
   "metadata": {
    "ExecuteTime": {
     "end_time": "2019-02-15T05:58:25.443316Z",
     "start_time": "2019-02-15T05:58:25.437877Z"
    }
   },
   "outputs": [
    {
     "data": {
      "text/plain": [
       "array([7, 6, 9, 1, 0])"
      ]
     },
     "execution_count": 29,
     "metadata": {},
     "output_type": "execute_result"
    }
   ],
   "source": [
    "x[0][0]"
   ]
  },
  {
   "cell_type": "code",
   "execution_count": 30,
   "metadata": {
    "ExecuteTime": {
     "end_time": "2019-02-15T05:58:32.892592Z",
     "start_time": "2019-02-15T05:58:32.886280Z"
    }
   },
   "outputs": [
    {
     "data": {
      "text/plain": [
       "7"
      ]
     },
     "execution_count": 30,
     "metadata": {},
     "output_type": "execute_result"
    }
   ],
   "source": [
    "x[0][0][0]"
   ]
  },
  {
   "cell_type": "code",
   "execution_count": 31,
   "metadata": {
    "ExecuteTime": {
     "end_time": "2019-02-15T05:58:38.645761Z",
     "start_time": "2019-02-15T05:58:38.640372Z"
    }
   },
   "outputs": [
    {
     "data": {
      "text/plain": [
       "6"
      ]
     },
     "execution_count": 31,
     "metadata": {},
     "output_type": "execute_result"
    }
   ],
   "source": [
    "x[0,0,1]"
   ]
  },
  {
   "cell_type": "code",
   "execution_count": 32,
   "metadata": {
    "ExecuteTime": {
     "end_time": "2019-02-15T05:58:49.868720Z",
     "start_time": "2019-02-15T05:58:49.863310Z"
    }
   },
   "outputs": [
    {
     "data": {
      "text/plain": [
       "array([7, 6, 9, 1, 0])"
      ]
     },
     "execution_count": 32,
     "metadata": {},
     "output_type": "execute_result"
    }
   ],
   "source": [
    "x[0,0,:]"
   ]
  },
  {
   "cell_type": "markdown",
   "metadata": {},
   "source": [
    "## Reshape the array "
   ]
  },
  {
   "cell_type": "code",
   "execution_count": 33,
   "metadata": {
    "ExecuteTime": {
     "end_time": "2019-02-15T05:59:52.398442Z",
     "start_time": "2019-02-15T05:59:52.391355Z"
    }
   },
   "outputs": [
    {
     "name": "stdout",
     "output_type": "stream",
     "text": [
      "[0 1 2 3 4 5 6 7 8 9]\n",
      "[[0 1]\n",
      " [2 3]\n",
      " [4 5]\n",
      " [6 7]\n",
      " [8 9]]\n"
     ]
    }
   ],
   "source": [
    "print(np.arange(10))\n",
    "print(np.arange(10).reshape(5,2))"
   ]
  },
  {
   "cell_type": "code",
   "execution_count": 35,
   "metadata": {
    "ExecuteTime": {
     "end_time": "2019-02-15T06:07:05.011781Z",
     "start_time": "2019-02-15T06:07:05.007859Z"
    }
   },
   "outputs": [
    {
     "name": "stdout",
     "output_type": "stream",
     "text": [
      "(10,)\n",
      "(1, 10)\n"
     ]
    }
   ],
   "source": [
    "x=np.arange(10)\n",
    "print(x.shape)\n",
    "print(x[np.newaxis,:].shape) #GIve array extra axis"
   ]
  },
  {
   "cell_type": "markdown",
   "metadata": {},
   "source": [
    "## Concatenate the array "
   ]
  },
  {
   "cell_type": "code",
   "execution_count": 39,
   "metadata": {
    "ExecuteTime": {
     "end_time": "2019-02-15T06:08:45.132979Z",
     "start_time": "2019-02-15T06:08:45.127133Z"
    }
   },
   "outputs": [
    {
     "data": {
      "text/plain": [
       "array([1, 2, 3, 4])"
      ]
     },
     "execution_count": 39,
     "metadata": {},
     "output_type": "execute_result"
    }
   ],
   "source": [
    "x1=np.array([1,2])\n",
    "x2=np.array([3,4])\n",
    "np.concatenate([x1,x2])"
   ]
  },
  {
   "cell_type": "code",
   "execution_count": 43,
   "metadata": {
    "ExecuteTime": {
     "end_time": "2019-02-15T06:10:31.147661Z",
     "start_time": "2019-02-15T06:10:31.142153Z"
    }
   },
   "outputs": [
    {
     "data": {
      "text/plain": [
       "array([[1, 2],\n",
       "       [3, 4]])"
      ]
     },
     "execution_count": 43,
     "metadata": {},
     "output_type": "execute_result"
    }
   ],
   "source": [
    "np.vstack((x1,x2))"
   ]
  },
  {
   "cell_type": "code",
   "execution_count": 44,
   "metadata": {
    "ExecuteTime": {
     "end_time": "2019-02-15T06:10:42.068944Z",
     "start_time": "2019-02-15T06:10:42.063667Z"
    }
   },
   "outputs": [
    {
     "data": {
      "text/plain": [
       "array([1, 2, 3, 4])"
      ]
     },
     "execution_count": 44,
     "metadata": {},
     "output_type": "execute_result"
    }
   ],
   "source": [
    "np.hstack((x1,x2))"
   ]
  },
  {
   "cell_type": "code",
   "execution_count": 50,
   "metadata": {
    "ExecuteTime": {
     "end_time": "2019-02-15T06:12:52.078408Z",
     "start_time": "2019-02-15T06:12:52.073097Z"
    }
   },
   "outputs": [
    {
     "data": {
      "text/plain": [
       "array([[1, 3],\n",
       "       [2, 4]])"
      ]
     },
     "execution_count": 50,
     "metadata": {},
     "output_type": "execute_result"
    }
   ],
   "source": [
    "np.c_[x1,x2] #x1 two row x2 two row : reshape (2,2)"
   ]
  },
  {
   "cell_type": "code",
   "execution_count": 51,
   "metadata": {
    "ExecuteTime": {
     "end_time": "2019-02-15T06:15:16.204457Z",
     "start_time": "2019-02-15T06:15:16.199612Z"
    }
   },
   "outputs": [
    {
     "data": {
      "text/plain": [
       "array([1, 2, 3, 4])"
      ]
     },
     "execution_count": 51,
     "metadata": {},
     "output_type": "execute_result"
    }
   ],
   "source": [
    "np.r_[x1,x2] #two row x1 two row x2 : reshape (0,4)"
   ]
  },
  {
   "cell_type": "code",
   "execution_count": 48,
   "metadata": {
    "ExecuteTime": {
     "end_time": "2019-02-15T06:12:13.586292Z",
     "start_time": "2019-02-15T06:12:13.579760Z"
    }
   },
   "outputs": [
    {
     "data": {
      "text/plain": [
       "array([[1, 2]])"
      ]
     },
     "execution_count": 48,
     "metadata": {},
     "output_type": "execute_result"
    }
   ],
   "source": [
    "x1[np.newaxis,:]"
   ]
  },
  {
   "cell_type": "markdown",
   "metadata": {},
   "source": [
    "## Split the array "
   ]
  },
  {
   "cell_type": "code",
   "execution_count": 52,
   "metadata": {
    "ExecuteTime": {
     "end_time": "2019-02-15T06:36:08.258779Z",
     "start_time": "2019-02-15T06:36:08.241909Z"
    }
   },
   "outputs": [
    {
     "data": {
      "text/plain": [
       "array([[ 0,  1,  2,  3],\n",
       "       [ 4,  5,  6,  7],\n",
       "       [ 8,  9, 10, 11],\n",
       "       [12, 13, 14, 15]])"
      ]
     },
     "execution_count": 52,
     "metadata": {},
     "output_type": "execute_result"
    }
   ],
   "source": [
    "grid=np.arange(16).reshape(4,4)\n",
    "grid"
   ]
  },
  {
   "cell_type": "code",
   "execution_count": 61,
   "metadata": {
    "ExecuteTime": {
     "end_time": "2019-02-15T06:37:55.146971Z",
     "start_time": "2019-02-15T06:37:55.141452Z"
    }
   },
   "outputs": [
    {
     "name": "stdout",
     "output_type": "stream",
     "text": [
      "[[0 1 2 3]\n",
      " [4 5 6 7]]\n",
      "[[ 8  9 10 11]\n",
      " [12 13 14 15]]\n"
     ]
    }
   ],
   "source": [
    "print(*np.vsplit(grid,[2]),sep='\\n')"
   ]
  },
  {
   "cell_type": "code",
   "execution_count": 62,
   "metadata": {
    "ExecuteTime": {
     "end_time": "2019-02-15T06:38:19.500259Z",
     "start_time": "2019-02-15T06:38:19.495171Z"
    }
   },
   "outputs": [
    {
     "name": "stdout",
     "output_type": "stream",
     "text": [
      "[[ 0  1]\n",
      " [ 4  5]\n",
      " [ 8  9]\n",
      " [12 13]]\n",
      "[[ 2  3]\n",
      " [ 6  7]\n",
      " [10 11]\n",
      " [14 15]]\n"
     ]
    }
   ],
   "source": [
    "print(*np.hsplit(grid,[2]),sep='\\n')"
   ]
  },
  {
   "cell_type": "markdown",
   "metadata": {},
   "source": [
    "## absolute "
   ]
  },
  {
   "cell_type": "code",
   "execution_count": 64,
   "metadata": {
    "ExecuteTime": {
     "end_time": "2019-02-15T06:39:15.604375Z",
     "start_time": "2019-02-15T06:39:15.599085Z"
    }
   },
   "outputs": [
    {
     "name": "stdout",
     "output_type": "stream",
     "text": [
      "[-2 -1  0  1  2]\n",
      "[2 1 0 1 2]\n",
      "[2 1 0 1 2]\n"
     ]
    }
   ],
   "source": [
    "x=np.arange(-2,3)\n",
    "print(x)\n",
    "print(np.absolute(x)) #as sames as np.abs()\n",
    "print(np.abs(x))"
   ]
  },
  {
   "cell_type": "markdown",
   "metadata": {},
   "source": [
    "## Exponential "
   ]
  },
  {
   "cell_type": "code",
   "execution_count": 66,
   "metadata": {
    "ExecuteTime": {
     "end_time": "2019-02-15T06:41:09.547318Z",
     "start_time": "2019-02-15T06:41:09.543235Z"
    }
   },
   "outputs": [
    {
     "name": "stdout",
     "output_type": "stream",
     "text": [
      "[ 2.71828183  7.3890561  20.08553692]\n"
     ]
    }
   ],
   "source": [
    "x=np.array([1,2,3])\n",
    "print(np.exp(x))"
   ]
  },
  {
   "cell_type": "markdown",
   "metadata": {},
   "source": [
    "## Power the array"
   ]
  },
  {
   "cell_type": "code",
   "execution_count": 68,
   "metadata": {
    "ExecuteTime": {
     "end_time": "2019-02-15T06:43:12.392789Z",
     "start_time": "2019-02-15T06:43:12.388286Z"
    }
   },
   "outputs": [
    {
     "name": "stdout",
     "output_type": "stream",
     "text": [
      "[1 4 9]\n",
      "[ 1  8 27]\n"
     ]
    }
   ],
   "source": [
    "x=np.array([1,2,3])\n",
    "print(np.power(x,2))\n",
    "print(np.power(x,3))"
   ]
  },
  {
   "cell_type": "markdown",
   "metadata": {},
   "source": [
    "## Log "
   ]
  },
  {
   "cell_type": "code",
   "execution_count": 125,
   "metadata": {
    "ExecuteTime": {
     "end_time": "2019-02-15T16:09:59.086347Z",
     "start_time": "2019-02-15T16:09:59.078051Z"
    }
   },
   "outputs": [
    {
     "name": "stdout",
     "output_type": "stream",
     "text": [
      "[  1  10 100]\n",
      "[0.         2.30258509 4.60517019]\n"
     ]
    }
   ],
   "source": [
    "x=np.array([1,10,100])\n",
    "print(x)\n",
    "print(np.log(x))    #nature log log(exp(x)) = x`"
   ]
  },
  {
   "cell_type": "code",
   "execution_count": 126,
   "metadata": {
    "ExecuteTime": {
     "end_time": "2019-02-15T16:09:59.507311Z",
     "start_time": "2019-02-15T16:09:59.500464Z"
    }
   },
   "outputs": [
    {
     "name": "stdout",
     "output_type": "stream",
     "text": [
      "[0. 1. 2.]\n"
     ]
    }
   ],
   "source": [
    "print(np.log10(x))"
   ]
  },
  {
   "cell_type": "code",
   "execution_count": 127,
   "metadata": {
    "ExecuteTime": {
     "end_time": "2019-02-15T16:09:59.955288Z",
     "start_time": "2019-02-15T16:09:59.950043Z"
    }
   },
   "outputs": [
    {
     "name": "stdout",
     "output_type": "stream",
     "text": [
      "[0.         3.32192809 6.64385619]\n"
     ]
    }
   ],
   "source": [
    "print(np.log2(x))"
   ]
  },
  {
   "cell_type": "code",
   "execution_count": 128,
   "metadata": {
    "ExecuteTime": {
     "end_time": "2019-02-15T16:10:00.405174Z",
     "start_time": "2019-02-15T16:10:00.400800Z"
    }
   },
   "outputs": [
    {
     "name": "stdout",
     "output_type": "stream",
     "text": [
      "[0.69314718 2.39789527 4.61512052]\n"
     ]
    }
   ],
   "source": [
    "print(np.log1p(x))"
   ]
  },
  {
   "cell_type": "code",
   "execution_count": 130,
   "metadata": {
    "ExecuteTime": {
     "end_time": "2019-02-15T16:11:22.538162Z",
     "start_time": "2019-02-15T16:11:22.532234Z"
    }
   },
   "outputs": [
    {
     "name": "stdout",
     "output_type": "stream",
     "text": [
      "[  1.69314718  10.69314718 100.69314718]\n"
     ]
    }
   ],
   "source": [
    "print(np.logaddexp(x,x)) #Logarithm of the sum of exponentiations of the inputs."
   ]
  },
  {
   "cell_type": "markdown",
   "metadata": {},
   "source": [
    "## Multipliy"
   ]
  },
  {
   "cell_type": "code",
   "execution_count": 78,
   "metadata": {
    "ExecuteTime": {
     "end_time": "2019-02-15T06:56:16.580049Z",
     "start_time": "2019-02-15T06:56:16.570957Z"
    }
   },
   "outputs": [
    {
     "name": "stdout",
     "output_type": "stream",
     "text": [
      "[ 1  4  9 16 25]\n",
      "[10 20 30 40 50]\n",
      "[10 20 30 40 50]\n"
     ]
    }
   ],
   "source": [
    "x=np.arange(1,6)\n",
    "y=np.arange(1,6)\n",
    "print(np.multiply(x,y)) #return x*y\n",
    "print(np.multiply(x,10,out=y)) #Change y to the result of x*10\n",
    "print(y)"
   ]
  },
  {
   "cell_type": "code",
   "execution_count": 79,
   "metadata": {
    "ExecuteTime": {
     "end_time": "2019-02-15T06:56:17.625297Z",
     "start_time": "2019-02-15T06:56:17.618660Z"
    }
   },
   "outputs": [
    {
     "data": {
      "text/plain": [
       "120"
      ]
     },
     "execution_count": 79,
     "metadata": {},
     "output_type": "execute_result"
    }
   ],
   "source": [
    "np.multiply.reduce(x)  #5*4*3*2*1"
   ]
  },
  {
   "cell_type": "code",
   "execution_count": 90,
   "metadata": {
    "ExecuteTime": {
     "end_time": "2019-02-15T07:01:27.139455Z",
     "start_time": "2019-02-15T07:01:27.134713Z"
    }
   },
   "outputs": [
    {
     "data": {
      "text/plain": [
       "array([ 2, 12,  5])"
      ]
     },
     "execution_count": 90,
     "metadata": {},
     "output_type": "execute_result"
    }
   ],
   "source": [
    "np.multiply.reduceat(x,[0,2,4]) #Base on [0,2,4] to split the data \n",
    "#[1,2,3,4,5] => [1,2], [3,4],[5] reduce separately"
   ]
  },
  {
   "cell_type": "code",
   "execution_count": 92,
   "metadata": {
    "ExecuteTime": {
     "end_time": "2019-02-15T07:08:24.060295Z",
     "start_time": "2019-02-15T07:08:24.051452Z"
    }
   },
   "outputs": [
    {
     "data": {
      "text/plain": [
       "array([[ 1,  2,  3,  4,  5],\n",
       "       [ 2,  4,  6,  8, 10],\n",
       "       [ 3,  6,  9, 12, 15],\n",
       "       [ 4,  8, 12, 16, 20],\n",
       "       [ 5, 10, 15, 20, 25]])"
      ]
     },
     "execution_count": 92,
     "metadata": {},
     "output_type": "execute_result"
    }
   ],
   "source": [
    "np.multiply.outer(x,x) #change shape (5,5) x*x like 99 multiplication table"
   ]
  },
  {
   "cell_type": "markdown",
   "metadata": {},
   "source": [
    "## Sum "
   ]
  },
  {
   "cell_type": "code",
   "execution_count": 98,
   "metadata": {
    "ExecuteTime": {
     "end_time": "2019-02-15T07:11:42.177169Z",
     "start_time": "2019-02-15T07:11:42.171663Z"
    }
   },
   "outputs": [
    {
     "name": "stdout",
     "output_type": "stream",
     "text": [
      "[[0 1 2 3 4]\n",
      " [5 6 7 8 9]]\n",
      "45\n"
     ]
    }
   ],
   "source": [
    "x=np.arange(10).reshape(2,5)\n",
    "print(x)\n",
    "print(x.sum())"
   ]
  },
  {
   "cell_type": "code",
   "execution_count": 100,
   "metadata": {
    "ExecuteTime": {
     "end_time": "2019-02-15T07:11:55.516048Z",
     "start_time": "2019-02-15T07:11:55.511043Z"
    }
   },
   "outputs": [
    {
     "data": {
      "text/plain": [
       "array([ 5,  7,  9, 11, 13])"
      ]
     },
     "execution_count": 100,
     "metadata": {},
     "output_type": "execute_result"
    }
   ],
   "source": [
    "np.sum(x,axis=0)"
   ]
  },
  {
   "cell_type": "code",
   "execution_count": 101,
   "metadata": {
    "ExecuteTime": {
     "end_time": "2019-02-15T07:12:04.804902Z",
     "start_time": "2019-02-15T07:12:04.799880Z"
    }
   },
   "outputs": [
    {
     "data": {
      "text/plain": [
       "array([10, 35])"
      ]
     },
     "execution_count": 101,
     "metadata": {},
     "output_type": "execute_result"
    }
   ],
   "source": [
    "np.sum(x,axis=1)"
   ]
  },
  {
   "cell_type": "markdown",
   "metadata": {},
   "source": [
    "## Max Min "
   ]
  },
  {
   "cell_type": "code",
   "execution_count": 104,
   "metadata": {
    "ExecuteTime": {
     "end_time": "2019-02-15T07:13:02.260569Z",
     "start_time": "2019-02-15T07:13:02.256272Z"
    }
   },
   "outputs": [
    {
     "name": "stdout",
     "output_type": "stream",
     "text": [
      "[[0 1 2 3 4]\n",
      " [5 6 7 8 9]]\n"
     ]
    }
   ],
   "source": [
    "x=np.arange(10).reshape(2,5)\n",
    "print(x)"
   ]
  },
  {
   "cell_type": "code",
   "execution_count": 105,
   "metadata": {
    "ExecuteTime": {
     "end_time": "2019-02-15T07:13:11.997854Z",
     "start_time": "2019-02-15T07:13:11.992113Z"
    }
   },
   "outputs": [
    {
     "data": {
      "text/plain": [
       "array([5, 6, 7, 8, 9])"
      ]
     },
     "execution_count": 105,
     "metadata": {},
     "output_type": "execute_result"
    }
   ],
   "source": [
    "np.max(x,axis=0)"
   ]
  },
  {
   "cell_type": "code",
   "execution_count": 106,
   "metadata": {
    "ExecuteTime": {
     "end_time": "2019-02-15T07:13:25.978080Z",
     "start_time": "2019-02-15T07:13:25.972485Z"
    }
   },
   "outputs": [
    {
     "data": {
      "text/plain": [
       "array([0, 5])"
      ]
     },
     "execution_count": 106,
     "metadata": {},
     "output_type": "execute_result"
    }
   ],
   "source": [
    "np.min(x,axis=1)"
   ]
  },
  {
   "cell_type": "markdown",
   "metadata": {},
   "source": [
    "## argmax argmin"
   ]
  },
  {
   "cell_type": "code",
   "execution_count": 122,
   "metadata": {
    "ExecuteTime": {
     "end_time": "2019-02-15T07:20:14.470810Z",
     "start_time": "2019-02-15T07:20:14.466760Z"
    }
   },
   "outputs": [
    {
     "name": "stdout",
     "output_type": "stream",
     "text": [
      "5\n",
      "7\n"
     ]
    }
   ],
   "source": [
    "x=np.array([1,4,3,5,2,7,3])\n",
    "print(np.argmax(x))  #Returns the indices of the maximum values along an axis.\n",
    "print(x[5])"
   ]
  },
  {
   "cell_type": "code",
   "execution_count": 112,
   "metadata": {
    "ExecuteTime": {
     "end_time": "2019-02-15T07:18:17.374695Z",
     "start_time": "2019-02-15T07:18:17.369892Z"
    }
   },
   "outputs": [
    {
     "name": "stdout",
     "output_type": "stream",
     "text": [
      "0\n",
      "1\n"
     ]
    }
   ],
   "source": [
    "print(np.argmin(x))\n",
    "print(x[0])"
   ]
  },
  {
   "cell_type": "markdown",
   "metadata": {},
   "source": [
    "## Extract the percent value from the array"
   ]
  },
  {
   "cell_type": "code",
   "execution_count": 123,
   "metadata": {
    "ExecuteTime": {
     "end_time": "2019-02-15T09:15:21.649027Z",
     "start_time": "2019-02-15T09:15:21.625529Z"
    }
   },
   "outputs": [
    {
     "name": "stdout",
     "output_type": "stream",
     "text": [
      "[0 1 2 3 4 5 6 7 8 9]\n",
      "[2.25 4.5  6.75]\n"
     ]
    }
   ],
   "source": [
    "x=np.arange(10)\n",
    "print(x)\n",
    "print(np.percentile(x,[25,50,75]))"
   ]
  },
  {
   "cell_type": "markdown",
   "metadata": {},
   "source": [
    "## Find the median "
   ]
  },
  {
   "cell_type": "code",
   "execution_count": 124,
   "metadata": {
    "ExecuteTime": {
     "end_time": "2019-02-15T16:09:16.985557Z",
     "start_time": "2019-02-15T16:09:16.948762Z"
    }
   },
   "outputs": [
    {
     "name": "stdout",
     "output_type": "stream",
     "text": [
      "4.5\n"
     ]
    }
   ],
   "source": [
    "x=np.arange(10)\n",
    "print(np.median(x))"
   ]
  },
  {
   "cell_type": "markdown",
   "metadata": {},
   "source": [
    "## Check equal"
   ]
  },
  {
   "cell_type": "code",
   "execution_count": 131,
   "metadata": {
    "ExecuteTime": {
     "end_time": "2019-02-15T16:14:02.615964Z",
     "start_time": "2019-02-15T16:14:02.607149Z"
    }
   },
   "outputs": [
    {
     "name": "stdout",
     "output_type": "stream",
     "text": [
      "[0 1 2 3 4]\n",
      "[False False False  True False]\n"
     ]
    }
   ],
   "source": [
    "x=np.arange(5)\n",
    "print(x)\n",
    "print(np.equal(x,3))"
   ]
  },
  {
   "cell_type": "markdown",
   "metadata": {},
   "source": [
    "## Specift the indice you need to add"
   ]
  },
  {
   "cell_type": "code",
   "execution_count": 137,
   "metadata": {
    "ExecuteTime": {
     "end_time": "2019-02-15T16:16:54.914378Z",
     "start_time": "2019-02-15T16:16:54.910134Z"
    }
   },
   "outputs": [
    {
     "name": "stdout",
     "output_type": "stream",
     "text": [
      "[0. 0. 5. 6. 0. 0. 0. 0. 0. 0.]\n"
     ]
    }
   ],
   "source": [
    "x=np.zeros(10)\n",
    "np.add.at(x,[2,3],[5,6])\n",
    "print(x)"
   ]
  },
  {
   "cell_type": "markdown",
   "metadata": {},
   "source": [
    "## Find indices where elements should be inserted to maintain order. "
   ]
  },
  {
   "cell_type": "code",
   "execution_count": 139,
   "metadata": {
    "ExecuteTime": {
     "end_time": "2019-02-15T16:25:20.113859Z",
     "start_time": "2019-02-15T16:25:20.107744Z"
    }
   },
   "outputs": [
    {
     "name": "stdout",
     "output_type": "stream",
     "text": [
      "[0 1 2 3 4 5 6 7 8 9]\n",
      "3\n"
     ]
    }
   ],
   "source": [
    "x=np.arange(10)\n",
    "print(x)\n",
    "print(np.searchsorted(x,2.5))"
   ]
  },
  {
   "cell_type": "markdown",
   "metadata": {},
   "source": [
    "## Returns the indices that would sort an array"
   ]
  },
  {
   "cell_type": "code",
   "execution_count": 142,
   "metadata": {
    "ExecuteTime": {
     "end_time": "2019-02-16T07:12:38.528677Z",
     "start_time": "2019-02-16T07:12:38.520134Z"
    }
   },
   "outputs": [
    {
     "name": "stdout",
     "output_type": "stream",
     "text": [
      "[2 5 3 4 6]\n",
      "[0 2 3 1 4]\n",
      "[2 3 4 5 6]\n"
     ]
    }
   ],
   "source": [
    "x=np.random.randint(0,10,5)\n",
    "print(x)\n",
    "print(np.argsort(x))\n",
    "print(x[np.argsort(x)])"
   ]
  },
  {
   "cell_type": "markdown",
   "metadata": {},
   "source": [
    "## Return element index to partition by and other index."
   ]
  },
  {
   "cell_type": "code",
   "execution_count": 151,
   "metadata": {
    "ExecuteTime": {
     "end_time": "2019-02-16T07:25:20.094006Z",
     "start_time": "2019-02-16T07:25:20.088130Z"
    }
   },
   "outputs": [
    {
     "name": "stdout",
     "output_type": "stream",
     "text": [
      "[4 9 4 5 2]\n",
      "[4 1 2 3 0]\n",
      "[4 2 1 3 0]\n",
      "[4 2 0 3 1]\n",
      "[4 0 2 3 1]\n",
      "[4 0 2 3 1]\n"
     ]
    }
   ],
   "source": [
    "x=np.random.randint(0,10,5)\n",
    "print(x)\n",
    "print(np.argpartition(x,0))\n",
    "print(np.argpartition(x,1))\n",
    "print(np.argpartition(x,2))\n",
    "print(np.argpartition(x,3))\n",
    "print(np.argpartition(x,4))"
   ]
  },
  {
   "cell_type": "markdown",
   "metadata": {},
   "source": [
    "##  Calculate the n-th discrete difference along the given axis."
   ]
  },
  {
   "cell_type": "code",
   "execution_count": 155,
   "metadata": {
    "ExecuteTime": {
     "end_time": "2019-02-16T07:33:12.284991Z",
     "start_time": "2019-02-16T07:33:12.277134Z"
    }
   },
   "outputs": [
    {
     "name": "stdout",
     "output_type": "stream",
     "text": [
      "[  1   2   4   7 -10]\n",
      "[  1   2   3 -17]\n",
      "[  1   1 -20]\n",
      "[  0 -21]\n"
     ]
    }
   ],
   "source": [
    "x=np.array([1,2,4,7,-10])\n",
    "print(x)   \n",
    "print(np.diff(x))\n",
    "print(np.diff(x,2))   #n represents that do n-th (n times) difference\n",
    "print(np.diff(x,3))   #n代表做幾次的差值"
   ]
  },
  {
   "cell_type": "markdown",
   "metadata": {},
   "source": [
    "## Permutation\n",
    "\n",
    "重新排列組合，或者根據數字0,n-1隨機排列"
   ]
  },
  {
   "cell_type": "code",
   "execution_count": 2,
   "metadata": {
    "ExecuteTime": {
     "end_time": "2019-04-05T13:54:16.706960Z",
     "start_time": "2019-04-05T13:54:16.696762Z"
    }
   },
   "outputs": [
    {
     "data": {
      "text/plain": [
       "array([2, 6, 9, 0, 4, 8, 5, 7, 1, 3])"
      ]
     },
     "execution_count": 2,
     "metadata": {},
     "output_type": "execute_result"
    }
   ],
   "source": [
    "#0~n-1 隨機排列\n",
    "np.random.permutation(10)"
   ]
  },
  {
   "cell_type": "code",
   "execution_count": 3,
   "metadata": {
    "ExecuteTime": {
     "end_time": "2019-04-05T13:54:35.240416Z",
     "start_time": "2019-04-05T13:54:35.234329Z"
    }
   },
   "outputs": [
    {
     "data": {
      "text/plain": [
       "array([0, 1, 2])"
      ]
     },
     "execution_count": 3,
     "metadata": {},
     "output_type": "execute_result"
    }
   ],
   "source": [
    "#array內隨機排列\n",
    "np.random.permutation([0,1,2])"
   ]
  },
  {
   "cell_type": "code",
   "execution_count": null,
   "metadata": {},
   "outputs": [],
   "source": []
  },
  {
   "cell_type": "code",
   "execution_count": null,
   "metadata": {},
   "outputs": [],
   "source": []
  },
  {
   "cell_type": "code",
   "execution_count": null,
   "metadata": {},
   "outputs": [],
   "source": []
  },
  {
   "cell_type": "code",
   "execution_count": null,
   "metadata": {},
   "outputs": [],
   "source": []
  }
 ],
 "metadata": {
  "hide_input": false,
  "kernelspec": {
   "display_name": "Python 3",
   "language": "python",
   "name": "python3"
  },
  "language_info": {
   "codemirror_mode": {
    "name": "ipython",
    "version": 3
   },
   "file_extension": ".py",
   "mimetype": "text/x-python",
   "name": "python",
   "nbconvert_exporter": "python",
   "pygments_lexer": "ipython3",
   "version": "3.7.1"
  },
  "toc": {
   "base_numbering": "1.",
   "nav_menu": {},
   "number_sections": true,
   "sideBar": true,
   "skip_h1_title": false,
   "title_cell": "Table of Contents",
   "title_sidebar": "Contents",
   "toc_cell": true,
   "toc_position": {
    "height": "calc(100% - 180px)",
    "left": "10px",
    "top": "150px",
    "width": "165px"
   },
   "toc_section_display": true,
   "toc_window_display": false
  },
  "varInspector": {
   "cols": {
    "lenName": 16,
    "lenType": 16,
    "lenVar": 40
   },
   "kernels_config": {
    "python": {
     "delete_cmd_postfix": "",
     "delete_cmd_prefix": "del ",
     "library": "var_list.py",
     "varRefreshCmd": "print(var_dic_list())"
    },
    "r": {
     "delete_cmd_postfix": ") ",
     "delete_cmd_prefix": "rm(",
     "library": "var_list.r",
     "varRefreshCmd": "cat(var_dic_list()) "
    }
   },
   "types_to_exclude": [
    "module",
    "function",
    "builtin_function_or_method",
    "instance",
    "_Feature"
   ],
   "window_display": false
  }
 },
 "nbformat": 4,
 "nbformat_minor": 2
}
